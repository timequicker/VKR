{
  "nbformat": 4,
  "nbformat_minor": 0,
  "metadata": {
    "colab": {
      "name": "ИФготовы.ipynb",
      "provenance": [],
      "collapsed_sections": [
        "y76PPPj_j9yO",
        "K6jZGTFDcNzV",
        "kjiuIU6LHAZU",
        "ZPFkp0oMsmRG",
        "XP2JaiHof7HQ",
        "UVwr1fmVvemr",
        "S0HKQfIKBokp",
        "xdo5-SNRZ6jO",
        "zDIs7PhmhZzX",
        "krfyfSOOgJfd",
        "qc4E5YdFYJZW",
        "PwdegJ2gYNp3",
        "cUGnaD5BYNxM",
        "PhhZomwQYNzn",
        "4WVMkmf1YwIX",
        "lgjcpFbqYyCi",
        "B3kI4NU5YyFK",
        "HxSPlmS2Y3ck",
        "D3ookxyFY3fN"
      ]
    },
    "kernelspec": {
      "name": "python3",
      "display_name": "Python 3"
    },
    "language_info": {
      "name": "python"
    }
  },
  "cells": [
    {
      "cell_type": "markdown",
      "source": [
        "# Служба системных разработок для госорганов (СКИФ)\n",
        "## ТЗ на разработку дашбоардов \n",
        "\n",
        "Набор данных, участвующий в разработке: *Источники финансирования.rpt*"
      ],
      "metadata": {
        "id": "x4pjnh2cZdb9"
      }
    },
    {
      "cell_type": "markdown",
      "source": [
        "## Импортирование библиотек и подготовка к подключению датасетов"
      ],
      "metadata": {
        "id": "a97Q7VNGIyAm"
      }
    },
    {
      "cell_type": "code",
      "source": [
        "import pandas as pd\n",
        "import numpy as np\n",
        "import seaborn as sns\n",
        "import matplotlib.pyplot as plt\n",
        "import os"
      ],
      "metadata": {
        "id": "wX6yJOgIIyAp"
      },
      "execution_count": null,
      "outputs": []
    },
    {
      "cell_type": "markdown",
      "source": [
        "Загрузка набора данных может осуществляться через Google Drive, поскольку объём файлов очень большой, а подгрузка через облако позволяет сэкономить время на этом процессе. Прописываем путь к папке с файлами, с которыми мы будем взаимодействовать."
      ],
      "metadata": {
        "id": "rSpzeYcWIyAq"
      }
    },
    {
      "cell_type": "markdown",
      "source": [
        "**ВЫБОР СРЕДЫ ЗАПУСКА** (выбор параметра Environment):\n",
        "\n",
        "- *Google* для Colab\n",
        "- *Anaconda* для Jupyter Notebook (Anaconda)\n",
        "\n"
      ],
      "metadata": {
        "id": "n2HowsuEIyAr"
      }
    },
    {
      "cell_type": "code",
      "source": [
        "Environment = 'Google' \n",
        "#Environment = \"Anaconda\""
      ],
      "metadata": {
        "id": "FeVJNg3rIyAr"
      },
      "execution_count": null,
      "outputs": []
    },
    {
      "cell_type": "code",
      "source": [
        "if Environment == 'Google':\n",
        "  from google.colab import drive\n",
        "  drive.mount('/content/drive')\n",
        "  path = \"/content/drive/My Drive/Практика/\"\n",
        "else:\n",
        "  path = \"downloads/\""
      ],
      "metadata": {
        "colab": {
          "base_uri": "https://localhost:8080/"
        },
        "outputId": "bdff0859-4788-4da2-f7f2-787786d12735",
        "id": "6OZp4PlqIyAs"
      },
      "execution_count": null,
      "outputs": [
        {
          "output_type": "stream",
          "name": "stdout",
          "text": [
            "Mounted at /content/drive\n"
          ]
        }
      ]
    },
    {
      "cell_type": "markdown",
      "source": [
        "![Рис. 1 Этапы процесса KDD](https://sun9-83.userapi.com/s/v1/if2/iQbEMi_IYdz6zskJ4F4nOJ9RXXcBhSBaCcs1PueK9bbNygyhjpp73hte2enPXKlhmnwW312G9Lq0lZdOY2z0R3Qt.jpg?size=875x584&quality=96&type=album)"
      ],
      "metadata": {
        "id": "3XNyaqJISCPw"
      }
    },
    {
      "cell_type": "markdown",
      "source": [
        "## Подготовка к подключению данных; Проверка на поля и их ожидаемый порядок"
      ],
      "metadata": {
        "id": "NyDRDltfypYJ"
      }
    },
    {
      "cell_type": "markdown",
      "source": [
        "* Файлы с расширением .rpt используются программами для экспортированных файлов отчета. Это, как правило, текстовые отчеты, фиксирующие подробную информацию о данных, собранных или сопоставленных программой.\n",
        "\n",
        "* Данные находятся в формате «с фиксированной длиной полей». Кодировка данных: UTF-8 со спецификацией.\n",
        "\n",
        "* Файл «Источники финансирования.rpt» открывался в программе \"Блокнот\". Были установлены имена полей, которые содержат как латинские, так и русские буквы.\tАнглоязычные названия полей нельзя назвать служебными/лишними.\n",
        "\n",
        "* Поле ID - совершенно непригодные к процессу анализа данные. Столбец с ними решено не считывать."
      ],
      "metadata": {
        "id": "Ofw4xG60MDau"
      }
    },
    {
      "cell_type": "markdown",
      "source": [
        "Названия полей:"
      ],
      "metadata": {
        "id": "VG19IWGbypYK"
      }
    },
    {
      "cell_type": "code",
      "source": [
        "cols_3= ['Period_Name','Source_Catalog_Code','Source_Code','Source_Name','ВБ','Адм','ИФ','ИФ Name','Утвержденные бюджетные назначения','Исполнено','Неисполненные назначения','ID']"
      ],
      "metadata": {
        "id": "6ak15omrypYK"
      },
      "execution_count": null,
      "outputs": []
    },
    {
      "cell_type": "markdown",
      "source": [
        "Чтение названий полей из файла загрузки, далее конвертирование списка названий в строку, удаление пробелов, повторение тех же операций на заранее заданный список названий, затем стравнение двух строк."
      ],
      "metadata": {
        "id": "Un-2LYzrypYL"
      }
    },
    {
      "cell_type": "code",
      "source": [
        "df_if = pd.read_fwf(os.path.join(path,\"Источники финансирования.rpt\"), nrows = 1)\n",
        "str4 = ''.join(str(e) for e in cols_3).replace(' ', '')\n",
        "str5 = ''.join(str(e) for e in df_if.columns).replace(' ', '')\n",
        "if str4 == str5:\n",
        "  print('Порядок верный')\n",
        "else:\n",
        "  print('Порядок НЕВЕРНЫЙ. Отредактируйте данные')"
      ],
      "metadata": {
        "colab": {
          "base_uri": "https://localhost:8080/"
        },
        "outputId": "5a938025-d903-4354-8a72-4ebfba5ce546",
        "id": "E3vAJ6XXypYL"
      },
      "execution_count": null,
      "outputs": [
        {
          "output_type": "stream",
          "name": "stdout",
          "text": [
            "Порядок верный\n"
          ]
        }
      ]
    },
    {
      "cell_type": "markdown",
      "source": [
        "Функция pd.read_fwf используется для чтения таблицы форматированных строк с фиксированной шириной в DataFrame. При просмотре файла было выявлено, что первая строка не несет в себе информации, поэтому она пропускается. Заголовки указываются вручную по названиям полей, так как в прочих случаях таблица считывалась неверно. Также для некоторых полей вручную задаются типы, так как данные поля содержат некоторые коды, которые могут начинаться с нуля, тогда при прочтении важно не упустить этот момент и не принимать такие поля за целочисленные. В дальнейшем, даже несмотря на конкретное указание типа, этим полям будет присвоен тип object из-за особенностей библиотеки pandas."
      ],
      "metadata": {
        "id": "zrOUfIghI-UA"
      }
    },
    {
      "cell_type": "markdown",
      "source": [
        "Считываем набор данных без столбца \"ID\":"
      ],
      "metadata": {
        "id": "kP4iPEWCypYM"
      }
    },
    {
      "cell_type": "code",
      "source": [
        "df_f = pd.read_fwf(os.path.join(path,\"Источники финансирования.rpt\"),skiprows = 1, header = 0, names = cols_3[:-1] , usecols = cols_3[:-1], dtype = {'ИФ Name': str})"
      ],
      "metadata": {
        "id": "g27j4EoOypYM"
      },
      "execution_count": null,
      "outputs": []
    },
    {
      "cell_type": "code",
      "source": [
        "df_f.head()"
      ],
      "metadata": {
        "colab": {
          "base_uri": "https://localhost:8080/",
          "height": 204
        },
        "outputId": "f5406a91-17b1-46ae-d0e5-b3d99485dbe4",
        "id": "ywYGq1-3ypYN"
      },
      "execution_count": null,
      "outputs": [
        {
          "output_type": "execute_result",
          "data": {
            "text/plain": [
              "  Period_Name Source_Catalog_Code Source_Code           Source_Name    ВБ  \\\n",
              "0    2007 год                 Гос         000  Российская Федерация  10.0   \n",
              "1    2007 год                 Гос         000  Российская Федерация   5.0   \n",
              "2    2007 год                 Гос         000  Российская Федерация   0.0   \n",
              "3    2007 год                 Гос         000  Российская Федерация   3.0   \n",
              "4    2007 год                 Гос         000  Российская Федерация   2.0   \n",
              "\n",
              "   Адм                 ИФ                                            ИФ Name  \\\n",
              "0  000  02010100100000710  Бюджетные кредиты, полученные от других бюджет...   \n",
              "1  000  02010200050000810  Кредиты, полученные в валюте Российской Федера...   \n",
              "2  000  01010000010000710  Размещение государственных ценных бумаг  Росси...   \n",
              "3  000  01010000010000710  Размещение государственных ценных бумаг  Росси...   \n",
              "4  000  01010000010000710  Размещение государственных ценных бумаг  Росси...   \n",
              "\n",
              "   Утвержденные бюджетные назначения   Исполнено  Неисполненные назначения  \n",
              "0                         14907900.0  13500000.0                 1407900.0  \n",
              "1                         -5800000.0  -5800000.0                       0.0  \n",
              "2                                7.0    109998.0                 -109991.0  \n",
              "3                                6.0        18.0                     -12.0  \n",
              "4                                2.0         6.0                      -4.0  "
            ],
            "text/html": [
              "\n",
              "  <div id=\"df-1120e27d-6e49-46e0-b7f2-b33ee9e63a0a\">\n",
              "    <div class=\"colab-df-container\">\n",
              "      <div>\n",
              "<style scoped>\n",
              "    .dataframe tbody tr th:only-of-type {\n",
              "        vertical-align: middle;\n",
              "    }\n",
              "\n",
              "    .dataframe tbody tr th {\n",
              "        vertical-align: top;\n",
              "    }\n",
              "\n",
              "    .dataframe thead th {\n",
              "        text-align: right;\n",
              "    }\n",
              "</style>\n",
              "<table border=\"1\" class=\"dataframe\">\n",
              "  <thead>\n",
              "    <tr style=\"text-align: right;\">\n",
              "      <th></th>\n",
              "      <th>Period_Name</th>\n",
              "      <th>Source_Catalog_Code</th>\n",
              "      <th>Source_Code</th>\n",
              "      <th>Source_Name</th>\n",
              "      <th>ВБ</th>\n",
              "      <th>Адм</th>\n",
              "      <th>ИФ</th>\n",
              "      <th>ИФ Name</th>\n",
              "      <th>Утвержденные бюджетные назначения</th>\n",
              "      <th>Исполнено</th>\n",
              "      <th>Неисполненные назначения</th>\n",
              "    </tr>\n",
              "  </thead>\n",
              "  <tbody>\n",
              "    <tr>\n",
              "      <th>0</th>\n",
              "      <td>2007 год</td>\n",
              "      <td>Гос</td>\n",
              "      <td>000</td>\n",
              "      <td>Российская Федерация</td>\n",
              "      <td>10.0</td>\n",
              "      <td>000</td>\n",
              "      <td>02010100100000710</td>\n",
              "      <td>Бюджетные кредиты, полученные от других бюджет...</td>\n",
              "      <td>14907900.0</td>\n",
              "      <td>13500000.0</td>\n",
              "      <td>1407900.0</td>\n",
              "    </tr>\n",
              "    <tr>\n",
              "      <th>1</th>\n",
              "      <td>2007 год</td>\n",
              "      <td>Гос</td>\n",
              "      <td>000</td>\n",
              "      <td>Российская Федерация</td>\n",
              "      <td>5.0</td>\n",
              "      <td>000</td>\n",
              "      <td>02010200050000810</td>\n",
              "      <td>Кредиты, полученные в валюте Российской Федера...</td>\n",
              "      <td>-5800000.0</td>\n",
              "      <td>-5800000.0</td>\n",
              "      <td>0.0</td>\n",
              "    </tr>\n",
              "    <tr>\n",
              "      <th>2</th>\n",
              "      <td>2007 год</td>\n",
              "      <td>Гос</td>\n",
              "      <td>000</td>\n",
              "      <td>Российская Федерация</td>\n",
              "      <td>0.0</td>\n",
              "      <td>000</td>\n",
              "      <td>01010000010000710</td>\n",
              "      <td>Размещение государственных ценных бумаг  Росси...</td>\n",
              "      <td>7.0</td>\n",
              "      <td>109998.0</td>\n",
              "      <td>-109991.0</td>\n",
              "    </tr>\n",
              "    <tr>\n",
              "      <th>3</th>\n",
              "      <td>2007 год</td>\n",
              "      <td>Гос</td>\n",
              "      <td>000</td>\n",
              "      <td>Российская Федерация</td>\n",
              "      <td>3.0</td>\n",
              "      <td>000</td>\n",
              "      <td>01010000010000710</td>\n",
              "      <td>Размещение государственных ценных бумаг  Росси...</td>\n",
              "      <td>6.0</td>\n",
              "      <td>18.0</td>\n",
              "      <td>-12.0</td>\n",
              "    </tr>\n",
              "    <tr>\n",
              "      <th>4</th>\n",
              "      <td>2007 год</td>\n",
              "      <td>Гос</td>\n",
              "      <td>000</td>\n",
              "      <td>Российская Федерация</td>\n",
              "      <td>2.0</td>\n",
              "      <td>000</td>\n",
              "      <td>01010000010000710</td>\n",
              "      <td>Размещение государственных ценных бумаг  Росси...</td>\n",
              "      <td>2.0</td>\n",
              "      <td>6.0</td>\n",
              "      <td>-4.0</td>\n",
              "    </tr>\n",
              "  </tbody>\n",
              "</table>\n",
              "</div>\n",
              "      <button class=\"colab-df-convert\" onclick=\"convertToInteractive('df-1120e27d-6e49-46e0-b7f2-b33ee9e63a0a')\"\n",
              "              title=\"Convert this dataframe to an interactive table.\"\n",
              "              style=\"display:none;\">\n",
              "        \n",
              "  <svg xmlns=\"http://www.w3.org/2000/svg\" height=\"24px\"viewBox=\"0 0 24 24\"\n",
              "       width=\"24px\">\n",
              "    <path d=\"M0 0h24v24H0V0z\" fill=\"none\"/>\n",
              "    <path d=\"M18.56 5.44l.94 2.06.94-2.06 2.06-.94-2.06-.94-.94-2.06-.94 2.06-2.06.94zm-11 1L8.5 8.5l.94-2.06 2.06-.94-2.06-.94L8.5 2.5l-.94 2.06-2.06.94zm10 10l.94 2.06.94-2.06 2.06-.94-2.06-.94-.94-2.06-.94 2.06-2.06.94z\"/><path d=\"M17.41 7.96l-1.37-1.37c-.4-.4-.92-.59-1.43-.59-.52 0-1.04.2-1.43.59L10.3 9.45l-7.72 7.72c-.78.78-.78 2.05 0 2.83L4 21.41c.39.39.9.59 1.41.59.51 0 1.02-.2 1.41-.59l7.78-7.78 2.81-2.81c.8-.78.8-2.07 0-2.86zM5.41 20L4 18.59l7.72-7.72 1.47 1.35L5.41 20z\"/>\n",
              "  </svg>\n",
              "      </button>\n",
              "      \n",
              "  <style>\n",
              "    .colab-df-container {\n",
              "      display:flex;\n",
              "      flex-wrap:wrap;\n",
              "      gap: 12px;\n",
              "    }\n",
              "\n",
              "    .colab-df-convert {\n",
              "      background-color: #E8F0FE;\n",
              "      border: none;\n",
              "      border-radius: 50%;\n",
              "      cursor: pointer;\n",
              "      display: none;\n",
              "      fill: #1967D2;\n",
              "      height: 32px;\n",
              "      padding: 0 0 0 0;\n",
              "      width: 32px;\n",
              "    }\n",
              "\n",
              "    .colab-df-convert:hover {\n",
              "      background-color: #E2EBFA;\n",
              "      box-shadow: 0px 1px 2px rgba(60, 64, 67, 0.3), 0px 1px 3px 1px rgba(60, 64, 67, 0.15);\n",
              "      fill: #174EA6;\n",
              "    }\n",
              "\n",
              "    [theme=dark] .colab-df-convert {\n",
              "      background-color: #3B4455;\n",
              "      fill: #D2E3FC;\n",
              "    }\n",
              "\n",
              "    [theme=dark] .colab-df-convert:hover {\n",
              "      background-color: #434B5C;\n",
              "      box-shadow: 0px 1px 3px 1px rgba(0, 0, 0, 0.15);\n",
              "      filter: drop-shadow(0px 1px 2px rgba(0, 0, 0, 0.3));\n",
              "      fill: #FFFFFF;\n",
              "    }\n",
              "  </style>\n",
              "\n",
              "      <script>\n",
              "        const buttonEl =\n",
              "          document.querySelector('#df-1120e27d-6e49-46e0-b7f2-b33ee9e63a0a button.colab-df-convert');\n",
              "        buttonEl.style.display =\n",
              "          google.colab.kernel.accessAllowed ? 'block' : 'none';\n",
              "\n",
              "        async function convertToInteractive(key) {\n",
              "          const element = document.querySelector('#df-1120e27d-6e49-46e0-b7f2-b33ee9e63a0a');\n",
              "          const dataTable =\n",
              "            await google.colab.kernel.invokeFunction('convertToInteractive',\n",
              "                                                     [key], {});\n",
              "          if (!dataTable) return;\n",
              "\n",
              "          const docLinkHtml = 'Like what you see? Visit the ' +\n",
              "            '<a target=\"_blank\" href=https://colab.research.google.com/notebooks/data_table.ipynb>data table notebook</a>'\n",
              "            + ' to learn more about interactive tables.';\n",
              "          element.innerHTML = '';\n",
              "          dataTable['output_type'] = 'display_data';\n",
              "          await google.colab.output.renderOutput(dataTable, element);\n",
              "          const docLink = document.createElement('div');\n",
              "          docLink.innerHTML = docLinkHtml;\n",
              "          element.appendChild(docLink);\n",
              "        }\n",
              "      </script>\n",
              "    </div>\n",
              "  </div>\n",
              "  "
            ]
          },
          "metadata": {},
          "execution_count": 7
        }
      ]
    },
    {
      "cell_type": "markdown",
      "source": [
        "## Тепловая карта"
      ],
      "metadata": {
        "id": "0SRMTlZ1ypYN"
      }
    },
    {
      "cell_type": "code",
      "source": [
        "plt.rcParams['figure.figsize']=8,8 \n",
        "cols_3 = df_f.columns\n",
        "\n",
        "# определяем цвета \n",
        "colours = [\"Blue\", \"Grey\"]\n",
        "sns.heatmap(df_f[cols_3].isnull(), cmap=sns.color_palette(colours))"
      ],
      "metadata": {
        "colab": {
          "base_uri": "https://localhost:8080/",
          "height": 705
        },
        "outputId": "0d4e94c4-4832-4b8b-8d5d-25f6521be792",
        "id": "QbZIAdpwypYO"
      },
      "execution_count": null,
      "outputs": [
        {
          "output_type": "execute_result",
          "data": {
            "text/plain": [
              "<matplotlib.axes._subplots.AxesSubplot at 0x7f13e00f6050>"
            ]
          },
          "metadata": {},
          "execution_count": 8
        },
        {
          "output_type": "display_data",
          "data": {
            "text/plain": [
              "<Figure size 576x576 with 2 Axes>"
            ],
            "image/png": "[encoded data removed]"
          },
          "metadata": {
            "needs_background": "light"
          }
        }
      ]
    },
    {
      "cell_type": "markdown",
      "source": [
        "* Серые участки - пустые (NaN) значения, синие - заполненные. В процессе работы над очисткой\\заменой пропущенных значений количество белых участков будет сведено к минимуму.\n",
        "\n",
        "* Чем больше на диаграмме данных, тем проще не заметить какие-то единичные\\маленькие очереди из пропущенных данных – наслоение слишком большое, их можно не увидеть. Для этого существует альтернатива в виде функции WhoIsNull().\n",
        "\n",
        "* Видим, что количество пропущенных значений минимально и распределено лишь между последними тремя атрибутами \"Утверждённые бюджетные значения\", \"Исполнено\" и \"Неисполненные значения\". "
      ],
      "metadata": {
        "id": "GV3hgMeMPiGi"
      }
    },
    {
      "cell_type": "markdown",
      "source": [
        "## Описательная статистика и анализ пропущенных значений"
      ],
      "metadata": {
        "id": "Elo9mFkAypYP"
      }
    },
    {
      "cell_type": "markdown",
      "source": [
        "Цели:\n",
        "* устранение шумов,\n",
        "* обработка недостающих данных и выбросов\n",
        "\n",
        "Качество входных данных априори неизвестно. А потому этап его оценки необходим. \n",
        "На дашборде будет отображена информация о качестве данных после очистки. \n",
        "Место отображения – кнопка с гиперссылкой на основном листе с дашбордом.\n"
      ],
      "metadata": {
        "id": "bGSOQhVXSpyU"
      }
    },
    {
      "cell_type": "markdown",
      "source": [
        "**Были реализованы следующие инструменты анализа:**\n",
        "- функция удаления колонок с определенным количеством пропущенных\n",
        "- функция удаления колонок с не уникальными значениями\n",
        "- функция удаления категориальных колонок, где содержится значение «не вычислено»\n",
        "\n",
        "Параметры для удаления от заказчика:"
      ],
      "metadata": {
        "id": "mmywD_sBJSUP"
      }
    },
    {
      "cell_type": "code",
      "source": [
        "REMOVE_RARE_INDICATOR = True\n",
        "PERCENT_REMOVE_RARE_INDICATOR = 99.5\n",
        "\n",
        "REMOVE_NOT_UNIQUE = True\n",
        "CORRELATION_MATRIX_CUT_INDICATOR = 0.8\n",
        "REMOVE_CORRELATION = True\n",
        "CHECK_CODES = True"
      ],
      "metadata": {
        "id": "EXHlL6ehJSUR"
      },
      "execution_count": null,
      "outputs": []
    },
    {
      "cell_type": "code",
      "source": [
        "def write_to_file(filename,array):\n",
        "  \"\"\" Файл будет сохранен в формате .txt\n",
        "  \"\"\"\n",
        "\n",
        "  f = open(filename, 'w')\n",
        "  array = map(lambda x: x+'\\n', array)\n",
        "  f.writelines(array)\n",
        "  f.close()\n",
        "  return \"Файл успешно записан\""
      ],
      "metadata": {
        "id": "U9KGkEDYJSUS"
      },
      "execution_count": null,
      "outputs": []
    },
    {
      "cell_type": "markdown",
      "source": [
        "Методы решения проблемы отсутствующих данных:\n",
        "* **Замена отсутствующих данных**.\n",
        "\n",
        "  Отсутствующие данные объектов можно заменить на конкретные числовые значения, для этого можно использовать метод fillna(). Этот метод не изменяет текущую структуру, он возвращает структуру DataFrame, созданную на базе существующей, с заменой NaN-значений на те, что переданы в метод в качестве аргумента. Данные можно заполнить средним значением по столбцу.\n",
        "В зависимости от задачи используется тот или иной метод заполнения отсутствующих элементов, это может быть нулевое значение, математическое ожидание, медиана и т.п. Для замены NaN-элементов на конкретные значения, можно использовать интерполяцию, которая реализована в методе interpolate(), алгоритм интерполяции задается через аргументы метода. \n",
        "\n",
        "\n",
        "* **Удаление объектов/столбцов с отсутствующими данными.**\n",
        "\n",
        "  Довольно часто используемый подход при работе с отсутствующими данными – это удаление записей (строк) или полей (столбцов), в которых встречаются пропуски. Для того, чтобы удалить все объекты, которые содержат значения NaN существует метод dropna() без аргументов. Вместо записей, можно удалить поля, для этого нужно вызвать метод dropna с аргументом axis=1. Pandas позволяет задать порог на количество не-NaN элементов. \n",
        "\n",
        "В зависимости от специфики каждого конкретного атрибута будет выбираться оптимальный из этих двух способов.\n",
        "\n"
      ],
      "metadata": {
        "id": "omxswfjfJSUT"
      }
    },
    {
      "cell_type": "code",
      "source": [
        "df_f.info()"
      ],
      "metadata": {
        "colab": {
          "base_uri": "https://localhost:8080/"
        },
        "outputId": "497a864a-97d2-469e-f73f-81d6e9b99dce",
        "id": "O_IFdJNlypYP"
      },
      "execution_count": null,
      "outputs": [
        {
          "output_type": "stream",
          "name": "stdout",
          "text": [
            "<class 'pandas.core.frame.DataFrame'>\n",
            "RangeIndex: 16383 entries, 0 to 16382\n",
            "Data columns (total 11 columns):\n",
            " #   Column                             Non-Null Count  Dtype  \n",
            "---  ------                             --------------  -----  \n",
            " 0   Period_Name                        16383 non-null  object \n",
            " 1   Source_Catalog_Code                16382 non-null  object \n",
            " 2   Source_Code                        16382 non-null  object \n",
            " 3   Source_Name                        16382 non-null  object \n",
            " 4   ВБ                                 16382 non-null  float64\n",
            " 5   Адм                                16382 non-null  object \n",
            " 6   ИФ                                 16382 non-null  object \n",
            " 7   ИФ Name                            16382 non-null  object \n",
            " 8   Утвержденные бюджетные назначения  14967 non-null  float64\n",
            " 9   Исполнено                          13628 non-null  float64\n",
            " 10  Неисполненные назначения           11817 non-null  float64\n",
            "dtypes: float64(4), object(7)\n",
            "memory usage: 1.4+ MB\n"
          ]
        }
      ]
    },
    {
      "cell_type": "markdown",
      "source": [
        "Можно сделать вывод, что типы данных считались верно. Также видно, что во всех столбцах есть отсутствующие значения. Посмотрим теперь на количество пропусков в столбцах:"
      ],
      "metadata": {
        "id": "qHFmdivgypYQ"
      }
    },
    {
      "cell_type": "code",
      "source": [
        "def get_missing_information(df,sorted=False):\n",
        "  missing_values = df_f.isnull().sum()\n",
        "  missing_percent_values = df_f.isnull().sum()/df_f.shape[0] * 100\n",
        "  missing = pd.DataFrame({'Пропущено значений': missing_values, 'Пропущено в %': missing_percent_values}).round(2)\n",
        "  if sorted:\n",
        "    missing = missing.sort_values(by=\"Пропущено значений\")\n",
        "  return missing"
      ],
      "metadata": {
        "id": "mxb2DoKOypYQ"
      },
      "execution_count": null,
      "outputs": []
    },
    {
      "cell_type": "code",
      "source": [
        "missing = get_missing_information(df_f)\n",
        "missing"
      ],
      "metadata": {
        "colab": {
          "base_uri": "https://localhost:8080/",
          "height": 390
        },
        "outputId": "0d81bfcc-fae7-47a8-d279-ffd2e2a51d18",
        "id": "Y4oyJxwjypYR"
      },
      "execution_count": null,
      "outputs": [
        {
          "output_type": "execute_result",
          "data": {
            "text/plain": [
              "                                   Пропущено значений  Пропущено в %\n",
              "Period_Name                                         0           0.00\n",
              "Source_Catalog_Code                                 1           0.01\n",
              "Source_Code                                         1           0.01\n",
              "Source_Name                                         1           0.01\n",
              "ВБ                                                  1           0.01\n",
              "Адм                                                 1           0.01\n",
              "ИФ                                                  1           0.01\n",
              "ИФ Name                                             1           0.01\n",
              "Утвержденные бюджетные назначения                1416           8.64\n",
              "Исполнено                                        2755          16.82\n",
              "Неисполненные назначения                         4566          27.87"
            ],
            "text/html": [
              "\n",
              "  <div id=\"df-5bbb3b3d-3f64-4e45-b84f-c5d58cc7136f\">\n",
              "    <div class=\"colab-df-container\">\n",
              "      <div>\n",
              "<style scoped>\n",
              "    .dataframe tbody tr th:only-of-type {\n",
              "        vertical-align: middle;\n",
              "    }\n",
              "\n",
              "    .dataframe tbody tr th {\n",
              "        vertical-align: top;\n",
              "    }\n",
              "\n",
              "    .dataframe thead th {\n",
              "        text-align: right;\n",
              "    }\n",
              "</style>\n",
              "<table border=\"1\" class=\"dataframe\">\n",
              "  <thead>\n",
              "    <tr style=\"text-align: right;\">\n",
              "      <th></th>\n",
              "      <th>Пропущено значений</th>\n",
              "      <th>Пропущено в %</th>\n",
              "    </tr>\n",
              "  </thead>\n",
              "  <tbody>\n",
              "    <tr>\n",
              "      <th>Period_Name</th>\n",
              "      <td>0</td>\n",
              "      <td>0.00</td>\n",
              "    </tr>\n",
              "    <tr>\n",
              "      <th>Source_Catalog_Code</th>\n",
              "      <td>1</td>\n",
              "      <td>0.01</td>\n",
              "    </tr>\n",
              "    <tr>\n",
              "      <th>Source_Code</th>\n",
              "      <td>1</td>\n",
              "      <td>0.01</td>\n",
              "    </tr>\n",
              "    <tr>\n",
              "      <th>Source_Name</th>\n",
              "      <td>1</td>\n",
              "      <td>0.01</td>\n",
              "    </tr>\n",
              "    <tr>\n",
              "      <th>ВБ</th>\n",
              "      <td>1</td>\n",
              "      <td>0.01</td>\n",
              "    </tr>\n",
              "    <tr>\n",
              "      <th>Адм</th>\n",
              "      <td>1</td>\n",
              "      <td>0.01</td>\n",
              "    </tr>\n",
              "    <tr>\n",
              "      <th>ИФ</th>\n",
              "      <td>1</td>\n",
              "      <td>0.01</td>\n",
              "    </tr>\n",
              "    <tr>\n",
              "      <th>ИФ Name</th>\n",
              "      <td>1</td>\n",
              "      <td>0.01</td>\n",
              "    </tr>\n",
              "    <tr>\n",
              "      <th>Утвержденные бюджетные назначения</th>\n",
              "      <td>1416</td>\n",
              "      <td>8.64</td>\n",
              "    </tr>\n",
              "    <tr>\n",
              "      <th>Исполнено</th>\n",
              "      <td>2755</td>\n",
              "      <td>16.82</td>\n",
              "    </tr>\n",
              "    <tr>\n",
              "      <th>Неисполненные назначения</th>\n",
              "      <td>4566</td>\n",
              "      <td>27.87</td>\n",
              "    </tr>\n",
              "  </tbody>\n",
              "</table>\n",
              "</div>\n",
              "      <button class=\"colab-df-convert\" onclick=\"convertToInteractive('df-5bbb3b3d-3f64-4e45-b84f-c5d58cc7136f')\"\n",
              "              title=\"Convert this dataframe to an interactive table.\"\n",
              "              style=\"display:none;\">\n",
              "        \n",
              "  <svg xmlns=\"http://www.w3.org/2000/svg\" height=\"24px\"viewBox=\"0 0 24 24\"\n",
              "       width=\"24px\">\n",
              "    <path d=\"M0 0h24v24H0V0z\" fill=\"none\"/>\n",
              "    <path d=\"M18.56 5.44l.94 2.06.94-2.06 2.06-.94-2.06-.94-.94-2.06-.94 2.06-2.06.94zm-11 1L8.5 8.5l.94-2.06 2.06-.94-2.06-.94L8.5 2.5l-.94 2.06-2.06.94zm10 10l.94 2.06.94-2.06 2.06-.94-2.06-.94-.94-2.06-.94 2.06-2.06.94z\"/><path d=\"M17.41 7.96l-1.37-1.37c-.4-.4-.92-.59-1.43-.59-.52 0-1.04.2-1.43.59L10.3 9.45l-7.72 7.72c-.78.78-.78 2.05 0 2.83L4 21.41c.39.39.9.59 1.41.59.51 0 1.02-.2 1.41-.59l7.78-7.78 2.81-2.81c.8-.78.8-2.07 0-2.86zM5.41 20L4 18.59l7.72-7.72 1.47 1.35L5.41 20z\"/>\n",
              "  </svg>\n",
              "      </button>\n",
              "      \n",
              "  <style>\n",
              "    .colab-df-container {\n",
              "      display:flex;\n",
              "      flex-wrap:wrap;\n",
              "      gap: 12px;\n",
              "    }\n",
              "\n",
              "    .colab-df-convert {\n",
              "      background-color: #E8F0FE;\n",
              "      border: none;\n",
              "      border-radius: 50%;\n",
              "      cursor: pointer;\n",
              "      display: none;\n",
              "      fill: #1967D2;\n",
              "      height: 32px;\n",
              "      padding: 0 0 0 0;\n",
              "      width: 32px;\n",
              "    }\n",
              "\n",
              "    .colab-df-convert:hover {\n",
              "      background-color: #E2EBFA;\n",
              "      box-shadow: 0px 1px 2px rgba(60, 64, 67, 0.3), 0px 1px 3px 1px rgba(60, 64, 67, 0.15);\n",
              "      fill: #174EA6;\n",
              "    }\n",
              "\n",
              "    [theme=dark] .colab-df-convert {\n",
              "      background-color: #3B4455;\n",
              "      fill: #D2E3FC;\n",
              "    }\n",
              "\n",
              "    [theme=dark] .colab-df-convert:hover {\n",
              "      background-color: #434B5C;\n",
              "      box-shadow: 0px 1px 3px 1px rgba(0, 0, 0, 0.15);\n",
              "      filter: drop-shadow(0px 1px 2px rgba(0, 0, 0, 0.3));\n",
              "      fill: #FFFFFF;\n",
              "    }\n",
              "  </style>\n",
              "\n",
              "      <script>\n",
              "        const buttonEl =\n",
              "          document.querySelector('#df-5bbb3b3d-3f64-4e45-b84f-c5d58cc7136f button.colab-df-convert');\n",
              "        buttonEl.style.display =\n",
              "          google.colab.kernel.accessAllowed ? 'block' : 'none';\n",
              "\n",
              "        async function convertToInteractive(key) {\n",
              "          const element = document.querySelector('#df-5bbb3b3d-3f64-4e45-b84f-c5d58cc7136f');\n",
              "          const dataTable =\n",
              "            await google.colab.kernel.invokeFunction('convertToInteractive',\n",
              "                                                     [key], {});\n",
              "          if (!dataTable) return;\n",
              "\n",
              "          const docLinkHtml = 'Like what you see? Visit the ' +\n",
              "            '<a target=\"_blank\" href=https://colab.research.google.com/notebooks/data_table.ipynb>data table notebook</a>'\n",
              "            + ' to learn more about interactive tables.';\n",
              "          element.innerHTML = '';\n",
              "          dataTable['output_type'] = 'display_data';\n",
              "          await google.colab.output.renderOutput(dataTable, element);\n",
              "          const docLink = document.createElement('div');\n",
              "          docLink.innerHTML = docLinkHtml;\n",
              "          element.appendChild(docLink);\n",
              "        }\n",
              "      </script>\n",
              "    </div>\n",
              "  </div>\n",
              "  "
            ]
          },
          "metadata": {},
          "execution_count": 13
        }
      ]
    },
    {
      "cell_type": "markdown",
      "source": [
        "Анализ пропущенных значений выявил довольно приличные результаты в сравнении с показателями наборов данных по доходам\\расходам. Самый высокий процент пропусков наблюдается в столбце \"Неисполненные значения\" и составляет около 28 пунктов.\n"
      ],
      "metadata": {
        "id": "MsnhfUKNypYS"
      }
    },
    {
      "cell_type": "markdown",
      "source": [
        "Тем не менее, атрибуты с процентом пропуска, первышающим установленный заказчиком ранее, могут быть удалены. Для автоматизации этого процесса создана функция del_rare_columns:"
      ],
      "metadata": {
        "id": "gaJOSxu_Jk5l"
      }
    },
    {
      "cell_type": "code",
      "source": [
        "def del_rare_columns(df, REMOVE_RARE_INDICATOR, PERCENT_REMOVE_RARE_INDICATOR):\n",
        "  df_1 = df.copy()\n",
        "  if REMOVE_RARE_INDICATOR == True:\n",
        "    ll = [df_1.columns[i] for i in range(len(df_1.columns)) if get_missing_information(df_1)['Пропущено в %'].iloc[i]>PERCENT_REMOVE_RARE_INDICATOR]\n",
        "    print(ll)\n",
        "    for t in ll:\n",
        "      del df_1[t]\n",
        "  return df_1"
      ],
      "metadata": {
        "id": "IlYI82Q5Jk5m"
      },
      "execution_count": null,
      "outputs": []
    },
    {
      "cell_type": "code",
      "source": [
        "df_f = del_rare_columns(df_f,REMOVE_RARE_INDICATOR, PERCENT_REMOVE_RARE_INDICATOR)"
      ],
      "metadata": {
        "colab": {
          "base_uri": "https://localhost:8080/"
        },
        "outputId": "de3bf9f8-a7d6-4f55-e458-74991f9b59bf",
        "id": "7wtJgUBSJk5m"
      },
      "execution_count": null,
      "outputs": [
        {
          "output_type": "stream",
          "name": "stdout",
          "text": [
            "[]\n"
          ]
        }
      ]
    },
    {
      "cell_type": "markdown",
      "source": [
        "На выводе получен пустой список, поскольку атрибутов с процентом пропущенных значений равным или превышающим установленное ранее заказчиком значение, не обнаружилось."
      ],
      "metadata": {
        "id": "3986IJNYM8tW"
      }
    },
    {
      "cell_type": "markdown",
      "source": [
        "## Уникальные значения"
      ],
      "metadata": {
        "id": "qm7_-D1nypYT"
      }
    },
    {
      "cell_type": "markdown",
      "source": [
        "Рассмотрим следующие поля: 'Period_Name', 'Source_Catalog_Code', 'Source_Code','Source_Name', 'ВБ', 'Адм', 'ИФ', 'ИФ Name'."
      ],
      "metadata": {
        "id": "dpKIA2d-ypYT"
      }
    },
    {
      "cell_type": "code",
      "source": [
        "df_f['ВБ'].unique()"
      ],
      "metadata": {
        "colab": {
          "base_uri": "https://localhost:8080/"
        },
        "outputId": "0ddece58-ecb6-4502-d5e6-86c16a862757",
        "id": "RkN8AzCgypYU"
      },
      "execution_count": null,
      "outputs": [
        {
          "output_type": "execute_result",
          "data": {
            "text/plain": [
              "array([10.,  5.,  0.,  3.,  2.,  4.,  9., 13., 11., 12.,  7.,  6., nan])"
            ]
          },
          "metadata": {},
          "execution_count": 19
        }
      ]
    },
    {
      "cell_type": "code",
      "source": [
        "df_f['Адм'].unique()"
      ],
      "metadata": {
        "colab": {
          "base_uri": "https://localhost:8080/"
        },
        "outputId": "a3da568d-2d8e-44a4-c287-e5fd03643f44",
        "id": "LJ9lfBvhypYU"
      },
      "execution_count": null,
      "outputs": [
        {
          "output_type": "execute_result",
          "data": {
            "text/plain": [
              "array(['000', '021', '052', '053', '050', '100', '020', '370', '022',\n",
              "       '304', 'И70', '171', '071', '305', 'И80', '056', '417', '165',\n",
              "       '077', '157', '096', '392', '048', '049', '004', '051', '395',\n",
              "       '055', '007', '086', '023', '806', '188', '060', '172', '318',\n",
              "       '721', '054', '350', '161', '182', '498', '081', '177', '074',\n",
              "       '073', '186', '168', nan], dtype=object)"
            ]
          },
          "metadata": {},
          "execution_count": 20
        }
      ]
    },
    {
      "cell_type": "markdown",
      "source": [
        "Видно, что в них всего совсем немного уникальных значений в рамках обширного набора данных. Можно рассмотреть вопрос их удаления."
      ],
      "metadata": {
        "id": "HZQ5KelfypYV"
      }
    },
    {
      "cell_type": "code",
      "source": [
        "df_f['Source_Catalog_Code'].unique()"
      ],
      "metadata": {
        "colab": {
          "base_uri": "https://localhost:8080/"
        },
        "outputId": "a17a3ccd-acbe-4a01-e5b2-17da9209059b",
        "id": "RvrbdnBFypYV"
      },
      "execution_count": null,
      "outputs": [
        {
          "output_type": "execute_result",
          "data": {
            "text/plain": [
              "array(['Гос', 'МНЦП', 'Рег', 'СБС', 'ТГВФ', 'ЗАТО', 'НЕ ВЫЧИСЛЕН',\n",
              "       'ПосОБР', nan], dtype=object)"
            ]
          },
          "metadata": {},
          "execution_count": 21
        }
      ]
    },
    {
      "cell_type": "code",
      "source": [
        "df_f['Source_Code'].unique()"
      ],
      "metadata": {
        "colab": {
          "base_uri": "https://localhost:8080/"
        },
        "outputId": "38aa1675-910f-4718-a37e-38da00a0ff2e",
        "id": "FO6MxkNnypYW"
      },
      "execution_count": null,
      "outputs": [
        {
          "output_type": "execute_result",
          "data": {
            "text/plain": [
              "array(['000', '01001', '10007', '14008', '28009', '35012', '52001',\n",
              "       '70088', '01', '14900', '69008', '70090', '02', '04', '07', '0909',\n",
              "       '19', '56040', '87015', '00', '59', '14', '58900', '05', '44',\n",
              "       '69900', 'НЕ ВЫЧИСЛЕН', '18', '56', '56005', '56006', '56009',\n",
              "       '56010', '56011', '11', '12', '56900', '35', '66900', '33', '21',\n",
              "       '03', '16', '60', '56003', '87', '09000', '09', '21034', '52',\n",
              "       '84900', '87007', '45', '45900', '49', '63001', '29900', '06',\n",
              "       '02011', '59023', '59025', '5604016', '5603218', '32051',\n",
              "       '5604306', '41013', '90005', '68900', '90010', '90900', '29', '30',\n",
              "       '87900', '01000', '56048', '87010', '19031', '19036', '42010',\n",
              "       '60038', '52033', '42002', '49900', '17071', '59001', '01024',\n",
              "       '01025', '32000', '32', '56002', '56013', '94', '02001', '56001',\n",
              "       '80', '88', '52900', '07019', '90009', '9000', '25', '60001',\n",
              "       '69010', '10', '67900', '94900', '94000', '08', '22', nan],\n",
              "      dtype=object)"
            ]
          },
          "metadata": {},
          "execution_count": 22
        }
      ]
    },
    {
      "cell_type": "markdown",
      "source": [
        "В составе некоторых атрибутов находим значения \"НЕ ВЫЧИСЛЕН\". Строки с такими показателями будем удалять, так как они не несут смысла в рамках анализа."
      ],
      "metadata": {
        "id": "xs2So79eypYW"
      }
    },
    {
      "cell_type": "code",
      "source": [
        "from collections import Counter"
      ],
      "metadata": {
        "id": "zUwD4bGxypYX"
      },
      "execution_count": null,
      "outputs": []
    },
    {
      "cell_type": "code",
      "source": [
        "Counter(df_f['Source_Code']).most_common(20)"
      ],
      "metadata": {
        "colab": {
          "base_uri": "https://localhost:8080/"
        },
        "outputId": "76000784-8e59-4836-c52c-708437b9db28",
        "id": "6LFA2T4dypYY"
      },
      "execution_count": null,
      "outputs": [
        {
          "output_type": "execute_result",
          "data": {
            "text/plain": [
              "[('01', 5900),\n",
              " ('000', 4210),\n",
              " ('02', 1169),\n",
              " ('07', 587),\n",
              " ('00', 582),\n",
              " ('44', 484),\n",
              " ('04', 260),\n",
              " ('03', 173),\n",
              " ('87', 138),\n",
              " ('05', 133),\n",
              " ('НЕ ВЫЧИСЛЕН', 112),\n",
              " ('52001', 101),\n",
              " ('87900', 100),\n",
              " ('11', 96),\n",
              " ('56900', 94),\n",
              " ('59', 92),\n",
              " ('29900', 85),\n",
              " ('56', 75),\n",
              " ('12', 72),\n",
              " ('01001', 71)]"
            ]
          },
          "metadata": {},
          "execution_count": 24
        }
      ]
    },
    {
      "cell_type": "markdown",
      "source": [
        "Такие сведения об уникальных значениях полей могут пригодиться в процессе анализа выбросов, который будет реализован позже."
      ],
      "metadata": {
        "id": "EFotf3rHypYY"
      }
    },
    {
      "cell_type": "code",
      "source": [
        "def plot_un_bar(df, b):\n",
        "  plt.rcParams['figure.figsize']=8,8 \n",
        "  s = sns.countplot(x = b, data = df)\n",
        "  for p in s.patches:\n",
        "    s.annotate(format(p.get_height(), '.1f'), \n",
        "               (p.get_x() + p.get_width() / 2., p.get_height()), \n",
        "                ha = 'center', va = 'center', \n",
        "                xytext = (0, 9), \n",
        "                textcoords = 'offset points')\n",
        "  plt.show()"
      ],
      "metadata": {
        "id": "A0luioLAK6dA"
      },
      "execution_count": null,
      "outputs": []
    },
    {
      "cell_type": "markdown",
      "source": [
        "Построим диаграмму с целью проанализировать распределение данных по региональному признаку."
      ],
      "metadata": {
        "id": "ujYDZ9HkK6dB"
      }
    },
    {
      "cell_type": "code",
      "source": [
        "plot_un_bar(df_f, 'Source_Catalog_Code')"
      ],
      "metadata": {
        "colab": {
          "base_uri": "https://localhost:8080/",
          "height": 498
        },
        "outputId": "55699c0d-3808-4453-dab2-23812700db46",
        "id": "yBwLK0bwK6dB"
      },
      "execution_count": null,
      "outputs": [
        {
          "output_type": "display_data",
          "data": {
            "text/plain": [
              "<Figure size 576x576 with 1 Axes>"
            ],
            "image/png": "[encoded data removed]"
          },
          "metadata": {
            "needs_background": "light"
          }
        }
      ]
    },
    {
      "cell_type": "markdown",
      "source": [
        "* В результате построения диаграммы было выяснено, что основной акцент в датасете делается на региональный сектор - здесь наблюдается доминирующее количество информации - свыше 10 тысяч записей, что в сумме превышает данные по всем остальным показателям.\n",
        "\n",
        "* На втором месте по количеству данных находится государственный (федеральный) сектор."
      ],
      "metadata": {
        "id": "8REXMyTMK6dC"
      }
    },
    {
      "cell_type": "markdown",
      "source": [
        "Посмотрим, какие образования относятся к тем или иным группам:"
      ],
      "metadata": {
        "id": "AnOe7jGwK6dC"
      }
    },
    {
      "cell_type": "code",
      "source": [
        "Counter(df_f[df_f['Source_Catalog_Code'] == 'Гос'].Source_Name)"
      ],
      "metadata": {
        "colab": {
          "base_uri": "https://localhost:8080/"
        },
        "outputId": "8c537d99-bd10-4bd0-d1ee-ff3e52f0663e",
        "id": "kTqmbJsZK6dD"
      },
      "execution_count": null,
      "outputs": [
        {
          "output_type": "execute_result",
          "data": {
            "text/plain": [
              "Counter({'Российская Федерация': 4210})"
            ]
          },
          "metadata": {},
          "execution_count": 28
        }
      ]
    },
    {
      "cell_type": "code",
      "source": [
        "Counter(df_f[df_f['Source_Catalog_Code'] == 'СБС'].Source_Name).most_common(10)"
      ],
      "metadata": {
        "colab": {
          "base_uri": "https://localhost:8080/"
        },
        "outputId": "d3eccd85-9d29-4460-9249-d9d1ab94a31c",
        "id": "T5NTrUIBK6dD"
      },
      "execution_count": null,
      "outputs": [
        {
          "output_type": "execute_result",
          "data": {
            "text/plain": [
              "[('Бюджет субъекта - Ханты-Мансийский автономный округ - Югра', 100),\n",
              " ('Бюджет субъекта - Пермский край', 94),\n",
              " ('Бюджет субъекта - Волгоградская область', 85),\n",
              " ('Бюджет субъекта - Ростовская область', 69),\n",
              " ('Бюджет субъекта - Республика Ингушетия', 63),\n",
              " ('Бюджет субъекта - Ямало-Ненецкий автономный округ', 46),\n",
              " ('Бюджет субъекта - Ленинградская область', 41),\n",
              " ('Бюджет субъекта - Челябинская область', 37),\n",
              " ('Бюджет субъекта - Омская область', 31),\n",
              " ('Бюджет субъекта - Ненецкий автономный округ', 25)]"
            ]
          },
          "metadata": {},
          "execution_count": 30
        }
      ]
    },
    {
      "cell_type": "code",
      "source": [
        "Counter(df_f[df_f['Source_Catalog_Code'] == 'МНЦП'].Source_Name).most_common(10)"
      ],
      "metadata": {
        "colab": {
          "base_uri": "https://localhost:8080/"
        },
        "outputId": "52114352-e863-4070-fd8d-9170efee56f6",
        "id": "spf0cyJlK6dE"
      },
      "execution_count": null,
      "outputs": [
        {
          "output_type": "execute_result",
          "data": {
            "text/plain": [
              "[('Азовский райфинотдел', 101),\n",
              " ('Абзелиловское РАЙФУ', 71),\n",
              " ('Чернушинский', 54),\n",
              " ('Чучковский', 51),\n",
              " ('г.Губаха', 50),\n",
              " ('г.Когалым', 41),\n",
              " ('г.Кунгур', 36),\n",
              " ('Козульский', 36),\n",
              " ('г. Нижний Новгород', 33),\n",
              " ('г.Новый Уренгой', 32)]"
            ]
          },
          "metadata": {},
          "execution_count": 31
        }
      ]
    },
    {
      "cell_type": "code",
      "source": [
        "Counter(df_f[df_f['Source_Catalog_Code'] == 'Рег'].Source_Name).most_common(10)"
      ],
      "metadata": {
        "colab": {
          "base_uri": "https://localhost:8080/"
        },
        "outputId": "95262fcc-8b92-46a4-8466-9d81e4bc4592",
        "id": "7gdsFA0PK6dE"
      },
      "execution_count": null,
      "outputs": [
        {
          "output_type": "execute_result",
          "data": {
            "text/plain": [
              "[('Республика Башкортостан', 5900),\n",
              " ('Республика Бурятия', 1169),\n",
              " ('Республика Коми', 582),\n",
              " ('Субъекты РФ', 582),\n",
              " ('Курская область', 484),\n",
              " ('Кабардино-Балкарская Республика', 260),\n",
              " ('Республика Дагестан', 173),\n",
              " ('Республика Калмыкия', 133),\n",
              " ('Ханты-Мансийский автономный округ - Югра', 116),\n",
              " ('Республика Татарстан', 96)]"
            ]
          },
          "metadata": {},
          "execution_count": 32
        }
      ]
    },
    {
      "cell_type": "code",
      "source": [
        "Counter(df_f[df_f['Source_Catalog_Code'] == 'ТГВФ'].Source_Name)"
      ],
      "metadata": {
        "colab": {
          "base_uri": "https://localhost:8080/"
        },
        "outputId": "c641b383-339d-4dfb-e1c6-27ae8084493c",
        "id": "O9N0KVbIK6dF"
      },
      "execution_count": null,
      "outputs": [
        {
          "output_type": "execute_result",
          "data": {
            "text/plain": [
              "Counter({'ТГВФ - Ямало-Ненецкий автономный округ': 14,\n",
              "         'ФОМС - Республика Мордовия': 10})"
            ]
          },
          "metadata": {},
          "execution_count": 33
        }
      ]
    },
    {
      "cell_type": "markdown",
      "source": [
        "## Визуализация"
      ],
      "metadata": {
        "id": "W2WaXipzypYd"
      }
    },
    {
      "cell_type": "markdown",
      "source": [
        "Для более наглядной работы с данными напишем несколько функций для визуализации информации, с которой мы работаем. Это поможет сделать некоторые выводы и правильно расставить акценты в последующем анализе."
      ],
      "metadata": {
        "id": "sN_TzVVNOrDb"
      }
    },
    {
      "cell_type": "code",
      "source": [
        "def plot_un_bar_top(df, b,n):\n",
        "  plt.rcParams['figure.figsize']=8,8 \n",
        "  s = sns.countplot(x = b, data = df,order = df_f.value_counts(df[b]).iloc[:n].index, palette=sns.color_palette(\"GnBu_d\", n_colors=17))\n",
        "  for p in s.patches:\n",
        "    s.annotate(format(p.get_height(), '.1f'), \n",
        "               (p.get_x() + p.get_width() / 2., p.get_height()), \n",
        "                ha = 'center', va = 'center', \n",
        "                xytext = (0, 9), \n",
        "                textcoords = 'offset points')\n",
        "  plt.xticks( rotation='vertical')\n",
        "  plt.show()"
      ],
      "metadata": {
        "id": "QvMRV2eBypYe"
      },
      "execution_count": null,
      "outputs": []
    },
    {
      "cell_type": "code",
      "source": [
        "def plot_un_bar_bot(df, b,n):\n",
        "  plt.rcParams['figure.figsize']=8,8 \n",
        "  s = sns.countplot(x = b, data = df,order = df_f.value_counts(df[b]).iloc[-15:].index, palette=sns.color_palette(\"GnBu_d\", n_colors=17))\n",
        "  for p in s.patches:\n",
        "    s.annotate(format(p.get_height(), '.1f'), \n",
        "               (p.get_x() + p.get_width() / 2., p.get_height()), \n",
        "                ha = 'center', va = 'center', \n",
        "                xytext = (0, 9), \n",
        "                textcoords = 'offset points')\n",
        "  plt.xticks(rotation='vertical')\n",
        "  plt.show()"
      ],
      "metadata": {
        "id": "HqQ2WRqHypYe"
      },
      "execution_count": null,
      "outputs": []
    },
    {
      "cell_type": "code",
      "source": [
        "plot_un_bar_top(df_f, 'Source_Code', 10)"
      ],
      "metadata": {
        "colab": {
          "base_uri": "https://localhost:8080/",
          "height": 506
        },
        "outputId": "94405dde-3d1d-4007-8e68-147ebf47d55d",
        "id": "UZP5nXsCypYf"
      },
      "execution_count": null,
      "outputs": [
        {
          "output_type": "display_data",
          "data": {
            "text/plain": [
              "<Figure size 576x576 with 1 Axes>"
            ],
            "image/png": "[encoded data removed]"
          },
          "metadata": {
            "needs_background": "light"
          }
        }
      ]
    },
    {
      "cell_type": "markdown",
      "source": [
        "Наблюдаем доминирующее количество значений \"01\" и \"000\""
      ],
      "metadata": {
        "id": "AL3OOpfnypYf"
      }
    },
    {
      "cell_type": "code",
      "source": [
        "df_f['Source_Name'].unique()"
      ],
      "metadata": {
        "colab": {
          "base_uri": "https://localhost:8080/"
        },
        "outputId": "3a63cdfe-2db3-41a8-e889-9cb45fbdad0e",
        "id": "2uHZeIAzypYg"
      },
      "execution_count": null,
      "outputs": [
        {
          "output_type": "execute_result",
          "data": {
            "text/plain": [
              "array(['Российская Федерация', 'Абзелиловское РАЙФУ', 'Моздокский район',\n",
              "       'г. Малгобек', 'г.Суздаль', 'Гурьевск', 'Азовский райфинотдел',\n",
              "       'район Забайкальский', 'Республика Башкортостан',\n",
              "       'Бюджет субъекта - Республика Ингушетия', 'Миасский ГО',\n",
              "       'район Калганский', 'Республика Бурятия',\n",
              "       'Кабардино-Балкарская Республика', 'Республика Коми',\n",
              "       'ФОМС - Республика Мордовия', 'ЗАТО Звездный', 'Чернушинский',\n",
              "       'р.Кондинский', 'Субъекты РФ', 'Рязанская область',\n",
              "       'Республика Ингушетия', 'Бюджет субъекта - Ростовская область',\n",
              "       'Республика Калмыкия', 'Курская область',\n",
              "       'Бюджет субъекта - Челябинская область', 'НЕ ВЫЧИСЛЕНО',\n",
              "       'Краснодарский край', 'Пермский край', 'г.Губаха', 'г.Добрянка',\n",
              "       'г.Кунгур', 'г.Лысьва', 'г.Соликамск', 'Республика Татарстан',\n",
              "       'Республика Тыва', 'Бюджет субъекта - Пермский край',\n",
              "       'Калининградская область', 'Бюджет субъекта - Тульская область',\n",
              "       'Ивановская область', 'Красноярский край', 'Ставропольский край',\n",
              "       'Республика Дагестан', 'Республика Саха (Якутия)',\n",
              "       'Саратовская область', 'г.Березники',\n",
              "       'Ханты-Мансийский автономный округ - Югра',\n",
              "       'Муниципальные образования - Республика Мордовия',\n",
              "       'Республика Мордовия', 'г.Пятигорск', 'Омская область',\n",
              "       'Бюджет субъекта - Ненецкий автономный округ', 'г.Когалым',\n",
              "       'Ленинградская область', 'Бюджет субъекта - Ленинградская область',\n",
              "       'Мурманская область', 'Велижский',\n",
              "       'Бюджет субъекта - Волгоградская область', 'Республика Карелия',\n",
              "       'Курумканский район', 'Чучковский', 'Шиловский',\n",
              "       'Чернушинский муниципальный район (собствен. бюджет)',\n",
              "       'Усть-Качкинское сельское поселение', 'г. Нижний Новгород',\n",
              "       'Юсьвинский муниципальный район (собствен. бюджет)',\n",
              "       'Костромской муниципальный район', 'г.Новый Уренгой',\n",
              "       'Бюджет субъекта - Ульяновская область', 'Приуральский район',\n",
              "       'Бюджет субъекта - Ямало-Ненецкий автономный округ',\n",
              "       'Волгоградская область', 'Вологодская область',\n",
              "       'Бюджет субъекта - Ханты-Мансийский автономный округ - Югра',\n",
              "       'Муниципальные образования - Республика Башкортостан',\n",
              "       'г.Кудымкар', 'Ханты-Мансийский автономный округ', 'г.Нягань',\n",
              "       'Ирбейский', 'Козульский', 'г.Похвистнево', 'Энгельсский',\n",
              "       'г.Омск', 'г.Тольятти', 'Бюджет субъекта - Мурманская область',\n",
              "       'г.Яровое', 'Ермишинский', 'Караидельское РАЙФУ',\n",
              "       'Кармаскалинское РАЙФУ',\n",
              "       'Муниципальные образования - Нижегородская область',\n",
              "       'Нижегородская область', 'г.Александровск', 'г.Чусовой',\n",
              "       'Чеченская республика', 'Баргузинский район', 'г.Пермь',\n",
              "       'Республика Хакасия', 'Чукотский автономный округ',\n",
              "       'Бюджет субъекта - Омская область', 'Ижемский', 'Североморск',\n",
              "       'Шурышкарский район', 'ТГВФ - Ямало-Ненецкий автономный округ',\n",
              "       'Астраханская область', 'Александрово-Гайский', 'Снежинский ГО',\n",
              "       'Республика Северная Осетия-Алания',\n",
              "       'Бюджет субъекта - Тюменская область',\n",
              "       'Бюджет субъекта - Чеченская Республика',\n",
              "       'Муниципальные образования - Чеченская Республика',\n",
              "       'Республика Марий Эл', 'Хабаровский край', nan], dtype=object)"
            ]
          },
          "metadata": {},
          "execution_count": 42
        }
      ]
    },
    {
      "cell_type": "markdown",
      "source": [
        "Топ 10 субъектов по количеству записей"
      ],
      "metadata": {
        "id": "MTY53bVEypYg"
      }
    },
    {
      "cell_type": "code",
      "source": [
        "plot_un_bar_top(df_f, 'Source_Name', 10)"
      ],
      "metadata": {
        "colab": {
          "base_uri": "https://localhost:8080/",
          "height": 727
        },
        "outputId": "a7ef9a01-9b29-40d1-820b-f1c6c2e47f4b",
        "id": "SAk8gzPOypYh"
      },
      "execution_count": null,
      "outputs": [
        {
          "output_type": "display_data",
          "data": {
            "text/plain": [
              "<Figure size 576x576 with 1 Axes>"
            ],
            "image/png": "[encoded data removed]"
          },
          "metadata": {
            "needs_background": "light"
          }
        }
      ]
    },
    {
      "cell_type": "markdown",
      "source": [
        "Больше всего данных обнаружено по республике Башкортостан, на втором по значимости месте Российская Федерация. Это довольно странная динамика, которая нуждается в проверке."
      ],
      "metadata": {
        "id": "2rPmVdKF3v1V"
      }
    },
    {
      "cell_type": "markdown",
      "source": [
        "Наименьшее количество записей в следующих субъектах:"
      ],
      "metadata": {
        "id": "Xw52HcpEypYh"
      }
    },
    {
      "cell_type": "code",
      "source": [
        "plot_un_bar_bot(df_f, 'Source_Name', 10)"
      ],
      "metadata": {
        "colab": {
          "base_uri": "https://localhost:8080/",
          "height": 796
        },
        "outputId": "fc4fe6f3-6932-4383-f9ff-e6f9e6212f77",
        "id": "tGzDw9dDypYh"
      },
      "execution_count": null,
      "outputs": [
        {
          "output_type": "display_data",
          "data": {
            "text/plain": [
              "<Figure size 576x576 with 1 Axes>"
            ],
            "image/png": "[encoded data removed]"
          },
          "metadata": {
            "needs_background": "light"
          }
        }
      ]
    },
    {
      "cell_type": "markdown",
      "source": [
        "В некоторых областях страны количество данных настолько незначительно, что исчисляется 1-7 строками."
      ],
      "metadata": {
        "id": "jrkNEb64ypYi"
      }
    },
    {
      "cell_type": "markdown",
      "source": [
        "## Матрица корреляции"
      ],
      "metadata": {
        "id": "YFFWa6x0Lp--"
      }
    },
    {
      "cell_type": "code",
      "source": [
        "corr_matrix = df_f.corr().abs()\n",
        "painted_corr_matrix = corr_matrix.style.applymap(lambda x: 'background-color : red' if x>CORRELATION_MATRIX_CUT_INDICATOR else '')\n",
        "painted_corr_matrix"
      ],
      "metadata": {
        "colab": {
          "base_uri": "https://localhost:8080/",
          "height": 173
        },
        "outputId": "4037ccd9-1ec0-406c-e6a1-941254933e00",
        "id": "aIsPdzU8Ltcu"
      },
      "execution_count": null,
      "outputs": [
        {
          "output_type": "execute_result",
          "data": {
            "text/plain": [
              "<pandas.io.formats.style.Styler at 0x7f13df84cb90>"
            ],
            "text/html": [
              "<style type=\"text/css\">\n",
              "#T_5e0cf_row0_col0, #T_5e0cf_row1_col1, #T_5e0cf_row2_col2, #T_5e0cf_row3_col3 {\n",
              "  background-color: red;\n",
              "}\n",
              "</style>\n",
              "<table id=\"T_5e0cf_\" class=\"dataframe\">\n",
              "  <thead>\n",
              "    <tr>\n",
              "      <th class=\"blank level0\" >&nbsp;</th>\n",
              "      <th class=\"col_heading level0 col0\" >ВБ</th>\n",
              "      <th class=\"col_heading level0 col1\" >Утвержденные бюджетные назначения</th>\n",
              "      <th class=\"col_heading level0 col2\" >Исполнено</th>\n",
              "      <th class=\"col_heading level0 col3\" >Неисполненные назначения</th>\n",
              "    </tr>\n",
              "  </thead>\n",
              "  <tbody>\n",
              "    <tr>\n",
              "      <th id=\"T_5e0cf_level0_row0\" class=\"row_heading level0 row0\" >ВБ</th>\n",
              "      <td id=\"T_5e0cf_row0_col0\" class=\"data row0 col0\" >1.000000</td>\n",
              "      <td id=\"T_5e0cf_row0_col1\" class=\"data row0 col1\" >0.000159</td>\n",
              "      <td id=\"T_5e0cf_row0_col2\" class=\"data row0 col2\" >0.003952</td>\n",
              "      <td id=\"T_5e0cf_row0_col3\" class=\"data row0 col3\" >0.014114</td>\n",
              "    </tr>\n",
              "    <tr>\n",
              "      <th id=\"T_5e0cf_level0_row1\" class=\"row_heading level0 row1\" >Утвержденные бюджетные назначения</th>\n",
              "      <td id=\"T_5e0cf_row1_col0\" class=\"data row1 col0\" >0.000159</td>\n",
              "      <td id=\"T_5e0cf_row1_col1\" class=\"data row1 col1\" >1.000000</td>\n",
              "      <td id=\"T_5e0cf_row1_col2\" class=\"data row1 col2\" >0.131929</td>\n",
              "      <td id=\"T_5e0cf_row1_col3\" class=\"data row1 col3\" >0.041604</td>\n",
              "    </tr>\n",
              "    <tr>\n",
              "      <th id=\"T_5e0cf_level0_row2\" class=\"row_heading level0 row2\" >Исполнено</th>\n",
              "      <td id=\"T_5e0cf_row2_col0\" class=\"data row2 col0\" >0.003952</td>\n",
              "      <td id=\"T_5e0cf_row2_col1\" class=\"data row2 col1\" >0.131929</td>\n",
              "      <td id=\"T_5e0cf_row2_col2\" class=\"data row2 col2\" >1.000000</td>\n",
              "      <td id=\"T_5e0cf_row2_col3\" class=\"data row2 col3\" >0.737361</td>\n",
              "    </tr>\n",
              "    <tr>\n",
              "      <th id=\"T_5e0cf_level0_row3\" class=\"row_heading level0 row3\" >Неисполненные назначения</th>\n",
              "      <td id=\"T_5e0cf_row3_col0\" class=\"data row3 col0\" >0.014114</td>\n",
              "      <td id=\"T_5e0cf_row3_col1\" class=\"data row3 col1\" >0.041604</td>\n",
              "      <td id=\"T_5e0cf_row3_col2\" class=\"data row3 col2\" >0.737361</td>\n",
              "      <td id=\"T_5e0cf_row3_col3\" class=\"data row3 col3\" >1.000000</td>\n",
              "    </tr>\n",
              "  </tbody>\n",
              "</table>\n"
            ]
          },
          "metadata": {},
          "execution_count": 58
        }
      ]
    },
    {
      "cell_type": "code",
      "source": [
        "def corrX_orig(df, delete=REMOVE_CORRELATION,cut = CORRELATION_MATRIX_CUT_INDICATOR) :\n",
        "  if delete:\n",
        "    str_cols = np.array(df.dtypes[df.dtypes==\"object\"].index)\n",
        "    df_nums = df.drop(columns=str_cols)\n",
        "    corr_mtx = df_nums.corr().abs()\n",
        "    avg_corr = corr_mtx.mean(axis = 1)\n",
        "    up = corr_mtx.where(np.triu(np.ones(corr_mtx.shape), k=1).astype(bool))\n",
        "    \n",
        "    drop = list()\n",
        "\n",
        "    for row in range(len(up)-1):\n",
        "        col_idx = row + 1\n",
        "        for col in range (col_idx, len(up)):\n",
        "            if(corr_mtx.iloc[row, col] > cut):\n",
        "                if(avg_corr.iloc[row] > avg_corr.iloc[col]): \n",
        "                    drop.append(row)\n",
        "                else: \n",
        "                    drop.append(col)\n",
        "    \n",
        "    drop_set = list(set(drop))\n",
        "    dropcols_names = list(df_nums.columns[[item for item in drop_set]])\n",
        "    \n",
        "    return(dropcols_names)\n",
        "  else:\n",
        "    print(\"Удаление не требуется, вызов функции пропускается.\")"
      ],
      "metadata": {
        "id": "Z5DPZPiFLtcw"
      },
      "execution_count": null,
      "outputs": []
    },
    {
      "cell_type": "code",
      "source": [
        "cols_to_drop = corrX_orig(df_f)"
      ],
      "metadata": {
        "id": "KNtuZ_-rLtcx"
      },
      "execution_count": null,
      "outputs": []
    },
    {
      "cell_type": "code",
      "source": [
        "new_df_3 = df_f.drop(columns=cols_to_drop)"
      ],
      "metadata": {
        "id": "QClpI1odLtcy"
      },
      "execution_count": null,
      "outputs": []
    },
    {
      "cell_type": "code",
      "source": [
        "corr_matrix = new_df_3.corr().abs()\n",
        "painted_corr_matrix = corr_matrix.style.applymap(lambda x: 'background-color : red' if x>CORRELATION_MATRIX_CUT_INDICATOR else '')\n",
        "painted_corr_matrix"
      ],
      "metadata": {
        "colab": {
          "base_uri": "https://localhost:8080/",
          "height": 173
        },
        "outputId": "c1ad97de-9396-4057-b750-ac2bd854e13a",
        "id": "uVwezOB-Ltcz"
      },
      "execution_count": null,
      "outputs": [
        {
          "output_type": "execute_result",
          "data": {
            "text/plain": [
              "<pandas.io.formats.style.Styler at 0x7f13def51990>"
            ],
            "text/html": [
              "<style type=\"text/css\">\n",
              "#T_6b900_row0_col0, #T_6b900_row1_col1, #T_6b900_row2_col2, #T_6b900_row3_col3 {\n",
              "  background-color: red;\n",
              "}\n",
              "</style>\n",
              "<table id=\"T_6b900_\" class=\"dataframe\">\n",
              "  <thead>\n",
              "    <tr>\n",
              "      <th class=\"blank level0\" >&nbsp;</th>\n",
              "      <th class=\"col_heading level0 col0\" >ВБ</th>\n",
              "      <th class=\"col_heading level0 col1\" >Утвержденные бюджетные назначения</th>\n",
              "      <th class=\"col_heading level0 col2\" >Исполнено</th>\n",
              "      <th class=\"col_heading level0 col3\" >Неисполненные назначения</th>\n",
              "    </tr>\n",
              "  </thead>\n",
              "  <tbody>\n",
              "    <tr>\n",
              "      <th id=\"T_6b900_level0_row0\" class=\"row_heading level0 row0\" >ВБ</th>\n",
              "      <td id=\"T_6b900_row0_col0\" class=\"data row0 col0\" >1.000000</td>\n",
              "      <td id=\"T_6b900_row0_col1\" class=\"data row0 col1\" >0.000159</td>\n",
              "      <td id=\"T_6b900_row0_col2\" class=\"data row0 col2\" >0.003952</td>\n",
              "      <td id=\"T_6b900_row0_col3\" class=\"data row0 col3\" >0.014114</td>\n",
              "    </tr>\n",
              "    <tr>\n",
              "      <th id=\"T_6b900_level0_row1\" class=\"row_heading level0 row1\" >Утвержденные бюджетные назначения</th>\n",
              "      <td id=\"T_6b900_row1_col0\" class=\"data row1 col0\" >0.000159</td>\n",
              "      <td id=\"T_6b900_row1_col1\" class=\"data row1 col1\" >1.000000</td>\n",
              "      <td id=\"T_6b900_row1_col2\" class=\"data row1 col2\" >0.131929</td>\n",
              "      <td id=\"T_6b900_row1_col3\" class=\"data row1 col3\" >0.041604</td>\n",
              "    </tr>\n",
              "    <tr>\n",
              "      <th id=\"T_6b900_level0_row2\" class=\"row_heading level0 row2\" >Исполнено</th>\n",
              "      <td id=\"T_6b900_row2_col0\" class=\"data row2 col0\" >0.003952</td>\n",
              "      <td id=\"T_6b900_row2_col1\" class=\"data row2 col1\" >0.131929</td>\n",
              "      <td id=\"T_6b900_row2_col2\" class=\"data row2 col2\" >1.000000</td>\n",
              "      <td id=\"T_6b900_row2_col3\" class=\"data row2 col3\" >0.737361</td>\n",
              "    </tr>\n",
              "    <tr>\n",
              "      <th id=\"T_6b900_level0_row3\" class=\"row_heading level0 row3\" >Неисполненные назначения</th>\n",
              "      <td id=\"T_6b900_row3_col0\" class=\"data row3 col0\" >0.014114</td>\n",
              "      <td id=\"T_6b900_row3_col1\" class=\"data row3 col1\" >0.041604</td>\n",
              "      <td id=\"T_6b900_row3_col2\" class=\"data row3 col2\" >0.737361</td>\n",
              "      <td id=\"T_6b900_row3_col3\" class=\"data row3 col3\" >1.000000</td>\n",
              "    </tr>\n",
              "  </tbody>\n",
              "</table>\n"
            ]
          },
          "metadata": {},
          "execution_count": 62
        }
      ]
    },
    {
      "cell_type": "code",
      "source": [
        "new_df_3.head()"
      ],
      "metadata": {
        "colab": {
          "base_uri": "https://localhost:8080/",
          "height": 204
        },
        "outputId": "98375f96-df79-4a56-f710-654d071b99da",
        "id": "aH4dtI7fLtc3"
      },
      "execution_count": null,
      "outputs": [
        {
          "output_type": "execute_result",
          "data": {
            "text/plain": [
              "  Period_Name Source_Catalog_Code Source_Code           Source_Name    ВБ  \\\n",
              "0    2007 год                 Гос         000  Российская Федерация  10.0   \n",
              "1    2007 год                 Гос         000  Российская Федерация   5.0   \n",
              "2    2007 год                 Гос         000  Российская Федерация   0.0   \n",
              "3    2007 год                 Гос         000  Российская Федерация   3.0   \n",
              "4    2007 год                 Гос         000  Российская Федерация   2.0   \n",
              "\n",
              "   Адм                 ИФ                                            ИФ Name  \\\n",
              "0  000  02010100100000710  Бюджетные кредиты, полученные от других бюджет...   \n",
              "1  000  02010200050000810  Кредиты, полученные в валюте Российской Федера...   \n",
              "2  000  01010000010000710  Размещение государственных ценных бумаг  Росси...   \n",
              "3  000  01010000010000710  Размещение государственных ценных бумаг  Росси...   \n",
              "4  000  01010000010000710  Размещение государственных ценных бумаг  Росси...   \n",
              "\n",
              "   Утвержденные бюджетные назначения   Исполнено  Неисполненные назначения  \n",
              "0                         14907900.0  13500000.0                 1407900.0  \n",
              "1                         -5800000.0  -5800000.0                       0.0  \n",
              "2                                7.0    109998.0                 -109991.0  \n",
              "3                                6.0        18.0                     -12.0  \n",
              "4                                2.0         6.0                      -4.0  "
            ],
            "text/html": [
              "\n",
              "  <div id=\"df-06355f0c-eea3-4968-89b3-8e1b254b9a02\">\n",
              "    <div class=\"colab-df-container\">\n",
              "      <div>\n",
              "<style scoped>\n",
              "    .dataframe tbody tr th:only-of-type {\n",
              "        vertical-align: middle;\n",
              "    }\n",
              "\n",
              "    .dataframe tbody tr th {\n",
              "        vertical-align: top;\n",
              "    }\n",
              "\n",
              "    .dataframe thead th {\n",
              "        text-align: right;\n",
              "    }\n",
              "</style>\n",
              "<table border=\"1\" class=\"dataframe\">\n",
              "  <thead>\n",
              "    <tr style=\"text-align: right;\">\n",
              "      <th></th>\n",
              "      <th>Period_Name</th>\n",
              "      <th>Source_Catalog_Code</th>\n",
              "      <th>Source_Code</th>\n",
              "      <th>Source_Name</th>\n",
              "      <th>ВБ</th>\n",
              "      <th>Адм</th>\n",
              "      <th>ИФ</th>\n",
              "      <th>ИФ Name</th>\n",
              "      <th>Утвержденные бюджетные назначения</th>\n",
              "      <th>Исполнено</th>\n",
              "      <th>Неисполненные назначения</th>\n",
              "    </tr>\n",
              "  </thead>\n",
              "  <tbody>\n",
              "    <tr>\n",
              "      <th>0</th>\n",
              "      <td>2007 год</td>\n",
              "      <td>Гос</td>\n",
              "      <td>000</td>\n",
              "      <td>Российская Федерация</td>\n",
              "      <td>10.0</td>\n",
              "      <td>000</td>\n",
              "      <td>02010100100000710</td>\n",
              "      <td>Бюджетные кредиты, полученные от других бюджет...</td>\n",
              "      <td>14907900.0</td>\n",
              "      <td>13500000.0</td>\n",
              "      <td>1407900.0</td>\n",
              "    </tr>\n",
              "    <tr>\n",
              "      <th>1</th>\n",
              "      <td>2007 год</td>\n",
              "      <td>Гос</td>\n",
              "      <td>000</td>\n",
              "      <td>Российская Федерация</td>\n",
              "      <td>5.0</td>\n",
              "      <td>000</td>\n",
              "      <td>02010200050000810</td>\n",
              "      <td>Кредиты, полученные в валюте Российской Федера...</td>\n",
              "      <td>-5800000.0</td>\n",
              "      <td>-5800000.0</td>\n",
              "      <td>0.0</td>\n",
              "    </tr>\n",
              "    <tr>\n",
              "      <th>2</th>\n",
              "      <td>2007 год</td>\n",
              "      <td>Гос</td>\n",
              "      <td>000</td>\n",
              "      <td>Российская Федерация</td>\n",
              "      <td>0.0</td>\n",
              "      <td>000</td>\n",
              "      <td>01010000010000710</td>\n",
              "      <td>Размещение государственных ценных бумаг  Росси...</td>\n",
              "      <td>7.0</td>\n",
              "      <td>109998.0</td>\n",
              "      <td>-109991.0</td>\n",
              "    </tr>\n",
              "    <tr>\n",
              "      <th>3</th>\n",
              "      <td>2007 год</td>\n",
              "      <td>Гос</td>\n",
              "      <td>000</td>\n",
              "      <td>Российская Федерация</td>\n",
              "      <td>3.0</td>\n",
              "      <td>000</td>\n",
              "      <td>01010000010000710</td>\n",
              "      <td>Размещение государственных ценных бумаг  Росси...</td>\n",
              "      <td>6.0</td>\n",
              "      <td>18.0</td>\n",
              "      <td>-12.0</td>\n",
              "    </tr>\n",
              "    <tr>\n",
              "      <th>4</th>\n",
              "      <td>2007 год</td>\n",
              "      <td>Гос</td>\n",
              "      <td>000</td>\n",
              "      <td>Российская Федерация</td>\n",
              "      <td>2.0</td>\n",
              "      <td>000</td>\n",
              "      <td>01010000010000710</td>\n",
              "      <td>Размещение государственных ценных бумаг  Росси...</td>\n",
              "      <td>2.0</td>\n",
              "      <td>6.0</td>\n",
              "      <td>-4.0</td>\n",
              "    </tr>\n",
              "  </tbody>\n",
              "</table>\n",
              "</div>\n",
              "      <button class=\"colab-df-convert\" onclick=\"convertToInteractive('df-06355f0c-eea3-4968-89b3-8e1b254b9a02')\"\n",
              "              title=\"Convert this dataframe to an interactive table.\"\n",
              "              style=\"display:none;\">\n",
              "        \n",
              "  <svg xmlns=\"http://www.w3.org/2000/svg\" height=\"24px\"viewBox=\"0 0 24 24\"\n",
              "       width=\"24px\">\n",
              "    <path d=\"M0 0h24v24H0V0z\" fill=\"none\"/>\n",
              "    <path d=\"M18.56 5.44l.94 2.06.94-2.06 2.06-.94-2.06-.94-.94-2.06-.94 2.06-2.06.94zm-11 1L8.5 8.5l.94-2.06 2.06-.94-2.06-.94L8.5 2.5l-.94 2.06-2.06.94zm10 10l.94 2.06.94-2.06 2.06-.94-2.06-.94-.94-2.06-.94 2.06-2.06.94z\"/><path d=\"M17.41 7.96l-1.37-1.37c-.4-.4-.92-.59-1.43-.59-.52 0-1.04.2-1.43.59L10.3 9.45l-7.72 7.72c-.78.78-.78 2.05 0 2.83L4 21.41c.39.39.9.59 1.41.59.51 0 1.02-.2 1.41-.59l7.78-7.78 2.81-2.81c.8-.78.8-2.07 0-2.86zM5.41 20L4 18.59l7.72-7.72 1.47 1.35L5.41 20z\"/>\n",
              "  </svg>\n",
              "      </button>\n",
              "      \n",
              "  <style>\n",
              "    .colab-df-container {\n",
              "      display:flex;\n",
              "      flex-wrap:wrap;\n",
              "      gap: 12px;\n",
              "    }\n",
              "\n",
              "    .colab-df-convert {\n",
              "      background-color: #E8F0FE;\n",
              "      border: none;\n",
              "      border-radius: 50%;\n",
              "      cursor: pointer;\n",
              "      display: none;\n",
              "      fill: #1967D2;\n",
              "      height: 32px;\n",
              "      padding: 0 0 0 0;\n",
              "      width: 32px;\n",
              "    }\n",
              "\n",
              "    .colab-df-convert:hover {\n",
              "      background-color: #E2EBFA;\n",
              "      box-shadow: 0px 1px 2px rgba(60, 64, 67, 0.3), 0px 1px 3px 1px rgba(60, 64, 67, 0.15);\n",
              "      fill: #174EA6;\n",
              "    }\n",
              "\n",
              "    [theme=dark] .colab-df-convert {\n",
              "      background-color: #3B4455;\n",
              "      fill: #D2E3FC;\n",
              "    }\n",
              "\n",
              "    [theme=dark] .colab-df-convert:hover {\n",
              "      background-color: #434B5C;\n",
              "      box-shadow: 0px 1px 3px 1px rgba(0, 0, 0, 0.15);\n",
              "      filter: drop-shadow(0px 1px 2px rgba(0, 0, 0, 0.3));\n",
              "      fill: #FFFFFF;\n",
              "    }\n",
              "  </style>\n",
              "\n",
              "      <script>\n",
              "        const buttonEl =\n",
              "          document.querySelector('#df-06355f0c-eea3-4968-89b3-8e1b254b9a02 button.colab-df-convert');\n",
              "        buttonEl.style.display =\n",
              "          google.colab.kernel.accessAllowed ? 'block' : 'none';\n",
              "\n",
              "        async function convertToInteractive(key) {\n",
              "          const element = document.querySelector('#df-06355f0c-eea3-4968-89b3-8e1b254b9a02');\n",
              "          const dataTable =\n",
              "            await google.colab.kernel.invokeFunction('convertToInteractive',\n",
              "                                                     [key], {});\n",
              "          if (!dataTable) return;\n",
              "\n",
              "          const docLinkHtml = 'Like what you see? Visit the ' +\n",
              "            '<a target=\"_blank\" href=https://colab.research.google.com/notebooks/data_table.ipynb>data table notebook</a>'\n",
              "            + ' to learn more about interactive tables.';\n",
              "          element.innerHTML = '';\n",
              "          dataTable['output_type'] = 'display_data';\n",
              "          await google.colab.output.renderOutput(dataTable, element);\n",
              "          const docLink = document.createElement('div');\n",
              "          docLink.innerHTML = docLinkHtml;\n",
              "          element.appendChild(docLink);\n",
              "        }\n",
              "      </script>\n",
              "    </div>\n",
              "  </div>\n",
              "  "
            ]
          },
          "metadata": {},
          "execution_count": 63
        }
      ]
    },
    {
      "cell_type": "markdown",
      "source": [
        "Ни один атрибут не был удалён, поскольку коэффициенты корреляции между столбцами не превышали заданного заказчиком."
      ],
      "metadata": {
        "id": "VVhRIUJiLtc4"
      }
    },
    {
      "cell_type": "code",
      "source": [
        "new_df_3.info()"
      ],
      "metadata": {
        "colab": {
          "base_uri": "https://localhost:8080/"
        },
        "outputId": "a607266e-a2fc-444c-b892-e234f0c22edc",
        "id": "aj9oJUitLtc5"
      },
      "execution_count": null,
      "outputs": [
        {
          "output_type": "stream",
          "name": "stdout",
          "text": [
            "<class 'pandas.core.frame.DataFrame'>\n",
            "RangeIndex: 16383 entries, 0 to 16382\n",
            "Data columns (total 11 columns):\n",
            " #   Column                             Non-Null Count  Dtype  \n",
            "---  ------                             --------------  -----  \n",
            " 0   Period_Name                        16383 non-null  object \n",
            " 1   Source_Catalog_Code                16382 non-null  object \n",
            " 2   Source_Code                        16382 non-null  object \n",
            " 3   Source_Name                        16382 non-null  object \n",
            " 4   ВБ                                 16382 non-null  float64\n",
            " 5   Адм                                16382 non-null  object \n",
            " 6   ИФ                                 16382 non-null  object \n",
            " 7   ИФ Name                            16382 non-null  object \n",
            " 8   Утвержденные бюджетные назначения  14967 non-null  float64\n",
            " 9   Исполнено                          13628 non-null  float64\n",
            " 10  Неисполненные назначения           11817 non-null  float64\n",
            "dtypes: float64(4), object(7)\n",
            "memory usage: 1.4+ MB\n"
          ]
        }
      ]
    },
    {
      "cell_type": "markdown",
      "source": [
        "## Анализ выбросов"
      ],
      "metadata": {
        "id": "FhDfwBowypYi"
      }
    },
    {
      "cell_type": "markdown",
      "source": [
        "Общие алгоритмы обнаружения выбросов включают методы на основе статистики, методы на основе кластеризации и некоторые другие специальные методы.\n",
        "\n",
        "1. Простая статистика\n",
        "\n",
        "  При использовании pandas, Мы можем напрямую восопльзоваться функцией describe(), чтобы соблюдать статистическое описание данных (просто грубое наблюдение некоторой статистики), а именно: df_ir.describe(). Также можно просто построить диаграмму рассеяния, чтобы четко наблюдать наличие выбросов.\n",
        "\n",
        "2. Блок-схема\n",
        "\n",
        "  Этот метод использует межквартильный размах (IQR) ящичной диаграммы для обнаружения выбросов, также называемый тестом Тьюки. Межквартильный размах (IQR) - это разница между верхним квартилем и нижним квартилем. И мы используем 1,5-кратный IQR в качестве стандарта и оговариваем, что точки, которые превышают верхний квартиль + 1,5-кратное расстояние IQR или нижний квартиль-1,5-кратное расстояние IQR, являются выбросами.\n",
        "\n"
      ],
      "metadata": {
        "id": "yycT7tBFypYj"
      }
    },
    {
      "cell_type": "code",
      "source": [
        "df_f.describe()"
      ],
      "metadata": {
        "colab": {
          "base_uri": "https://localhost:8080/",
          "height": 297
        },
        "outputId": "3bad1875-803d-472c-86f9-1f38d920ba08",
        "id": "fcz3cAv3ypYj"
      },
      "execution_count": null,
      "outputs": [
        {
          "output_type": "execute_result",
          "data": {
            "text/plain": [
              "                 ВБ  Утвержденные бюджетные назначения     Исполнено  \\\n",
              "count  16382.000000                       1.496700e+04  1.362800e+04   \n",
              "mean       5.556586                       2.222553e+08  3.107048e+09   \n",
              "std        4.228350                       4.636530e+10  5.930593e+11   \n",
              "min        0.000000                      -1.111111e+12 -1.777556e+13   \n",
              "25%        2.000000                       3.000000e+00  5.000000e+00   \n",
              "50%        4.000000                       3.494545e+05  6.004834e+05   \n",
              "75%       10.000000                       6.632330e+06  6.340014e+06   \n",
              "max       13.000000                       1.000000e+12  1.728285e+13   \n",
              "\n",
              "       Неисполненные назначения  \n",
              "count              1.181700e+04  \n",
              "mean              -4.826376e+09  \n",
              "std                3.213121e+11  \n",
              "min               -1.540532e+13  \n",
              "25%                0.000000e+00  \n",
              "50%                9.000000e+02  \n",
              "75%                5.293060e+06  \n",
              "max                1.111111e+12  "
            ],
            "text/html": [
              "\n",
              "  <div id=\"df-eacf0eaa-b278-4070-a489-e411c4e83b42\">\n",
              "    <div class=\"colab-df-container\">\n",
              "      <div>\n",
              "<style scoped>\n",
              "    .dataframe tbody tr th:only-of-type {\n",
              "        vertical-align: middle;\n",
              "    }\n",
              "\n",
              "    .dataframe tbody tr th {\n",
              "        vertical-align: top;\n",
              "    }\n",
              "\n",
              "    .dataframe thead th {\n",
              "        text-align: right;\n",
              "    }\n",
              "</style>\n",
              "<table border=\"1\" class=\"dataframe\">\n",
              "  <thead>\n",
              "    <tr style=\"text-align: right;\">\n",
              "      <th></th>\n",
              "      <th>ВБ</th>\n",
              "      <th>Утвержденные бюджетные назначения</th>\n",
              "      <th>Исполнено</th>\n",
              "      <th>Неисполненные назначения</th>\n",
              "    </tr>\n",
              "  </thead>\n",
              "  <tbody>\n",
              "    <tr>\n",
              "      <th>count</th>\n",
              "      <td>16382.000000</td>\n",
              "      <td>1.496700e+04</td>\n",
              "      <td>1.362800e+04</td>\n",
              "      <td>1.181700e+04</td>\n",
              "    </tr>\n",
              "    <tr>\n",
              "      <th>mean</th>\n",
              "      <td>5.556586</td>\n",
              "      <td>2.222553e+08</td>\n",
              "      <td>3.107048e+09</td>\n",
              "      <td>-4.826376e+09</td>\n",
              "    </tr>\n",
              "    <tr>\n",
              "      <th>std</th>\n",
              "      <td>4.228350</td>\n",
              "      <td>4.636530e+10</td>\n",
              "      <td>5.930593e+11</td>\n",
              "      <td>3.213121e+11</td>\n",
              "    </tr>\n",
              "    <tr>\n",
              "      <th>min</th>\n",
              "      <td>0.000000</td>\n",
              "      <td>-1.111111e+12</td>\n",
              "      <td>-1.777556e+13</td>\n",
              "      <td>-1.540532e+13</td>\n",
              "    </tr>\n",
              "    <tr>\n",
              "      <th>25%</th>\n",
              "      <td>2.000000</td>\n",
              "      <td>3.000000e+00</td>\n",
              "      <td>5.000000e+00</td>\n",
              "      <td>0.000000e+00</td>\n",
              "    </tr>\n",
              "    <tr>\n",
              "      <th>50%</th>\n",
              "      <td>4.000000</td>\n",
              "      <td>3.494545e+05</td>\n",
              "      <td>6.004834e+05</td>\n",
              "      <td>9.000000e+02</td>\n",
              "    </tr>\n",
              "    <tr>\n",
              "      <th>75%</th>\n",
              "      <td>10.000000</td>\n",
              "      <td>6.632330e+06</td>\n",
              "      <td>6.340014e+06</td>\n",
              "      <td>5.293060e+06</td>\n",
              "    </tr>\n",
              "    <tr>\n",
              "      <th>max</th>\n",
              "      <td>13.000000</td>\n",
              "      <td>1.000000e+12</td>\n",
              "      <td>1.728285e+13</td>\n",
              "      <td>1.111111e+12</td>\n",
              "    </tr>\n",
              "  </tbody>\n",
              "</table>\n",
              "</div>\n",
              "      <button class=\"colab-df-convert\" onclick=\"convertToInteractive('df-eacf0eaa-b278-4070-a489-e411c4e83b42')\"\n",
              "              title=\"Convert this dataframe to an interactive table.\"\n",
              "              style=\"display:none;\">\n",
              "        \n",
              "  <svg xmlns=\"http://www.w3.org/2000/svg\" height=\"24px\"viewBox=\"0 0 24 24\"\n",
              "       width=\"24px\">\n",
              "    <path d=\"M0 0h24v24H0V0z\" fill=\"none\"/>\n",
              "    <path d=\"M18.56 5.44l.94 2.06.94-2.06 2.06-.94-2.06-.94-.94-2.06-.94 2.06-2.06.94zm-11 1L8.5 8.5l.94-2.06 2.06-.94-2.06-.94L8.5 2.5l-.94 2.06-2.06.94zm10 10l.94 2.06.94-2.06 2.06-.94-2.06-.94-.94-2.06-.94 2.06-2.06.94z\"/><path d=\"M17.41 7.96l-1.37-1.37c-.4-.4-.92-.59-1.43-.59-.52 0-1.04.2-1.43.59L10.3 9.45l-7.72 7.72c-.78.78-.78 2.05 0 2.83L4 21.41c.39.39.9.59 1.41.59.51 0 1.02-.2 1.41-.59l7.78-7.78 2.81-2.81c.8-.78.8-2.07 0-2.86zM5.41 20L4 18.59l7.72-7.72 1.47 1.35L5.41 20z\"/>\n",
              "  </svg>\n",
              "      </button>\n",
              "      \n",
              "  <style>\n",
              "    .colab-df-container {\n",
              "      display:flex;\n",
              "      flex-wrap:wrap;\n",
              "      gap: 12px;\n",
              "    }\n",
              "\n",
              "    .colab-df-convert {\n",
              "      background-color: #E8F0FE;\n",
              "      border: none;\n",
              "      border-radius: 50%;\n",
              "      cursor: pointer;\n",
              "      display: none;\n",
              "      fill: #1967D2;\n",
              "      height: 32px;\n",
              "      padding: 0 0 0 0;\n",
              "      width: 32px;\n",
              "    }\n",
              "\n",
              "    .colab-df-convert:hover {\n",
              "      background-color: #E2EBFA;\n",
              "      box-shadow: 0px 1px 2px rgba(60, 64, 67, 0.3), 0px 1px 3px 1px rgba(60, 64, 67, 0.15);\n",
              "      fill: #174EA6;\n",
              "    }\n",
              "\n",
              "    [theme=dark] .colab-df-convert {\n",
              "      background-color: #3B4455;\n",
              "      fill: #D2E3FC;\n",
              "    }\n",
              "\n",
              "    [theme=dark] .colab-df-convert:hover {\n",
              "      background-color: #434B5C;\n",
              "      box-shadow: 0px 1px 3px 1px rgba(0, 0, 0, 0.15);\n",
              "      filter: drop-shadow(0px 1px 2px rgba(0, 0, 0, 0.3));\n",
              "      fill: #FFFFFF;\n",
              "    }\n",
              "  </style>\n",
              "\n",
              "      <script>\n",
              "        const buttonEl =\n",
              "          document.querySelector('#df-eacf0eaa-b278-4070-a489-e411c4e83b42 button.colab-df-convert');\n",
              "        buttonEl.style.display =\n",
              "          google.colab.kernel.accessAllowed ? 'block' : 'none';\n",
              "\n",
              "        async function convertToInteractive(key) {\n",
              "          const element = document.querySelector('#df-eacf0eaa-b278-4070-a489-e411c4e83b42');\n",
              "          const dataTable =\n",
              "            await google.colab.kernel.invokeFunction('convertToInteractive',\n",
              "                                                     [key], {});\n",
              "          if (!dataTable) return;\n",
              "\n",
              "          const docLinkHtml = 'Like what you see? Visit the ' +\n",
              "            '<a target=\"_blank\" href=https://colab.research.google.com/notebooks/data_table.ipynb>data table notebook</a>'\n",
              "            + ' to learn more about interactive tables.';\n",
              "          element.innerHTML = '';\n",
              "          dataTable['output_type'] = 'display_data';\n",
              "          await google.colab.output.renderOutput(dataTable, element);\n",
              "          const docLink = document.createElement('div');\n",
              "          docLink.innerHTML = docLinkHtml;\n",
              "          element.appendChild(docLink);\n",
              "        }\n",
              "      </script>\n",
              "    </div>\n",
              "  </div>\n",
              "  "
            ]
          },
          "metadata": {},
          "execution_count": 65
        }
      ]
    },
    {
      "cell_type": "code",
      "source": [
        " n = 'Утвержденные бюджетные назначения'\n",
        " ax = sns.boxplot(x=df_f[n])"
      ],
      "metadata": {
        "colab": {
          "base_uri": "https://localhost:8080/",
          "height": 497
        },
        "outputId": "c71e3979-d8eb-40df-b916-6c8c75464e9e",
        "id": "eebvXBwLypYk"
      },
      "execution_count": null,
      "outputs": [
        {
          "output_type": "display_data",
          "data": {
            "text/plain": [
              "<Figure size 576x576 with 1 Axes>"
            ],
            "image/png": "[encoded data removed]"
          },
          "metadata": {
            "needs_background": "light"
          }
        }
      ]
    },
    {
      "cell_type": "code",
      "source": [
        "def kvart(name, df):\n",
        "  mid_50 = list(df[name].quantile([.25, .75]))\n",
        "  price_25, price_75 = mid_50[0], mid_50[1]\n",
        "\n",
        "  iqr = price_75 - price_25\n",
        "  low = price_25 - 1.5 * iqr\n",
        "  high = price_75 + 1.5 * iqr\n",
        "  return (iqr,low,high)"
      ],
      "metadata": {
        "id": "9keNKOTXypYk"
      },
      "execution_count": null,
      "outputs": []
    },
    {
      "cell_type": "markdown",
      "source": [
        "Посмотрим на отрицательные значения:"
      ],
      "metadata": {
        "id": "sy5hQsaUypYl"
      }
    },
    {
      "cell_type": "code",
      "source": [
        "df_f[df_f[n] < 0]"
      ],
      "metadata": {
        "colab": {
          "base_uri": "https://localhost:8080/",
          "height": 643
        },
        "outputId": "222e1325-6a22-4860-e6d1-ee1ab7da9e11",
        "id": "uD0KAiMXypYl"
      },
      "execution_count": null,
      "outputs": [
        {
          "output_type": "execute_result",
          "data": {
            "text/plain": [
              "            Period_Name Source_Catalog_Code Source_Code  \\\n",
              "1              2007 год                 Гос         000   \n",
              "7              2007 год                 Гос         000   \n",
              "29             2007 год                 Гос         000   \n",
              "30             2007 год                 Гос         000   \n",
              "33             2007 год                 Гос         000   \n",
              "...                 ...                 ...         ...   \n",
              "16203  Январь 2016 года                 СБС       87900   \n",
              "16204  Январь 2016 года                 СБС       87900   \n",
              "16205  Январь 2016 года                 СБС       87900   \n",
              "16210  Январь 2016 года                 СБС       87900   \n",
              "16211  Январь 2016 года                 СБС       87900   \n",
              "\n",
              "                                             Source_Name    ВБ  Адм  \\\n",
              "1                                   Российская Федерация   5.0  000   \n",
              "7                                   Российская Федерация   5.0  000   \n",
              "29                                  Российская Федерация   5.0  000   \n",
              "30                                  Российская Федерация  10.0  000   \n",
              "33                                  Российская Федерация  10.0  000   \n",
              "...                                                  ...   ...  ...   \n",
              "16203  Бюджет субъекта - Ханты-Мансийский автономный ...   2.0  000   \n",
              "16204  Бюджет субъекта - Ханты-Мансийский автономный ...   2.0  000   \n",
              "16205  Бюджет субъекта - Ханты-Мансийский автономный ...   2.0  000   \n",
              "16210  Бюджет субъекта - Ханты-Мансийский автономный ...   2.0  000   \n",
              "16211  Бюджет субъекта - Ханты-Мансийский автономный ...   2.0  000   \n",
              "\n",
              "                      ИФ                                            ИФ Name  \\\n",
              "1      02010200050000810  Кредиты, полученные в валюте Российской Федера...   \n",
              "7      02010200000000810  Кредиты, полученные в валюте Российской Федера...   \n",
              "29     02010100000000810  Бюджетные кредиты, полученные от других бюджет...   \n",
              "30     02010100000000810  Бюджетные кредиты, полученные от других бюджет...   \n",
              "33     08000000000000500               Увеличение остатков средств бюджетов   \n",
              "...                  ...                                                ...   \n",
              "16203  01060401000000000  Исполнение государственных и муниципальных гар...   \n",
              "16204  01010000020000810  Погашение государственных ценных бумаг субъект...   \n",
              "16205  01060401000000800  Исполнение государственных и муниципальных гар...   \n",
              "16210  01010000000000800  Погашение государственных  (муниципальных)ценн...   \n",
              "16211  01050000000000500               Увеличение остатков средств бюджетов   \n",
              "\n",
              "       Утвержденные бюджетные назначения     Исполнено  \\\n",
              "1                          -5.800000e+06 -5.800000e+06   \n",
              "7                          -5.800000e+06 -5.800000e+06   \n",
              "29                         -6.432000e+06 -1.059800e+06   \n",
              "30                         -1.513450e+07 -3.500000e+06   \n",
              "33                         -1.977148e+08 -1.759232e+08   \n",
              "...                                  ...           ...   \n",
              "16203                      -6.307757e+08  0.000000e+00   \n",
              "16204                      -4.900000e+09  0.000000e+00   \n",
              "16205                      -6.307757e+08  0.000000e+00   \n",
              "16210                      -4.900000e+09  0.000000e+00   \n",
              "16211                      -3.462454e+09 -9.950151e+10   \n",
              "\n",
              "       Неисполненные назначения  \n",
              "1                  0.000000e+00  \n",
              "7                  0.000000e+00  \n",
              "29                -5.372200e+06  \n",
              "30                -1.163450e+07  \n",
              "33                -2.179162e+07  \n",
              "...                         ...  \n",
              "16203             -6.307757e+08  \n",
              "16204             -4.900000e+09  \n",
              "16205             -6.307757e+08  \n",
              "16210             -4.900000e+09  \n",
              "16211                       NaN  \n",
              "\n",
              "[1429 rows x 11 columns]"
            ],
            "text/html": [
              "\n",
              "  <div id=\"df-f4629d22-7825-4b01-8020-3605104118b7\">\n",
              "    <div class=\"colab-df-container\">\n",
              "      <div>\n",
              "<style scoped>\n",
              "    .dataframe tbody tr th:only-of-type {\n",
              "        vertical-align: middle;\n",
              "    }\n",
              "\n",
              "    .dataframe tbody tr th {\n",
              "        vertical-align: top;\n",
              "    }\n",
              "\n",
              "    .dataframe thead th {\n",
              "        text-align: right;\n",
              "    }\n",
              "</style>\n",
              "<table border=\"1\" class=\"dataframe\">\n",
              "  <thead>\n",
              "    <tr style=\"text-align: right;\">\n",
              "      <th></th>\n",
              "      <th>Period_Name</th>\n",
              "      <th>Source_Catalog_Code</th>\n",
              "      <th>Source_Code</th>\n",
              "      <th>Source_Name</th>\n",
              "      <th>ВБ</th>\n",
              "      <th>Адм</th>\n",
              "      <th>ИФ</th>\n",
              "      <th>ИФ Name</th>\n",
              "      <th>Утвержденные бюджетные назначения</th>\n",
              "      <th>Исполнено</th>\n",
              "      <th>Неисполненные назначения</th>\n",
              "    </tr>\n",
              "  </thead>\n",
              "  <tbody>\n",
              "    <tr>\n",
              "      <th>1</th>\n",
              "      <td>2007 год</td>\n",
              "      <td>Гос</td>\n",
              "      <td>000</td>\n",
              "      <td>Российская Федерация</td>\n",
              "      <td>5.0</td>\n",
              "      <td>000</td>\n",
              "      <td>02010200050000810</td>\n",
              "      <td>Кредиты, полученные в валюте Российской Федера...</td>\n",
              "      <td>-5.800000e+06</td>\n",
              "      <td>-5.800000e+06</td>\n",
              "      <td>0.000000e+00</td>\n",
              "    </tr>\n",
              "    <tr>\n",
              "      <th>7</th>\n",
              "      <td>2007 год</td>\n",
              "      <td>Гос</td>\n",
              "      <td>000</td>\n",
              "      <td>Российская Федерация</td>\n",
              "      <td>5.0</td>\n",
              "      <td>000</td>\n",
              "      <td>02010200000000810</td>\n",
              "      <td>Кредиты, полученные в валюте Российской Федера...</td>\n",
              "      <td>-5.800000e+06</td>\n",
              "      <td>-5.800000e+06</td>\n",
              "      <td>0.000000e+00</td>\n",
              "    </tr>\n",
              "    <tr>\n",
              "      <th>29</th>\n",
              "      <td>2007 год</td>\n",
              "      <td>Гос</td>\n",
              "      <td>000</td>\n",
              "      <td>Российская Федерация</td>\n",
              "      <td>5.0</td>\n",
              "      <td>000</td>\n",
              "      <td>02010100000000810</td>\n",
              "      <td>Бюджетные кредиты, полученные от других бюджет...</td>\n",
              "      <td>-6.432000e+06</td>\n",
              "      <td>-1.059800e+06</td>\n",
              "      <td>-5.372200e+06</td>\n",
              "    </tr>\n",
              "    <tr>\n",
              "      <th>30</th>\n",
              "      <td>2007 год</td>\n",
              "      <td>Гос</td>\n",
              "      <td>000</td>\n",
              "      <td>Российская Федерация</td>\n",
              "      <td>10.0</td>\n",
              "      <td>000</td>\n",
              "      <td>02010100000000810</td>\n",
              "      <td>Бюджетные кредиты, полученные от других бюджет...</td>\n",
              "      <td>-1.513450e+07</td>\n",
              "      <td>-3.500000e+06</td>\n",
              "      <td>-1.163450e+07</td>\n",
              "    </tr>\n",
              "    <tr>\n",
              "      <th>33</th>\n",
              "      <td>2007 год</td>\n",
              "      <td>Гос</td>\n",
              "      <td>000</td>\n",
              "      <td>Российская Федерация</td>\n",
              "      <td>10.0</td>\n",
              "      <td>000</td>\n",
              "      <td>08000000000000500</td>\n",
              "      <td>Увеличение остатков средств бюджетов</td>\n",
              "      <td>-1.977148e+08</td>\n",
              "      <td>-1.759232e+08</td>\n",
              "      <td>-2.179162e+07</td>\n",
              "    </tr>\n",
              "    <tr>\n",
              "      <th>...</th>\n",
              "      <td>...</td>\n",
              "      <td>...</td>\n",
              "      <td>...</td>\n",
              "      <td>...</td>\n",
              "      <td>...</td>\n",
              "      <td>...</td>\n",
              "      <td>...</td>\n",
              "      <td>...</td>\n",
              "      <td>...</td>\n",
              "      <td>...</td>\n",
              "      <td>...</td>\n",
              "    </tr>\n",
              "    <tr>\n",
              "      <th>16203</th>\n",
              "      <td>Январь 2016 года</td>\n",
              "      <td>СБС</td>\n",
              "      <td>87900</td>\n",
              "      <td>Бюджет субъекта - Ханты-Мансийский автономный ...</td>\n",
              "      <td>2.0</td>\n",
              "      <td>000</td>\n",
              "      <td>01060401000000000</td>\n",
              "      <td>Исполнение государственных и муниципальных гар...</td>\n",
              "      <td>-6.307757e+08</td>\n",
              "      <td>0.000000e+00</td>\n",
              "      <td>-6.307757e+08</td>\n",
              "    </tr>\n",
              "    <tr>\n",
              "      <th>16204</th>\n",
              "      <td>Январь 2016 года</td>\n",
              "      <td>СБС</td>\n",
              "      <td>87900</td>\n",
              "      <td>Бюджет субъекта - Ханты-Мансийский автономный ...</td>\n",
              "      <td>2.0</td>\n",
              "      <td>000</td>\n",
              "      <td>01010000020000810</td>\n",
              "      <td>Погашение государственных ценных бумаг субъект...</td>\n",
              "      <td>-4.900000e+09</td>\n",
              "      <td>0.000000e+00</td>\n",
              "      <td>-4.900000e+09</td>\n",
              "    </tr>\n",
              "    <tr>\n",
              "      <th>16205</th>\n",
              "      <td>Январь 2016 года</td>\n",
              "      <td>СБС</td>\n",
              "      <td>87900</td>\n",
              "      <td>Бюджет субъекта - Ханты-Мансийский автономный ...</td>\n",
              "      <td>2.0</td>\n",
              "      <td>000</td>\n",
              "      <td>01060401000000800</td>\n",
              "      <td>Исполнение государственных и муниципальных гар...</td>\n",
              "      <td>-6.307757e+08</td>\n",
              "      <td>0.000000e+00</td>\n",
              "      <td>-6.307757e+08</td>\n",
              "    </tr>\n",
              "    <tr>\n",
              "      <th>16210</th>\n",
              "      <td>Январь 2016 года</td>\n",
              "      <td>СБС</td>\n",
              "      <td>87900</td>\n",
              "      <td>Бюджет субъекта - Ханты-Мансийский автономный ...</td>\n",
              "      <td>2.0</td>\n",
              "      <td>000</td>\n",
              "      <td>01010000000000800</td>\n",
              "      <td>Погашение государственных  (муниципальных)ценн...</td>\n",
              "      <td>-4.900000e+09</td>\n",
              "      <td>0.000000e+00</td>\n",
              "      <td>-4.900000e+09</td>\n",
              "    </tr>\n",
              "    <tr>\n",
              "      <th>16211</th>\n",
              "      <td>Январь 2016 года</td>\n",
              "      <td>СБС</td>\n",
              "      <td>87900</td>\n",
              "      <td>Бюджет субъекта - Ханты-Мансийский автономный ...</td>\n",
              "      <td>2.0</td>\n",
              "      <td>000</td>\n",
              "      <td>01050000000000500</td>\n",
              "      <td>Увеличение остатков средств бюджетов</td>\n",
              "      <td>-3.462454e+09</td>\n",
              "      <td>-9.950151e+10</td>\n",
              "      <td>NaN</td>\n",
              "    </tr>\n",
              "  </tbody>\n",
              "</table>\n",
              "<p>1429 rows × 11 columns</p>\n",
              "</div>\n",
              "      <button class=\"colab-df-convert\" onclick=\"convertToInteractive('df-f4629d22-7825-4b01-8020-3605104118b7')\"\n",
              "              title=\"Convert this dataframe to an interactive table.\"\n",
              "              style=\"display:none;\">\n",
              "        \n",
              "  <svg xmlns=\"http://www.w3.org/2000/svg\" height=\"24px\"viewBox=\"0 0 24 24\"\n",
              "       width=\"24px\">\n",
              "    <path d=\"M0 0h24v24H0V0z\" fill=\"none\"/>\n",
              "    <path d=\"M18.56 5.44l.94 2.06.94-2.06 2.06-.94-2.06-.94-.94-2.06-.94 2.06-2.06.94zm-11 1L8.5 8.5l.94-2.06 2.06-.94-2.06-.94L8.5 2.5l-.94 2.06-2.06.94zm10 10l.94 2.06.94-2.06 2.06-.94-2.06-.94-.94-2.06-.94 2.06-2.06.94z\"/><path d=\"M17.41 7.96l-1.37-1.37c-.4-.4-.92-.59-1.43-.59-.52 0-1.04.2-1.43.59L10.3 9.45l-7.72 7.72c-.78.78-.78 2.05 0 2.83L4 21.41c.39.39.9.59 1.41.59.51 0 1.02-.2 1.41-.59l7.78-7.78 2.81-2.81c.8-.78.8-2.07 0-2.86zM5.41 20L4 18.59l7.72-7.72 1.47 1.35L5.41 20z\"/>\n",
              "  </svg>\n",
              "      </button>\n",
              "      \n",
              "  <style>\n",
              "    .colab-df-container {\n",
              "      display:flex;\n",
              "      flex-wrap:wrap;\n",
              "      gap: 12px;\n",
              "    }\n",
              "\n",
              "    .colab-df-convert {\n",
              "      background-color: #E8F0FE;\n",
              "      border: none;\n",
              "      border-radius: 50%;\n",
              "      cursor: pointer;\n",
              "      display: none;\n",
              "      fill: #1967D2;\n",
              "      height: 32px;\n",
              "      padding: 0 0 0 0;\n",
              "      width: 32px;\n",
              "    }\n",
              "\n",
              "    .colab-df-convert:hover {\n",
              "      background-color: #E2EBFA;\n",
              "      box-shadow: 0px 1px 2px rgba(60, 64, 67, 0.3), 0px 1px 3px 1px rgba(60, 64, 67, 0.15);\n",
              "      fill: #174EA6;\n",
              "    }\n",
              "\n",
              "    [theme=dark] .colab-df-convert {\n",
              "      background-color: #3B4455;\n",
              "      fill: #D2E3FC;\n",
              "    }\n",
              "\n",
              "    [theme=dark] .colab-df-convert:hover {\n",
              "      background-color: #434B5C;\n",
              "      box-shadow: 0px 1px 3px 1px rgba(0, 0, 0, 0.15);\n",
              "      filter: drop-shadow(0px 1px 2px rgba(0, 0, 0, 0.3));\n",
              "      fill: #FFFFFF;\n",
              "    }\n",
              "  </style>\n",
              "\n",
              "      <script>\n",
              "        const buttonEl =\n",
              "          document.querySelector('#df-f4629d22-7825-4b01-8020-3605104118b7 button.colab-df-convert');\n",
              "        buttonEl.style.display =\n",
              "          google.colab.kernel.accessAllowed ? 'block' : 'none';\n",
              "\n",
              "        async function convertToInteractive(key) {\n",
              "          const element = document.querySelector('#df-f4629d22-7825-4b01-8020-3605104118b7');\n",
              "          const dataTable =\n",
              "            await google.colab.kernel.invokeFunction('convertToInteractive',\n",
              "                                                     [key], {});\n",
              "          if (!dataTable) return;\n",
              "\n",
              "          const docLinkHtml = 'Like what you see? Visit the ' +\n",
              "            '<a target=\"_blank\" href=https://colab.research.google.com/notebooks/data_table.ipynb>data table notebook</a>'\n",
              "            + ' to learn more about interactive tables.';\n",
              "          element.innerHTML = '';\n",
              "          dataTable['output_type'] = 'display_data';\n",
              "          await google.colab.output.renderOutput(dataTable, element);\n",
              "          const docLink = document.createElement('div');\n",
              "          docLink.innerHTML = docLinkHtml;\n",
              "          element.appendChild(docLink);\n",
              "        }\n",
              "      </script>\n",
              "    </div>\n",
              "  </div>\n",
              "  "
            ]
          },
          "metadata": {},
          "execution_count": 68
        }
      ]
    },
    {
      "cell_type": "markdown",
      "source": [
        "Таких значений много - они будут вынесены в отдельный файл."
      ],
      "metadata": {
        "id": "WrxRyB7eypYl"
      }
    },
    {
      "cell_type": "markdown",
      "source": [
        "Посмотрим, сколько значений лежат в диапазоне первого квартиля - 1.5 интерквартильных размаха:"
      ],
      "metadata": {
        "id": "exjvId80ypYl"
      }
    },
    {
      "cell_type": "code",
      "source": [
        "df_f[df_f[n] < kvart(n, df_f)[1]]"
      ],
      "metadata": {
        "colab": {
          "base_uri": "https://localhost:8080/",
          "height": 625
        },
        "outputId": "067dd0f0-708b-44f3-dadb-194b1493503f",
        "id": "7tViQXX0ypYm"
      },
      "execution_count": null,
      "outputs": [
        {
          "output_type": "execute_result",
          "data": {
            "text/plain": [
              "            Period_Name Source_Catalog_Code Source_Code  \\\n",
              "30             2007 год                 Гос         000   \n",
              "33             2007 год                 Гос         000   \n",
              "35             2007 год                 Гос         000   \n",
              "53             2007 год                 Гос         000   \n",
              "54             2007 год                 Гос         000   \n",
              "...                 ...                 ...         ...   \n",
              "16203  Январь 2016 года                 СБС       87900   \n",
              "16204  Январь 2016 года                 СБС       87900   \n",
              "16205  Январь 2016 года                 СБС       87900   \n",
              "16210  Январь 2016 года                 СБС       87900   \n",
              "16211  Январь 2016 года                 СБС       87900   \n",
              "\n",
              "                                             Source_Name    ВБ  Адм  \\\n",
              "30                                  Российская Федерация  10.0  000   \n",
              "33                                  Российская Федерация  10.0  000   \n",
              "35                                  Российская Федерация   5.0  000   \n",
              "53                                  Российская Федерация  10.0  000   \n",
              "54                                  Российская Федерация  10.0  000   \n",
              "...                                                  ...   ...  ...   \n",
              "16203  Бюджет субъекта - Ханты-Мансийский автономный ...   2.0  000   \n",
              "16204  Бюджет субъекта - Ханты-Мансийский автономный ...   2.0  000   \n",
              "16205  Бюджет субъекта - Ханты-Мансийский автономный ...   2.0  000   \n",
              "16210  Бюджет субъекта - Ханты-Мансийский автономный ...   2.0  000   \n",
              "16211  Бюджет субъекта - Ханты-Мансийский автономный ...   2.0  000   \n",
              "\n",
              "                      ИФ                                            ИФ Name  \\\n",
              "30     02010100000000810  Бюджетные кредиты, полученные от других бюджет...   \n",
              "33     08000000000000500               Увеличение остатков средств бюджетов   \n",
              "35     08000000000000500               Увеличение остатков средств бюджетов   \n",
              "53     02010100100000810  Бюджетные кредиты, полученные от других бюджет...   \n",
              "54     08020100100000510  Увеличение прочих остатков денежных средств бю...   \n",
              "...                  ...                                                ...   \n",
              "16203  01060401000000000  Исполнение государственных и муниципальных гар...   \n",
              "16204  01010000020000810  Погашение государственных ценных бумаг субъект...   \n",
              "16205  01060401000000800  Исполнение государственных и муниципальных гар...   \n",
              "16210  01010000000000800  Погашение государственных  (муниципальных)ценн...   \n",
              "16211  01050000000000500               Увеличение остатков средств бюджетов   \n",
              "\n",
              "       Утвержденные бюджетные назначения     Исполнено  \\\n",
              "30                         -1.513450e+07 -3.500000e+06   \n",
              "33                         -1.977148e+08 -1.759232e+08   \n",
              "35                         -3.087460e+08 -1.956196e+08   \n",
              "53                         -1.513450e+07 -3.500000e+06   \n",
              "54                         -1.977148e+08 -1.759232e+08   \n",
              "...                                  ...           ...   \n",
              "16203                      -6.307757e+08  0.000000e+00   \n",
              "16204                      -4.900000e+09  0.000000e+00   \n",
              "16205                      -6.307757e+08  0.000000e+00   \n",
              "16210                      -4.900000e+09  0.000000e+00   \n",
              "16211                      -3.462454e+09 -9.950151e+10   \n",
              "\n",
              "       Неисполненные назначения  \n",
              "30                -1.163450e+07  \n",
              "33                -2.179162e+07  \n",
              "35                -1.131264e+08  \n",
              "53                -1.163450e+07  \n",
              "54                -2.179162e+07  \n",
              "...                         ...  \n",
              "16203             -6.307757e+08  \n",
              "16204             -4.900000e+09  \n",
              "16205             -6.307757e+08  \n",
              "16210             -4.900000e+09  \n",
              "16211                       NaN  \n",
              "\n",
              "[1199 rows x 11 columns]"
            ],
            "text/html": [
              "\n",
              "  <div id=\"df-cbe0f7fa-b3e8-45ee-8e8f-d1fb8f76b61e\">\n",
              "    <div class=\"colab-df-container\">\n",
              "      <div>\n",
              "<style scoped>\n",
              "    .dataframe tbody tr th:only-of-type {\n",
              "        vertical-align: middle;\n",
              "    }\n",
              "\n",
              "    .dataframe tbody tr th {\n",
              "        vertical-align: top;\n",
              "    }\n",
              "\n",
              "    .dataframe thead th {\n",
              "        text-align: right;\n",
              "    }\n",
              "</style>\n",
              "<table border=\"1\" class=\"dataframe\">\n",
              "  <thead>\n",
              "    <tr style=\"text-align: right;\">\n",
              "      <th></th>\n",
              "      <th>Period_Name</th>\n",
              "      <th>Source_Catalog_Code</th>\n",
              "      <th>Source_Code</th>\n",
              "      <th>Source_Name</th>\n",
              "      <th>ВБ</th>\n",
              "      <th>Адм</th>\n",
              "      <th>ИФ</th>\n",
              "      <th>ИФ Name</th>\n",
              "      <th>Утвержденные бюджетные назначения</th>\n",
              "      <th>Исполнено</th>\n",
              "      <th>Неисполненные назначения</th>\n",
              "    </tr>\n",
              "  </thead>\n",
              "  <tbody>\n",
              "    <tr>\n",
              "      <th>30</th>\n",
              "      <td>2007 год</td>\n",
              "      <td>Гос</td>\n",
              "      <td>000</td>\n",
              "      <td>Российская Федерация</td>\n",
              "      <td>10.0</td>\n",
              "      <td>000</td>\n",
              "      <td>02010100000000810</td>\n",
              "      <td>Бюджетные кредиты, полученные от других бюджет...</td>\n",
              "      <td>-1.513450e+07</td>\n",
              "      <td>-3.500000e+06</td>\n",
              "      <td>-1.163450e+07</td>\n",
              "    </tr>\n",
              "    <tr>\n",
              "      <th>33</th>\n",
              "      <td>2007 год</td>\n",
              "      <td>Гос</td>\n",
              "      <td>000</td>\n",
              "      <td>Российская Федерация</td>\n",
              "      <td>10.0</td>\n",
              "      <td>000</td>\n",
              "      <td>08000000000000500</td>\n",
              "      <td>Увеличение остатков средств бюджетов</td>\n",
              "      <td>-1.977148e+08</td>\n",
              "      <td>-1.759232e+08</td>\n",
              "      <td>-2.179162e+07</td>\n",
              "    </tr>\n",
              "    <tr>\n",
              "      <th>35</th>\n",
              "      <td>2007 год</td>\n",
              "      <td>Гос</td>\n",
              "      <td>000</td>\n",
              "      <td>Российская Федерация</td>\n",
              "      <td>5.0</td>\n",
              "      <td>000</td>\n",
              "      <td>08000000000000500</td>\n",
              "      <td>Увеличение остатков средств бюджетов</td>\n",
              "      <td>-3.087460e+08</td>\n",
              "      <td>-1.956196e+08</td>\n",
              "      <td>-1.131264e+08</td>\n",
              "    </tr>\n",
              "    <tr>\n",
              "      <th>53</th>\n",
              "      <td>2007 год</td>\n",
              "      <td>Гос</td>\n",
              "      <td>000</td>\n",
              "      <td>Российская Федерация</td>\n",
              "      <td>10.0</td>\n",
              "      <td>000</td>\n",
              "      <td>02010100100000810</td>\n",
              "      <td>Бюджетные кредиты, полученные от других бюджет...</td>\n",
              "      <td>-1.513450e+07</td>\n",
              "      <td>-3.500000e+06</td>\n",
              "      <td>-1.163450e+07</td>\n",
              "    </tr>\n",
              "    <tr>\n",
              "      <th>54</th>\n",
              "      <td>2007 год</td>\n",
              "      <td>Гос</td>\n",
              "      <td>000</td>\n",
              "      <td>Российская Федерация</td>\n",
              "      <td>10.0</td>\n",
              "      <td>000</td>\n",
              "      <td>08020100100000510</td>\n",
              "      <td>Увеличение прочих остатков денежных средств бю...</td>\n",
              "      <td>-1.977148e+08</td>\n",
              "      <td>-1.759232e+08</td>\n",
              "      <td>-2.179162e+07</td>\n",
              "    </tr>\n",
              "    <tr>\n",
              "      <th>...</th>\n",
              "      <td>...</td>\n",
              "      <td>...</td>\n",
              "      <td>...</td>\n",
              "      <td>...</td>\n",
              "      <td>...</td>\n",
              "      <td>...</td>\n",
              "      <td>...</td>\n",
              "      <td>...</td>\n",
              "      <td>...</td>\n",
              "      <td>...</td>\n",
              "      <td>...</td>\n",
              "    </tr>\n",
              "    <tr>\n",
              "      <th>16203</th>\n",
              "      <td>Январь 2016 года</td>\n",
              "      <td>СБС</td>\n",
              "      <td>87900</td>\n",
              "      <td>Бюджет субъекта - Ханты-Мансийский автономный ...</td>\n",
              "      <td>2.0</td>\n",
              "      <td>000</td>\n",
              "      <td>01060401000000000</td>\n",
              "      <td>Исполнение государственных и муниципальных гар...</td>\n",
              "      <td>-6.307757e+08</td>\n",
              "      <td>0.000000e+00</td>\n",
              "      <td>-6.307757e+08</td>\n",
              "    </tr>\n",
              "    <tr>\n",
              "      <th>16204</th>\n",
              "      <td>Январь 2016 года</td>\n",
              "      <td>СБС</td>\n",
              "      <td>87900</td>\n",
              "      <td>Бюджет субъекта - Ханты-Мансийский автономный ...</td>\n",
              "      <td>2.0</td>\n",
              "      <td>000</td>\n",
              "      <td>01010000020000810</td>\n",
              "      <td>Погашение государственных ценных бумаг субъект...</td>\n",
              "      <td>-4.900000e+09</td>\n",
              "      <td>0.000000e+00</td>\n",
              "      <td>-4.900000e+09</td>\n",
              "    </tr>\n",
              "    <tr>\n",
              "      <th>16205</th>\n",
              "      <td>Январь 2016 года</td>\n",
              "      <td>СБС</td>\n",
              "      <td>87900</td>\n",
              "      <td>Бюджет субъекта - Ханты-Мансийский автономный ...</td>\n",
              "      <td>2.0</td>\n",
              "      <td>000</td>\n",
              "      <td>01060401000000800</td>\n",
              "      <td>Исполнение государственных и муниципальных гар...</td>\n",
              "      <td>-6.307757e+08</td>\n",
              "      <td>0.000000e+00</td>\n",
              "      <td>-6.307757e+08</td>\n",
              "    </tr>\n",
              "    <tr>\n",
              "      <th>16210</th>\n",
              "      <td>Январь 2016 года</td>\n",
              "      <td>СБС</td>\n",
              "      <td>87900</td>\n",
              "      <td>Бюджет субъекта - Ханты-Мансийский автономный ...</td>\n",
              "      <td>2.0</td>\n",
              "      <td>000</td>\n",
              "      <td>01010000000000800</td>\n",
              "      <td>Погашение государственных  (муниципальных)ценн...</td>\n",
              "      <td>-4.900000e+09</td>\n",
              "      <td>0.000000e+00</td>\n",
              "      <td>-4.900000e+09</td>\n",
              "    </tr>\n",
              "    <tr>\n",
              "      <th>16211</th>\n",
              "      <td>Январь 2016 года</td>\n",
              "      <td>СБС</td>\n",
              "      <td>87900</td>\n",
              "      <td>Бюджет субъекта - Ханты-Мансийский автономный ...</td>\n",
              "      <td>2.0</td>\n",
              "      <td>000</td>\n",
              "      <td>01050000000000500</td>\n",
              "      <td>Увеличение остатков средств бюджетов</td>\n",
              "      <td>-3.462454e+09</td>\n",
              "      <td>-9.950151e+10</td>\n",
              "      <td>NaN</td>\n",
              "    </tr>\n",
              "  </tbody>\n",
              "</table>\n",
              "<p>1199 rows × 11 columns</p>\n",
              "</div>\n",
              "      <button class=\"colab-df-convert\" onclick=\"convertToInteractive('df-cbe0f7fa-b3e8-45ee-8e8f-d1fb8f76b61e')\"\n",
              "              title=\"Convert this dataframe to an interactive table.\"\n",
              "              style=\"display:none;\">\n",
              "        \n",
              "  <svg xmlns=\"http://www.w3.org/2000/svg\" height=\"24px\"viewBox=\"0 0 24 24\"\n",
              "       width=\"24px\">\n",
              "    <path d=\"M0 0h24v24H0V0z\" fill=\"none\"/>\n",
              "    <path d=\"M18.56 5.44l.94 2.06.94-2.06 2.06-.94-2.06-.94-.94-2.06-.94 2.06-2.06.94zm-11 1L8.5 8.5l.94-2.06 2.06-.94-2.06-.94L8.5 2.5l-.94 2.06-2.06.94zm10 10l.94 2.06.94-2.06 2.06-.94-2.06-.94-.94-2.06-.94 2.06-2.06.94z\"/><path d=\"M17.41 7.96l-1.37-1.37c-.4-.4-.92-.59-1.43-.59-.52 0-1.04.2-1.43.59L10.3 9.45l-7.72 7.72c-.78.78-.78 2.05 0 2.83L4 21.41c.39.39.9.59 1.41.59.51 0 1.02-.2 1.41-.59l7.78-7.78 2.81-2.81c.8-.78.8-2.07 0-2.86zM5.41 20L4 18.59l7.72-7.72 1.47 1.35L5.41 20z\"/>\n",
              "  </svg>\n",
              "      </button>\n",
              "      \n",
              "  <style>\n",
              "    .colab-df-container {\n",
              "      display:flex;\n",
              "      flex-wrap:wrap;\n",
              "      gap: 12px;\n",
              "    }\n",
              "\n",
              "    .colab-df-convert {\n",
              "      background-color: #E8F0FE;\n",
              "      border: none;\n",
              "      border-radius: 50%;\n",
              "      cursor: pointer;\n",
              "      display: none;\n",
              "      fill: #1967D2;\n",
              "      height: 32px;\n",
              "      padding: 0 0 0 0;\n",
              "      width: 32px;\n",
              "    }\n",
              "\n",
              "    .colab-df-convert:hover {\n",
              "      background-color: #E2EBFA;\n",
              "      box-shadow: 0px 1px 2px rgba(60, 64, 67, 0.3), 0px 1px 3px 1px rgba(60, 64, 67, 0.15);\n",
              "      fill: #174EA6;\n",
              "    }\n",
              "\n",
              "    [theme=dark] .colab-df-convert {\n",
              "      background-color: #3B4455;\n",
              "      fill: #D2E3FC;\n",
              "    }\n",
              "\n",
              "    [theme=dark] .colab-df-convert:hover {\n",
              "      background-color: #434B5C;\n",
              "      box-shadow: 0px 1px 3px 1px rgba(0, 0, 0, 0.15);\n",
              "      filter: drop-shadow(0px 1px 2px rgba(0, 0, 0, 0.3));\n",
              "      fill: #FFFFFF;\n",
              "    }\n",
              "  </style>\n",
              "\n",
              "      <script>\n",
              "        const buttonEl =\n",
              "          document.querySelector('#df-cbe0f7fa-b3e8-45ee-8e8f-d1fb8f76b61e button.colab-df-convert');\n",
              "        buttonEl.style.display =\n",
              "          google.colab.kernel.accessAllowed ? 'block' : 'none';\n",
              "\n",
              "        async function convertToInteractive(key) {\n",
              "          const element = document.querySelector('#df-cbe0f7fa-b3e8-45ee-8e8f-d1fb8f76b61e');\n",
              "          const dataTable =\n",
              "            await google.colab.kernel.invokeFunction('convertToInteractive',\n",
              "                                                     [key], {});\n",
              "          if (!dataTable) return;\n",
              "\n",
              "          const docLinkHtml = 'Like what you see? Visit the ' +\n",
              "            '<a target=\"_blank\" href=https://colab.research.google.com/notebooks/data_table.ipynb>data table notebook</a>'\n",
              "            + ' to learn more about interactive tables.';\n",
              "          element.innerHTML = '';\n",
              "          dataTable['output_type'] = 'display_data';\n",
              "          await google.colab.output.renderOutput(dataTable, element);\n",
              "          const docLink = document.createElement('div');\n",
              "          docLink.innerHTML = docLinkHtml;\n",
              "          element.appendChild(docLink);\n",
              "        }\n",
              "      </script>\n",
              "    </div>\n",
              "  </div>\n",
              "  "
            ]
          },
          "metadata": {},
          "execution_count": 69
        }
      ]
    },
    {
      "cell_type": "markdown",
      "source": [
        "В данном диапазоне находится лишь некоторая минимальная часть отрицательных значений."
      ],
      "metadata": {
        "id": "s67zSDmjypYm"
      }
    },
    {
      "cell_type": "markdown",
      "source": [
        "Посмотрим, сколько значений лежат в диапазонах третьего квартиля + 1.5 интерквартильных размаха:"
      ],
      "metadata": {
        "id": "2rk87N5OypYm"
      }
    },
    {
      "cell_type": "code",
      "source": [
        "df_f[df_f[n] > kvart(n, df_f)[2]]"
      ],
      "metadata": {
        "colab": {
          "base_uri": "https://localhost:8080/",
          "height": 625
        },
        "outputId": "205b364b-08bd-42aa-90ac-9156c6776db4",
        "id": "-tqxhj1PypYn"
      },
      "execution_count": null,
      "outputs": [
        {
          "output_type": "execute_result",
          "data": {
            "text/plain": [
              "            Period_Name Source_Catalog_Code Source_Code  \\\n",
              "8              2007 год                 Гос         000   \n",
              "11             2007 год                 Гос         000   \n",
              "12             2007 год                 Гос         000   \n",
              "23             2007 год                 Гос         000   \n",
              "25             2007 год                 Гос         000   \n",
              "...                 ...                 ...         ...   \n",
              "16201  Январь 2016 года                 СБС       87900   \n",
              "16202  Январь 2016 года                 СБС       87900   \n",
              "16207  Январь 2016 года                 СБС       87900   \n",
              "16208  Январь 2016 года                 СБС       87900   \n",
              "16209  Январь 2016 года                 СБС       87900   \n",
              "\n",
              "                                             Source_Name    ВБ  Адм  \\\n",
              "8                                   Российская Федерация   5.0  000   \n",
              "11                                  Российская Федерация   5.0  000   \n",
              "12                                  Российская Федерация  10.0  000   \n",
              "23                                  Российская Федерация   5.0  000   \n",
              "25                                  Российская Федерация  10.0  000   \n",
              "...                                                  ...   ...  ...   \n",
              "16201  Бюджет субъекта - Ханты-Мансийский автономный ...   2.0  000   \n",
              "16202  Бюджет субъекта - Ханты-Мансийский автономный ...   2.0  000   \n",
              "16207  Бюджет субъекта - Ханты-Мансийский автономный ...   2.0  000   \n",
              "16208  Бюджет субъекта - Ханты-Мансийский автономный ...   2.0  000   \n",
              "16209  Бюджет субъекта - Ханты-Мансийский автономный ...   2.0  000   \n",
              "\n",
              "                      ИФ                                            ИФ Name  \\\n",
              "8      08020100050000610  Уменьшение прочих остатков денежных средств бю...   \n",
              "11     08000000000000600                Уменьшение остатков средств бюджета   \n",
              "12     08000000000000600                Уменьшение остатков средств бюджета   \n",
              "23     08020100000000610  Уменьшение прочих остатков денежных средств бю...   \n",
              "25     08020100000000610  Уменьшение прочих остатков денежных средств бю...   \n",
              "...                  ...                                                ...   \n",
              "16201  01060100000000630  Средства от продажи акций и иных форм участия ...   \n",
              "16202  01060000000000000  Иные источники внутреннего финансирования  деф...   \n",
              "16207  01030000000000000  Бюджетные кредиты из других бюджетов бюджетной...   \n",
              "16208  01050201000000610  Уменьшение прочих остатков денежных средств  б...   \n",
              "16209  01010000000000700  Размещение государственных (муниципальных)  це...   \n",
              "\n",
              "       Утвержденные бюджетные назначения     Исполнено  \\\n",
              "8                           3.113051e+08  1.852408e+08   \n",
              "11                          3.113051e+08  1.852408e+08   \n",
              "12                          2.013791e+08  1.617218e+08   \n",
              "23                          3.113051e+08  1.852408e+08   \n",
              "25                          2.013791e+08  1.617218e+08   \n",
              "...                                  ...           ...   \n",
              "16201                       1.029630e+10  0.000000e+00   \n",
              "16202                       9.665524e+09  7.112727e+09   \n",
              "16207                       6.751700e+08  0.000000e+00   \n",
              "16208                       1.766518e+09  9.376099e+10   \n",
              "16209                       6.000000e+09  0.000000e+00   \n",
              "\n",
              "       Неисполненные назначения  \n",
              "8                  1.260643e+08  \n",
              "11                 1.260643e+08  \n",
              "12                 3.965727e+07  \n",
              "23                 1.260643e+08  \n",
              "25                 3.965727e+07  \n",
              "...                         ...  \n",
              "16201              1.029630e+10  \n",
              "16202              2.552797e+09  \n",
              "16207              6.751700e+08  \n",
              "16208                       NaN  \n",
              "16209              6.000000e+09  \n",
              "\n",
              "[1648 rows x 11 columns]"
            ],
            "text/html": [
              "\n",
              "  <div id=\"df-87307636-a193-4f43-9360-b0b343ecc7d3\">\n",
              "    <div class=\"colab-df-container\">\n",
              "      <div>\n",
              "<style scoped>\n",
              "    .dataframe tbody tr th:only-of-type {\n",
              "        vertical-align: middle;\n",
              "    }\n",
              "\n",
              "    .dataframe tbody tr th {\n",
              "        vertical-align: top;\n",
              "    }\n",
              "\n",
              "    .dataframe thead th {\n",
              "        text-align: right;\n",
              "    }\n",
              "</style>\n",
              "<table border=\"1\" class=\"dataframe\">\n",
              "  <thead>\n",
              "    <tr style=\"text-align: right;\">\n",
              "      <th></th>\n",
              "      <th>Period_Name</th>\n",
              "      <th>Source_Catalog_Code</th>\n",
              "      <th>Source_Code</th>\n",
              "      <th>Source_Name</th>\n",
              "      <th>ВБ</th>\n",
              "      <th>Адм</th>\n",
              "      <th>ИФ</th>\n",
              "      <th>ИФ Name</th>\n",
              "      <th>Утвержденные бюджетные назначения</th>\n",
              "      <th>Исполнено</th>\n",
              "      <th>Неисполненные назначения</th>\n",
              "    </tr>\n",
              "  </thead>\n",
              "  <tbody>\n",
              "    <tr>\n",
              "      <th>8</th>\n",
              "      <td>2007 год</td>\n",
              "      <td>Гос</td>\n",
              "      <td>000</td>\n",
              "      <td>Российская Федерация</td>\n",
              "      <td>5.0</td>\n",
              "      <td>000</td>\n",
              "      <td>08020100050000610</td>\n",
              "      <td>Уменьшение прочих остатков денежных средств бю...</td>\n",
              "      <td>3.113051e+08</td>\n",
              "      <td>1.852408e+08</td>\n",
              "      <td>1.260643e+08</td>\n",
              "    </tr>\n",
              "    <tr>\n",
              "      <th>11</th>\n",
              "      <td>2007 год</td>\n",
              "      <td>Гос</td>\n",
              "      <td>000</td>\n",
              "      <td>Российская Федерация</td>\n",
              "      <td>5.0</td>\n",
              "      <td>000</td>\n",
              "      <td>08000000000000600</td>\n",
              "      <td>Уменьшение остатков средств бюджета</td>\n",
              "      <td>3.113051e+08</td>\n",
              "      <td>1.852408e+08</td>\n",
              "      <td>1.260643e+08</td>\n",
              "    </tr>\n",
              "    <tr>\n",
              "      <th>12</th>\n",
              "      <td>2007 год</td>\n",
              "      <td>Гос</td>\n",
              "      <td>000</td>\n",
              "      <td>Российская Федерация</td>\n",
              "      <td>10.0</td>\n",
              "      <td>000</td>\n",
              "      <td>08000000000000600</td>\n",
              "      <td>Уменьшение остатков средств бюджета</td>\n",
              "      <td>2.013791e+08</td>\n",
              "      <td>1.617218e+08</td>\n",
              "      <td>3.965727e+07</td>\n",
              "    </tr>\n",
              "    <tr>\n",
              "      <th>23</th>\n",
              "      <td>2007 год</td>\n",
              "      <td>Гос</td>\n",
              "      <td>000</td>\n",
              "      <td>Российская Федерация</td>\n",
              "      <td>5.0</td>\n",
              "      <td>000</td>\n",
              "      <td>08020100000000610</td>\n",
              "      <td>Уменьшение прочих остатков денежных средств бю...</td>\n",
              "      <td>3.113051e+08</td>\n",
              "      <td>1.852408e+08</td>\n",
              "      <td>1.260643e+08</td>\n",
              "    </tr>\n",
              "    <tr>\n",
              "      <th>25</th>\n",
              "      <td>2007 год</td>\n",
              "      <td>Гос</td>\n",
              "      <td>000</td>\n",
              "      <td>Российская Федерация</td>\n",
              "      <td>10.0</td>\n",
              "      <td>000</td>\n",
              "      <td>08020100000000610</td>\n",
              "      <td>Уменьшение прочих остатков денежных средств бю...</td>\n",
              "      <td>2.013791e+08</td>\n",
              "      <td>1.617218e+08</td>\n",
              "      <td>3.965727e+07</td>\n",
              "    </tr>\n",
              "    <tr>\n",
              "      <th>...</th>\n",
              "      <td>...</td>\n",
              "      <td>...</td>\n",
              "      <td>...</td>\n",
              "      <td>...</td>\n",
              "      <td>...</td>\n",
              "      <td>...</td>\n",
              "      <td>...</td>\n",
              "      <td>...</td>\n",
              "      <td>...</td>\n",
              "      <td>...</td>\n",
              "      <td>...</td>\n",
              "    </tr>\n",
              "    <tr>\n",
              "      <th>16201</th>\n",
              "      <td>Январь 2016 года</td>\n",
              "      <td>СБС</td>\n",
              "      <td>87900</td>\n",
              "      <td>Бюджет субъекта - Ханты-Мансийский автономный ...</td>\n",
              "      <td>2.0</td>\n",
              "      <td>000</td>\n",
              "      <td>01060100000000630</td>\n",
              "      <td>Средства от продажи акций и иных форм участия ...</td>\n",
              "      <td>1.029630e+10</td>\n",
              "      <td>0.000000e+00</td>\n",
              "      <td>1.029630e+10</td>\n",
              "    </tr>\n",
              "    <tr>\n",
              "      <th>16202</th>\n",
              "      <td>Январь 2016 года</td>\n",
              "      <td>СБС</td>\n",
              "      <td>87900</td>\n",
              "      <td>Бюджет субъекта - Ханты-Мансийский автономный ...</td>\n",
              "      <td>2.0</td>\n",
              "      <td>000</td>\n",
              "      <td>01060000000000000</td>\n",
              "      <td>Иные источники внутреннего финансирования  деф...</td>\n",
              "      <td>9.665524e+09</td>\n",
              "      <td>7.112727e+09</td>\n",
              "      <td>2.552797e+09</td>\n",
              "    </tr>\n",
              "    <tr>\n",
              "      <th>16207</th>\n",
              "      <td>Январь 2016 года</td>\n",
              "      <td>СБС</td>\n",
              "      <td>87900</td>\n",
              "      <td>Бюджет субъекта - Ханты-Мансийский автономный ...</td>\n",
              "      <td>2.0</td>\n",
              "      <td>000</td>\n",
              "      <td>01030000000000000</td>\n",
              "      <td>Бюджетные кредиты из других бюджетов бюджетной...</td>\n",
              "      <td>6.751700e+08</td>\n",
              "      <td>0.000000e+00</td>\n",
              "      <td>6.751700e+08</td>\n",
              "    </tr>\n",
              "    <tr>\n",
              "      <th>16208</th>\n",
              "      <td>Январь 2016 года</td>\n",
              "      <td>СБС</td>\n",
              "      <td>87900</td>\n",
              "      <td>Бюджет субъекта - Ханты-Мансийский автономный ...</td>\n",
              "      <td>2.0</td>\n",
              "      <td>000</td>\n",
              "      <td>01050201000000610</td>\n",
              "      <td>Уменьшение прочих остатков денежных средств  б...</td>\n",
              "      <td>1.766518e+09</td>\n",
              "      <td>9.376099e+10</td>\n",
              "      <td>NaN</td>\n",
              "    </tr>\n",
              "    <tr>\n",
              "      <th>16209</th>\n",
              "      <td>Январь 2016 года</td>\n",
              "      <td>СБС</td>\n",
              "      <td>87900</td>\n",
              "      <td>Бюджет субъекта - Ханты-Мансийский автономный ...</td>\n",
              "      <td>2.0</td>\n",
              "      <td>000</td>\n",
              "      <td>01010000000000700</td>\n",
              "      <td>Размещение государственных (муниципальных)  це...</td>\n",
              "      <td>6.000000e+09</td>\n",
              "      <td>0.000000e+00</td>\n",
              "      <td>6.000000e+09</td>\n",
              "    </tr>\n",
              "  </tbody>\n",
              "</table>\n",
              "<p>1648 rows × 11 columns</p>\n",
              "</div>\n",
              "      <button class=\"colab-df-convert\" onclick=\"convertToInteractive('df-87307636-a193-4f43-9360-b0b343ecc7d3')\"\n",
              "              title=\"Convert this dataframe to an interactive table.\"\n",
              "              style=\"display:none;\">\n",
              "        \n",
              "  <svg xmlns=\"http://www.w3.org/2000/svg\" height=\"24px\"viewBox=\"0 0 24 24\"\n",
              "       width=\"24px\">\n",
              "    <path d=\"M0 0h24v24H0V0z\" fill=\"none\"/>\n",
              "    <path d=\"M18.56 5.44l.94 2.06.94-2.06 2.06-.94-2.06-.94-.94-2.06-.94 2.06-2.06.94zm-11 1L8.5 8.5l.94-2.06 2.06-.94-2.06-.94L8.5 2.5l-.94 2.06-2.06.94zm10 10l.94 2.06.94-2.06 2.06-.94-2.06-.94-.94-2.06-.94 2.06-2.06.94z\"/><path d=\"M17.41 7.96l-1.37-1.37c-.4-.4-.92-.59-1.43-.59-.52 0-1.04.2-1.43.59L10.3 9.45l-7.72 7.72c-.78.78-.78 2.05 0 2.83L4 21.41c.39.39.9.59 1.41.59.51 0 1.02-.2 1.41-.59l7.78-7.78 2.81-2.81c.8-.78.8-2.07 0-2.86zM5.41 20L4 18.59l7.72-7.72 1.47 1.35L5.41 20z\"/>\n",
              "  </svg>\n",
              "      </button>\n",
              "      \n",
              "  <style>\n",
              "    .colab-df-container {\n",
              "      display:flex;\n",
              "      flex-wrap:wrap;\n",
              "      gap: 12px;\n",
              "    }\n",
              "\n",
              "    .colab-df-convert {\n",
              "      background-color: #E8F0FE;\n",
              "      border: none;\n",
              "      border-radius: 50%;\n",
              "      cursor: pointer;\n",
              "      display: none;\n",
              "      fill: #1967D2;\n",
              "      height: 32px;\n",
              "      padding: 0 0 0 0;\n",
              "      width: 32px;\n",
              "    }\n",
              "\n",
              "    .colab-df-convert:hover {\n",
              "      background-color: #E2EBFA;\n",
              "      box-shadow: 0px 1px 2px rgba(60, 64, 67, 0.3), 0px 1px 3px 1px rgba(60, 64, 67, 0.15);\n",
              "      fill: #174EA6;\n",
              "    }\n",
              "\n",
              "    [theme=dark] .colab-df-convert {\n",
              "      background-color: #3B4455;\n",
              "      fill: #D2E3FC;\n",
              "    }\n",
              "\n",
              "    [theme=dark] .colab-df-convert:hover {\n",
              "      background-color: #434B5C;\n",
              "      box-shadow: 0px 1px 3px 1px rgba(0, 0, 0, 0.15);\n",
              "      filter: drop-shadow(0px 1px 2px rgba(0, 0, 0, 0.3));\n",
              "      fill: #FFFFFF;\n",
              "    }\n",
              "  </style>\n",
              "\n",
              "      <script>\n",
              "        const buttonEl =\n",
              "          document.querySelector('#df-87307636-a193-4f43-9360-b0b343ecc7d3 button.colab-df-convert');\n",
              "        buttonEl.style.display =\n",
              "          google.colab.kernel.accessAllowed ? 'block' : 'none';\n",
              "\n",
              "        async function convertToInteractive(key) {\n",
              "          const element = document.querySelector('#df-87307636-a193-4f43-9360-b0b343ecc7d3');\n",
              "          const dataTable =\n",
              "            await google.colab.kernel.invokeFunction('convertToInteractive',\n",
              "                                                     [key], {});\n",
              "          if (!dataTable) return;\n",
              "\n",
              "          const docLinkHtml = 'Like what you see? Visit the ' +\n",
              "            '<a target=\"_blank\" href=https://colab.research.google.com/notebooks/data_table.ipynb>data table notebook</a>'\n",
              "            + ' to learn more about interactive tables.';\n",
              "          element.innerHTML = '';\n",
              "          dataTable['output_type'] = 'display_data';\n",
              "          await google.colab.output.renderOutput(dataTable, element);\n",
              "          const docLink = document.createElement('div');\n",
              "          docLink.innerHTML = docLinkHtml;\n",
              "          element.appendChild(docLink);\n",
              "        }\n",
              "      </script>\n",
              "    </div>\n",
              "  </div>\n",
              "  "
            ]
          },
          "metadata": {},
          "execution_count": 70
        }
      ]
    },
    {
      "cell_type": "markdown",
      "source": [
        "В этом диапазоне отрицательных значений уже не наблюдается."
      ],
      "metadata": {
        "id": "bzwnhztWypYn"
      }
    },
    {
      "cell_type": "markdown",
      "source": [
        "Посмотрим на значения более 1 000 000 000, теоретически, они по праву могут находиться в наших данных.\n"
      ],
      "metadata": {
        "id": "byFejMijypYn"
      }
    },
    {
      "cell_type": "code",
      "source": [
        "df_f[df_f[n] > 1000000000]"
      ],
      "metadata": {
        "colab": {
          "base_uri": "https://localhost:8080/",
          "height": 643
        },
        "outputId": "b948c1f5-12ea-4240-f0fd-504bc50b7617",
        "id": "iH5i11B-ypYn"
      },
      "execution_count": null,
      "outputs": [
        {
          "output_type": "execute_result",
          "data": {
            "text/plain": [
              "            Period_Name Source_Catalog_Code Source_Code  \\\n",
              "165            2007 год                МНЦП       35012   \n",
              "177            2007 год                МНЦП       35012   \n",
              "180            2007 год                МНЦП       35012   \n",
              "184            2007 год                МНЦП       35012   \n",
              "258            2007 год                 СБС       14900   \n",
              "...                 ...                 ...         ...   \n",
              "16200  Январь 2016 года                 СБС       87900   \n",
              "16201  Январь 2016 года                 СБС       87900   \n",
              "16202  Январь 2016 года                 СБС       87900   \n",
              "16208  Январь 2016 года                 СБС       87900   \n",
              "16209  Январь 2016 года                 СБС       87900   \n",
              "\n",
              "                                             Source_Name   ВБ  Адм  \\\n",
              "165                                             Гурьевск  0.0  000   \n",
              "177                                             Гурьевск  0.0  000   \n",
              "180                                             Гурьевск  0.0  000   \n",
              "184                                             Гурьевск  0.0  000   \n",
              "258               Бюджет субъекта - Республика Ингушетия  2.0  000   \n",
              "...                                                  ...  ...  ...   \n",
              "16200  Бюджет субъекта - Ханты-Мансийский автономный ...  2.0  000   \n",
              "16201  Бюджет субъекта - Ханты-Мансийский автономный ...  2.0  000   \n",
              "16202  Бюджет субъекта - Ханты-Мансийский автономный ...  2.0  000   \n",
              "16208  Бюджет субъекта - Ханты-Мансийский автономный ...  2.0  000   \n",
              "16209  Бюджет субъекта - Ханты-Мансийский автономный ...  2.0  000   \n",
              "\n",
              "                      ИФ                                            ИФ Name  \\\n",
              "165    08020000000000600        Уменьшение прочих остатков средств бюджетов   \n",
              "177    08020100000000610  Уменьшение прочих остатков денежных средств бю...   \n",
              "180    08020100040000610  Уменьшение прочих остатков денежных средств бю...   \n",
              "184    08000000000000600                Уменьшение остатков средств бюджета   \n",
              "258    08020100020000610  Уменьшение прочих остатков денежных средств бю...   \n",
              "...                  ...                                                ...   \n",
              "16200  01050100000000600  Уменьшение остатков финансовых резервов  бюджетов   \n",
              "16201  01060100000000630  Средства от продажи акций и иных форм участия ...   \n",
              "16202  01060000000000000  Иные источники внутреннего финансирования  деф...   \n",
              "16208  01050201000000610  Уменьшение прочих остатков денежных средств  б...   \n",
              "16209  01010000000000700  Размещение государственных (муниципальных)  це...   \n",
              "\n",
              "       Утвержденные бюджетные назначения     Исполнено  \\\n",
              "165                         1.150451e+09  1.011976e+09   \n",
              "177                         1.150451e+09  1.011976e+09   \n",
              "180                         1.150451e+09  1.011976e+09   \n",
              "184                         1.150451e+09  1.011976e+09   \n",
              "258                         7.376716e+09  8.631800e+09   \n",
              "...                                  ...           ...   \n",
              "16200                       5.000000e+09  0.000000e+00   \n",
              "16201                       1.029630e+10  0.000000e+00   \n",
              "16202                       9.665524e+09  7.112727e+09   \n",
              "16208                       1.766518e+09  9.376099e+10   \n",
              "16209                       6.000000e+09  0.000000e+00   \n",
              "\n",
              "       Неисполненные назначения  \n",
              "165                1.384749e+08  \n",
              "177                1.384749e+08  \n",
              "180                1.384749e+08  \n",
              "184                1.384749e+08  \n",
              "258                         NaN  \n",
              "...                         ...  \n",
              "16200                       NaN  \n",
              "16201              1.029630e+10  \n",
              "16202              2.552797e+09  \n",
              "16208                       NaN  \n",
              "16209              6.000000e+09  \n",
              "\n",
              "[932 rows x 11 columns]"
            ],
            "text/html": [
              "\n",
              "  <div id=\"df-e42eeaab-861f-4b7a-9a2a-234b22905a68\">\n",
              "    <div class=\"colab-df-container\">\n",
              "      <div>\n",
              "<style scoped>\n",
              "    .dataframe tbody tr th:only-of-type {\n",
              "        vertical-align: middle;\n",
              "    }\n",
              "\n",
              "    .dataframe tbody tr th {\n",
              "        vertical-align: top;\n",
              "    }\n",
              "\n",
              "    .dataframe thead th {\n",
              "        text-align: right;\n",
              "    }\n",
              "</style>\n",
              "<table border=\"1\" class=\"dataframe\">\n",
              "  <thead>\n",
              "    <tr style=\"text-align: right;\">\n",
              "      <th></th>\n",
              "      <th>Period_Name</th>\n",
              "      <th>Source_Catalog_Code</th>\n",
              "      <th>Source_Code</th>\n",
              "      <th>Source_Name</th>\n",
              "      <th>ВБ</th>\n",
              "      <th>Адм</th>\n",
              "      <th>ИФ</th>\n",
              "      <th>ИФ Name</th>\n",
              "      <th>Утвержденные бюджетные назначения</th>\n",
              "      <th>Исполнено</th>\n",
              "      <th>Неисполненные назначения</th>\n",
              "    </tr>\n",
              "  </thead>\n",
              "  <tbody>\n",
              "    <tr>\n",
              "      <th>165</th>\n",
              "      <td>2007 год</td>\n",
              "      <td>МНЦП</td>\n",
              "      <td>35012</td>\n",
              "      <td>Гурьевск</td>\n",
              "      <td>0.0</td>\n",
              "      <td>000</td>\n",
              "      <td>08020000000000600</td>\n",
              "      <td>Уменьшение прочих остатков средств бюджетов</td>\n",
              "      <td>1.150451e+09</td>\n",
              "      <td>1.011976e+09</td>\n",
              "      <td>1.384749e+08</td>\n",
              "    </tr>\n",
              "    <tr>\n",
              "      <th>177</th>\n",
              "      <td>2007 год</td>\n",
              "      <td>МНЦП</td>\n",
              "      <td>35012</td>\n",
              "      <td>Гурьевск</td>\n",
              "      <td>0.0</td>\n",
              "      <td>000</td>\n",
              "      <td>08020100000000610</td>\n",
              "      <td>Уменьшение прочих остатков денежных средств бю...</td>\n",
              "      <td>1.150451e+09</td>\n",
              "      <td>1.011976e+09</td>\n",
              "      <td>1.384749e+08</td>\n",
              "    </tr>\n",
              "    <tr>\n",
              "      <th>180</th>\n",
              "      <td>2007 год</td>\n",
              "      <td>МНЦП</td>\n",
              "      <td>35012</td>\n",
              "      <td>Гурьевск</td>\n",
              "      <td>0.0</td>\n",
              "      <td>000</td>\n",
              "      <td>08020100040000610</td>\n",
              "      <td>Уменьшение прочих остатков денежных средств бю...</td>\n",
              "      <td>1.150451e+09</td>\n",
              "      <td>1.011976e+09</td>\n",
              "      <td>1.384749e+08</td>\n",
              "    </tr>\n",
              "    <tr>\n",
              "      <th>184</th>\n",
              "      <td>2007 год</td>\n",
              "      <td>МНЦП</td>\n",
              "      <td>35012</td>\n",
              "      <td>Гурьевск</td>\n",
              "      <td>0.0</td>\n",
              "      <td>000</td>\n",
              "      <td>08000000000000600</td>\n",
              "      <td>Уменьшение остатков средств бюджета</td>\n",
              "      <td>1.150451e+09</td>\n",
              "      <td>1.011976e+09</td>\n",
              "      <td>1.384749e+08</td>\n",
              "    </tr>\n",
              "    <tr>\n",
              "      <th>258</th>\n",
              "      <td>2007 год</td>\n",
              "      <td>СБС</td>\n",
              "      <td>14900</td>\n",
              "      <td>Бюджет субъекта - Республика Ингушетия</td>\n",
              "      <td>2.0</td>\n",
              "      <td>000</td>\n",
              "      <td>08020100020000610</td>\n",
              "      <td>Уменьшение прочих остатков денежных средств бю...</td>\n",
              "      <td>7.376716e+09</td>\n",
              "      <td>8.631800e+09</td>\n",
              "      <td>NaN</td>\n",
              "    </tr>\n",
              "    <tr>\n",
              "      <th>...</th>\n",
              "      <td>...</td>\n",
              "      <td>...</td>\n",
              "      <td>...</td>\n",
              "      <td>...</td>\n",
              "      <td>...</td>\n",
              "      <td>...</td>\n",
              "      <td>...</td>\n",
              "      <td>...</td>\n",
              "      <td>...</td>\n",
              "      <td>...</td>\n",
              "      <td>...</td>\n",
              "    </tr>\n",
              "    <tr>\n",
              "      <th>16200</th>\n",
              "      <td>Январь 2016 года</td>\n",
              "      <td>СБС</td>\n",
              "      <td>87900</td>\n",
              "      <td>Бюджет субъекта - Ханты-Мансийский автономный ...</td>\n",
              "      <td>2.0</td>\n",
              "      <td>000</td>\n",
              "      <td>01050100000000600</td>\n",
              "      <td>Уменьшение остатков финансовых резервов  бюджетов</td>\n",
              "      <td>5.000000e+09</td>\n",
              "      <td>0.000000e+00</td>\n",
              "      <td>NaN</td>\n",
              "    </tr>\n",
              "    <tr>\n",
              "      <th>16201</th>\n",
              "      <td>Январь 2016 года</td>\n",
              "      <td>СБС</td>\n",
              "      <td>87900</td>\n",
              "      <td>Бюджет субъекта - Ханты-Мансийский автономный ...</td>\n",
              "      <td>2.0</td>\n",
              "      <td>000</td>\n",
              "      <td>01060100000000630</td>\n",
              "      <td>Средства от продажи акций и иных форм участия ...</td>\n",
              "      <td>1.029630e+10</td>\n",
              "      <td>0.000000e+00</td>\n",
              "      <td>1.029630e+10</td>\n",
              "    </tr>\n",
              "    <tr>\n",
              "      <th>16202</th>\n",
              "      <td>Январь 2016 года</td>\n",
              "      <td>СБС</td>\n",
              "      <td>87900</td>\n",
              "      <td>Бюджет субъекта - Ханты-Мансийский автономный ...</td>\n",
              "      <td>2.0</td>\n",
              "      <td>000</td>\n",
              "      <td>01060000000000000</td>\n",
              "      <td>Иные источники внутреннего финансирования  деф...</td>\n",
              "      <td>9.665524e+09</td>\n",
              "      <td>7.112727e+09</td>\n",
              "      <td>2.552797e+09</td>\n",
              "    </tr>\n",
              "    <tr>\n",
              "      <th>16208</th>\n",
              "      <td>Январь 2016 года</td>\n",
              "      <td>СБС</td>\n",
              "      <td>87900</td>\n",
              "      <td>Бюджет субъекта - Ханты-Мансийский автономный ...</td>\n",
              "      <td>2.0</td>\n",
              "      <td>000</td>\n",
              "      <td>01050201000000610</td>\n",
              "      <td>Уменьшение прочих остатков денежных средств  б...</td>\n",
              "      <td>1.766518e+09</td>\n",
              "      <td>9.376099e+10</td>\n",
              "      <td>NaN</td>\n",
              "    </tr>\n",
              "    <tr>\n",
              "      <th>16209</th>\n",
              "      <td>Январь 2016 года</td>\n",
              "      <td>СБС</td>\n",
              "      <td>87900</td>\n",
              "      <td>Бюджет субъекта - Ханты-Мансийский автономный ...</td>\n",
              "      <td>2.0</td>\n",
              "      <td>000</td>\n",
              "      <td>01010000000000700</td>\n",
              "      <td>Размещение государственных (муниципальных)  це...</td>\n",
              "      <td>6.000000e+09</td>\n",
              "      <td>0.000000e+00</td>\n",
              "      <td>6.000000e+09</td>\n",
              "    </tr>\n",
              "  </tbody>\n",
              "</table>\n",
              "<p>932 rows × 11 columns</p>\n",
              "</div>\n",
              "      <button class=\"colab-df-convert\" onclick=\"convertToInteractive('df-e42eeaab-861f-4b7a-9a2a-234b22905a68')\"\n",
              "              title=\"Convert this dataframe to an interactive table.\"\n",
              "              style=\"display:none;\">\n",
              "        \n",
              "  <svg xmlns=\"http://www.w3.org/2000/svg\" height=\"24px\"viewBox=\"0 0 24 24\"\n",
              "       width=\"24px\">\n",
              "    <path d=\"M0 0h24v24H0V0z\" fill=\"none\"/>\n",
              "    <path d=\"M18.56 5.44l.94 2.06.94-2.06 2.06-.94-2.06-.94-.94-2.06-.94 2.06-2.06.94zm-11 1L8.5 8.5l.94-2.06 2.06-.94-2.06-.94L8.5 2.5l-.94 2.06-2.06.94zm10 10l.94 2.06.94-2.06 2.06-.94-2.06-.94-.94-2.06-.94 2.06-2.06.94z\"/><path d=\"M17.41 7.96l-1.37-1.37c-.4-.4-.92-.59-1.43-.59-.52 0-1.04.2-1.43.59L10.3 9.45l-7.72 7.72c-.78.78-.78 2.05 0 2.83L4 21.41c.39.39.9.59 1.41.59.51 0 1.02-.2 1.41-.59l7.78-7.78 2.81-2.81c.8-.78.8-2.07 0-2.86zM5.41 20L4 18.59l7.72-7.72 1.47 1.35L5.41 20z\"/>\n",
              "  </svg>\n",
              "      </button>\n",
              "      \n",
              "  <style>\n",
              "    .colab-df-container {\n",
              "      display:flex;\n",
              "      flex-wrap:wrap;\n",
              "      gap: 12px;\n",
              "    }\n",
              "\n",
              "    .colab-df-convert {\n",
              "      background-color: #E8F0FE;\n",
              "      border: none;\n",
              "      border-radius: 50%;\n",
              "      cursor: pointer;\n",
              "      display: none;\n",
              "      fill: #1967D2;\n",
              "      height: 32px;\n",
              "      padding: 0 0 0 0;\n",
              "      width: 32px;\n",
              "    }\n",
              "\n",
              "    .colab-df-convert:hover {\n",
              "      background-color: #E2EBFA;\n",
              "      box-shadow: 0px 1px 2px rgba(60, 64, 67, 0.3), 0px 1px 3px 1px rgba(60, 64, 67, 0.15);\n",
              "      fill: #174EA6;\n",
              "    }\n",
              "\n",
              "    [theme=dark] .colab-df-convert {\n",
              "      background-color: #3B4455;\n",
              "      fill: #D2E3FC;\n",
              "    }\n",
              "\n",
              "    [theme=dark] .colab-df-convert:hover {\n",
              "      background-color: #434B5C;\n",
              "      box-shadow: 0px 1px 3px 1px rgba(0, 0, 0, 0.15);\n",
              "      filter: drop-shadow(0px 1px 2px rgba(0, 0, 0, 0.3));\n",
              "      fill: #FFFFFF;\n",
              "    }\n",
              "  </style>\n",
              "\n",
              "      <script>\n",
              "        const buttonEl =\n",
              "          document.querySelector('#df-e42eeaab-861f-4b7a-9a2a-234b22905a68 button.colab-df-convert');\n",
              "        buttonEl.style.display =\n",
              "          google.colab.kernel.accessAllowed ? 'block' : 'none';\n",
              "\n",
              "        async function convertToInteractive(key) {\n",
              "          const element = document.querySelector('#df-e42eeaab-861f-4b7a-9a2a-234b22905a68');\n",
              "          const dataTable =\n",
              "            await google.colab.kernel.invokeFunction('convertToInteractive',\n",
              "                                                     [key], {});\n",
              "          if (!dataTable) return;\n",
              "\n",
              "          const docLinkHtml = 'Like what you see? Visit the ' +\n",
              "            '<a target=\"_blank\" href=https://colab.research.google.com/notebooks/data_table.ipynb>data table notebook</a>'\n",
              "            + ' to learn more about interactive tables.';\n",
              "          element.innerHTML = '';\n",
              "          dataTable['output_type'] = 'display_data';\n",
              "          await google.colab.output.renderOutput(dataTable, element);\n",
              "          const docLink = document.createElement('div');\n",
              "          docLink.innerHTML = docLinkHtml;\n",
              "          element.appendChild(docLink);\n",
              "        }\n",
              "      </script>\n",
              "    </div>\n",
              "  </div>\n",
              "  "
            ]
          },
          "metadata": {},
          "execution_count": 71
        }
      ]
    },
    {
      "cell_type": "markdown",
      "source": [
        "Посмотрим распределение по регионам:"
      ],
      "metadata": {
        "id": "5TkgdsMsypYn"
      }
    },
    {
      "cell_type": "code",
      "source": [
        "ax = sns.violinplot(x= 'Source_Name', y=n, data=df_f[df_f[n] > 1000000000])\n",
        "plt.xticks(rotation='vertical')"
      ],
      "metadata": {
        "colab": {
          "base_uri": "https://localhost:8080/",
          "height": 912
        },
        "outputId": "07fba222-674c-463f-dc62-d6341ac53ef1",
        "id": "CTwxsuDNypYo"
      },
      "execution_count": null,
      "outputs": [
        {
          "output_type": "execute_result",
          "data": {
            "text/plain": [
              "(array([ 0,  1,  2,  3,  4,  5,  6,  7,  8,  9, 10, 11, 12, 13, 14, 15, 16,\n",
              "        17, 18, 19, 20, 21, 22, 23, 24, 25, 26, 27, 28, 29, 30, 31, 32, 33,\n",
              "        34, 35, 36, 37, 38, 39, 40, 41, 42, 43, 44, 45, 46, 47, 48, 49, 50,\n",
              "        51]), <a list of 52 Text major ticklabel objects>)"
            ]
          },
          "metadata": {},
          "execution_count": 72
        },
        {
          "output_type": "display_data",
          "data": {
            "text/plain": [
              "<Figure size 576x576 with 1 Axes>"
            ],
            "image/png": "[encoded data removed]"
          },
          "metadata": {
            "needs_background": "light"
          }
        }
      ]
    },
    {
      "cell_type": "markdown",
      "source": [
        "Наблюдаемые выбросы не являются ошибками ввода, поскольку наблюдается зависимость, ранее выявленная на диаграмме с доминирующим количеством данных в федеральном регионе (РФ) и в республике Башкортостан."
      ],
      "metadata": {
        "id": "2IkMM7VjypYo"
      }
    },
    {
      "cell_type": "markdown",
      "source": [
        "В целом, по первому общему описанию видно, что данные рассредоточены примерно так же; максимальные значения находятся в рамках допустимого, поэтому удалять их не следует.\n",
        "\n",
        "**Посмотрим на отрицательные значения и вынесем их в отдельный файл для ознакомления заказчика с данными предположительными ошибками ввода:**"
      ],
      "metadata": {
        "id": "JsHfTBg2ypYo"
      }
    },
    {
      "cell_type": "code",
      "source": [
        "neg_arr = []\n",
        "for i in df_f.columns[8:]:\n",
        "   neg_arr.append(' в столбце '+ i +' отрицательных значений: '+str(len(df_f[df_f[i] < 0])))\n",
        "neg_arr"
      ],
      "metadata": {
        "colab": {
          "base_uri": "https://localhost:8080/"
        },
        "id": "rc2ZUeSZQUws",
        "outputId": "cacce8d6-973d-4077-d199-4dd93d8e856e"
      },
      "execution_count": null,
      "outputs": [
        {
          "output_type": "execute_result",
          "data": {
            "text/plain": [
              "[' в столбце Утвержденные бюджетные назначения отрицательных значений: 1429',\n",
              " ' в столбце Исполнено отрицательных значений: 1638',\n",
              " ' в столбце Неисполненные назначения отрицательных значений: 2805']"
            ]
          },
          "metadata": {},
          "execution_count": 78
        }
      ]
    },
    {
      "cell_type": "code",
      "source": [
        "write_to_file(\"income_negative_values.txt\",neg_arr)"
      ],
      "metadata": {
        "colab": {
          "base_uri": "https://localhost:8080/",
          "height": 35
        },
        "id": "YzwZKhcuQUwu",
        "outputId": "6bcb7a82-15ad-43d3-9c57-4044ab04b149"
      },
      "execution_count": null,
      "outputs": [
        {
          "output_type": "execute_result",
          "data": {
            "text/plain": [
              "'Файл успешно записан'"
            ],
            "application/vnd.google.colaboratory.intrinsic+json": {
              "type": "string"
            }
          },
          "metadata": {},
          "execution_count": 79
        }
      ]
    },
    {
      "cell_type": "markdown",
      "source": [
        "## Удаление строк с пропусками"
      ],
      "metadata": {
        "id": "Iy_E7iUXypYp"
      }
    },
    {
      "cell_type": "code",
      "source": [
        "for col in df_f.columns:\n",
        "    missing = df_f[col].isnull()\n",
        "    num_missing = np.sum(missing)\n",
        "    \n",
        "    if num_missing > 0:  \n",
        "        print('created missing indicator for: {}'.format(col))\n",
        "        df_f['{}_ismissing'.format(col)] = missing\n",
        "\n",
        "\n",
        "ismissing_cols = [col for col in df_f.columns if 'ismissing' in col]\n",
        "df_f['num_missing'] = df_f[ismissing_cols].sum(axis=1)\n",
        "\n",
        "df_f['num_missing'].value_counts().reset_index().sort_values(by='index').plot.bar(x='index', y='num_missing')"
      ],
      "metadata": {
        "colab": {
          "base_uri": "https://localhost:8080/",
          "height": 690
        },
        "outputId": "e04152d0-3a2b-4bec-aece-68addde0b382",
        "id": "fB-nuZelypYp"
      },
      "execution_count": null,
      "outputs": [
        {
          "output_type": "stream",
          "name": "stdout",
          "text": [
            "created missing indicator for: Source_Catalog_Code\n",
            "created missing indicator for: Source_Code\n",
            "created missing indicator for: Source_Name\n",
            "created missing indicator for: ВБ\n",
            "created missing indicator for: Адм\n",
            "created missing indicator for: ИФ\n",
            "created missing indicator for: ИФ Name\n",
            "created missing indicator for: Утвержденные бюджетные назначения\n",
            "created missing indicator for: Исполнено\n",
            "created missing indicator for: Неисполненные назначения\n"
          ]
        },
        {
          "output_type": "execute_result",
          "data": {
            "text/plain": [
              "<matplotlib.axes._subplots.AxesSubplot at 0x7f13df81ffd0>"
            ]
          },
          "metadata": {},
          "execution_count": 80
        },
        {
          "output_type": "display_data",
          "data": {
            "text/plain": [
              "<Figure size 576x576 with 1 Axes>"
            ],
            "image/png": "[encoded data removed]"
          },
          "metadata": {
            "needs_background": "light"
          }
        }
      ]
    },
    {
      "cell_type": "code",
      "source": [
        "print('Количество строк в датасете до очистки: ', len(df_f))\n",
        "print('Суммарное количество отсутсвующих значений (Nan) в датасете: ', (len(df_f) - df_f.count()).sum())"
      ],
      "metadata": {
        "colab": {
          "base_uri": "https://localhost:8080/"
        },
        "outputId": "b54054d3-ea9c-4af3-c473-b75cb65e0415",
        "id": "fcgQWOJQypYp"
      },
      "execution_count": null,
      "outputs": [
        {
          "output_type": "stream",
          "name": "stdout",
          "text": [
            "Количество строк в датасете до очистки:  16383\n",
            "Суммарное количество отсутсвующих значений (Nan) в датасете:  8744\n"
          ]
        }
      ]
    },
    {
      "cell_type": "code",
      "source": [
        "ind_missing = df_f[df_f['num_missing'] == 3].index # если 3 пропуска (предполагается отсутствие данных в главных колонках)\n",
        "new_df_less_missing_rows = df_f.drop(ind_missing, axis=0,inplace=True)\n",
        "df_f"
      ],
      "metadata": {
        "colab": {
          "base_uri": "https://localhost:8080/",
          "height": 1058
        },
        "outputId": "d777b30b-ce15-42db-d672-9509aa72513e",
        "id": "n5qWkIUpypYq"
      },
      "execution_count": null,
      "outputs": [
        {
          "output_type": "execute_result",
          "data": {
            "text/plain": [
              "                   Period_Name Source_Catalog_Code Source_Code  \\\n",
              "0                     2007 год                 Гос         000   \n",
              "1                     2007 год                 Гос         000   \n",
              "2                     2007 год                 Гос         000   \n",
              "3                     2007 год                 Гос         000   \n",
              "4                     2007 год                 Гос         000   \n",
              "...                        ...                 ...         ...   \n",
              "16378         Январь 2020 года                 Рег          01   \n",
              "16379         Январь 2020 года                 Рег          01   \n",
              "16380         Январь 2020 года                 Рег          01   \n",
              "16381         Январь 2020 года                 Рег          01   \n",
              "16382  (16382 row(s) affected)                 NaN         NaN   \n",
              "\n",
              "                   Source_Name    ВБ  Адм                 ИФ  \\\n",
              "0         Российская Федерация  10.0  000  02010100100000710   \n",
              "1         Российская Федерация   5.0  000  02010200050000810   \n",
              "2         Российская Федерация   0.0  000  01010000010000710   \n",
              "3         Российская Федерация   3.0  000  01010000010000710   \n",
              "4         Российская Федерация   2.0  000  01010000010000710   \n",
              "...                        ...   ...  ...                ...   \n",
              "16378  Республика Башкортостан   2.0  048  01010000000000000   \n",
              "16379  Республика Башкортостан   2.0  048  02050000040000820   \n",
              "16380  Республика Башкортостан   2.0  048  02050000030000820   \n",
              "16381  Республика Башкортостан   2.0  048  02050000110000820   \n",
              "16382                      NaN   NaN  NaN                NaN   \n",
              "\n",
              "                                                 ИФ Name  \\\n",
              "0      Бюджетные кредиты, полученные от других бюджет...   \n",
              "1      Кредиты, полученные в валюте Российской Федера...   \n",
              "2      Размещение государственных ценных бумаг  Росси...   \n",
              "3      Размещение государственных ценных бумаг  Росси...   \n",
              "4      Размещение государственных ценных бумаг  Росси...   \n",
              "...                                                  ...   \n",
              "16378  Государственные (муниципальные) ценные бумаги,...   \n",
              "16379  Погашение бюджетами городских округов бюджетны...   \n",
              "16380  Погашение бюджетами внутригородских муниципаль...   \n",
              "16381  Погашение бюджетами городских округов с внутри...   \n",
              "16382                                                NaN   \n",
              "\n",
              "       Утвержденные бюджетные назначения   Исполнено  ...  \\\n",
              "0                             14907900.0  13500000.0  ...   \n",
              "1                             -5800000.0  -5800000.0  ...   \n",
              "2                                    7.0    109998.0  ...   \n",
              "3                                    6.0        18.0  ...   \n",
              "4                                    2.0         6.0  ...   \n",
              "...                                  ...         ...  ...   \n",
              "16378                               40.0         5.0  ...   \n",
              "16379                                1.0         NaN  ...   \n",
              "16380                                1.0         NaN  ...   \n",
              "16381                                1.0         NaN  ...   \n",
              "16382                                NaN         NaN  ...   \n",
              "\n",
              "       Source_Code_ismissing  Source_Name_ismissing  ВБ_ismissing  \\\n",
              "0                      False                  False         False   \n",
              "1                      False                  False         False   \n",
              "2                      False                  False         False   \n",
              "3                      False                  False         False   \n",
              "4                      False                  False         False   \n",
              "...                      ...                    ...           ...   \n",
              "16378                  False                  False         False   \n",
              "16379                  False                  False         False   \n",
              "16380                  False                  False         False   \n",
              "16381                  False                  False         False   \n",
              "16382                   True                   True          True   \n",
              "\n",
              "       Адм_ismissing  ИФ_ismissing  ИФ Name_ismissing  \\\n",
              "0              False         False              False   \n",
              "1              False         False              False   \n",
              "2              False         False              False   \n",
              "3              False         False              False   \n",
              "4              False         False              False   \n",
              "...              ...           ...                ...   \n",
              "16378          False         False              False   \n",
              "16379          False         False              False   \n",
              "16380          False         False              False   \n",
              "16381          False         False              False   \n",
              "16382           True          True               True   \n",
              "\n",
              "       Утвержденные бюджетные назначения_ismissing  Исполнено_ismissing  \\\n",
              "0                                            False                False   \n",
              "1                                            False                False   \n",
              "2                                            False                False   \n",
              "3                                            False                False   \n",
              "4                                            False                False   \n",
              "...                                            ...                  ...   \n",
              "16378                                        False                False   \n",
              "16379                                        False                 True   \n",
              "16380                                        False                 True   \n",
              "16381                                        False                 True   \n",
              "16382                                         True                 True   \n",
              "\n",
              "       Неисполненные назначения_ismissing  num_missing  \n",
              "0                                   False            0  \n",
              "1                                   False            0  \n",
              "2                                   False            0  \n",
              "3                                   False            0  \n",
              "4                                   False            0  \n",
              "...                                   ...          ...  \n",
              "16378                               False            0  \n",
              "16379                               False            1  \n",
              "16380                               False            1  \n",
              "16381                               False            1  \n",
              "16382                                True           10  \n",
              "\n",
              "[16111 rows x 22 columns]"
            ],
            "text/html": [
              "\n",
              "  <div id=\"df-3a95cc8a-5afe-48ad-8b7a-625b1e8149d0\">\n",
              "    <div class=\"colab-df-container\">\n",
              "      <div>\n",
              "<style scoped>\n",
              "    .dataframe tbody tr th:only-of-type {\n",
              "        vertical-align: middle;\n",
              "    }\n",
              "\n",
              "    .dataframe tbody tr th {\n",
              "        vertical-align: top;\n",
              "    }\n",
              "\n",
              "    .dataframe thead th {\n",
              "        text-align: right;\n",
              "    }\n",
              "</style>\n",
              "<table border=\"1\" class=\"dataframe\">\n",
              "  <thead>\n",
              "    <tr style=\"text-align: right;\">\n",
              "      <th></th>\n",
              "      <th>Period_Name</th>\n",
              "      <th>Source_Catalog_Code</th>\n",
              "      <th>Source_Code</th>\n",
              "      <th>Source_Name</th>\n",
              "      <th>ВБ</th>\n",
              "      <th>Адм</th>\n",
              "      <th>ИФ</th>\n",
              "      <th>ИФ Name</th>\n",
              "      <th>Утвержденные бюджетные назначения</th>\n",
              "      <th>Исполнено</th>\n",
              "      <th>...</th>\n",
              "      <th>Source_Code_ismissing</th>\n",
              "      <th>Source_Name_ismissing</th>\n",
              "      <th>ВБ_ismissing</th>\n",
              "      <th>Адм_ismissing</th>\n",
              "      <th>ИФ_ismissing</th>\n",
              "      <th>ИФ Name_ismissing</th>\n",
              "      <th>Утвержденные бюджетные назначения_ismissing</th>\n",
              "      <th>Исполнено_ismissing</th>\n",
              "      <th>Неисполненные назначения_ismissing</th>\n",
              "      <th>num_missing</th>\n",
              "    </tr>\n",
              "  </thead>\n",
              "  <tbody>\n",
              "    <tr>\n",
              "      <th>0</th>\n",
              "      <td>2007 год</td>\n",
              "      <td>Гос</td>\n",
              "      <td>000</td>\n",
              "      <td>Российская Федерация</td>\n",
              "      <td>10.0</td>\n",
              "      <td>000</td>\n",
              "      <td>02010100100000710</td>\n",
              "      <td>Бюджетные кредиты, полученные от других бюджет...</td>\n",
              "      <td>14907900.0</td>\n",
              "      <td>13500000.0</td>\n",
              "      <td>...</td>\n",
              "      <td>False</td>\n",
              "      <td>False</td>\n",
              "      <td>False</td>\n",
              "      <td>False</td>\n",
              "      <td>False</td>\n",
              "      <td>False</td>\n",
              "      <td>False</td>\n",
              "      <td>False</td>\n",
              "      <td>False</td>\n",
              "      <td>0</td>\n",
              "    </tr>\n",
              "    <tr>\n",
              "      <th>1</th>\n",
              "      <td>2007 год</td>\n",
              "      <td>Гос</td>\n",
              "      <td>000</td>\n",
              "      <td>Российская Федерация</td>\n",
              "      <td>5.0</td>\n",
              "      <td>000</td>\n",
              "      <td>02010200050000810</td>\n",
              "      <td>Кредиты, полученные в валюте Российской Федера...</td>\n",
              "      <td>-5800000.0</td>\n",
              "      <td>-5800000.0</td>\n",
              "      <td>...</td>\n",
              "      <td>False</td>\n",
              "      <td>False</td>\n",
              "      <td>False</td>\n",
              "      <td>False</td>\n",
              "      <td>False</td>\n",
              "      <td>False</td>\n",
              "      <td>False</td>\n",
              "      <td>False</td>\n",
              "      <td>False</td>\n",
              "      <td>0</td>\n",
              "    </tr>\n",
              "    <tr>\n",
              "      <th>2</th>\n",
              "      <td>2007 год</td>\n",
              "      <td>Гос</td>\n",
              "      <td>000</td>\n",
              "      <td>Российская Федерация</td>\n",
              "      <td>0.0</td>\n",
              "      <td>000</td>\n",
              "      <td>01010000010000710</td>\n",
              "      <td>Размещение государственных ценных бумаг  Росси...</td>\n",
              "      <td>7.0</td>\n",
              "      <td>109998.0</td>\n",
              "      <td>...</td>\n",
              "      <td>False</td>\n",
              "      <td>False</td>\n",
              "      <td>False</td>\n",
              "      <td>False</td>\n",
              "      <td>False</td>\n",
              "      <td>False</td>\n",
              "      <td>False</td>\n",
              "      <td>False</td>\n",
              "      <td>False</td>\n",
              "      <td>0</td>\n",
              "    </tr>\n",
              "    <tr>\n",
              "      <th>3</th>\n",
              "      <td>2007 год</td>\n",
              "      <td>Гос</td>\n",
              "      <td>000</td>\n",
              "      <td>Российская Федерация</td>\n",
              "      <td>3.0</td>\n",
              "      <td>000</td>\n",
              "      <td>01010000010000710</td>\n",
              "      <td>Размещение государственных ценных бумаг  Росси...</td>\n",
              "      <td>6.0</td>\n",
              "      <td>18.0</td>\n",
              "      <td>...</td>\n",
              "      <td>False</td>\n",
              "      <td>False</td>\n",
              "      <td>False</td>\n",
              "      <td>False</td>\n",
              "      <td>False</td>\n",
              "      <td>False</td>\n",
              "      <td>False</td>\n",
              "      <td>False</td>\n",
              "      <td>False</td>\n",
              "      <td>0</td>\n",
              "    </tr>\n",
              "    <tr>\n",
              "      <th>4</th>\n",
              "      <td>2007 год</td>\n",
              "      <td>Гос</td>\n",
              "      <td>000</td>\n",
              "      <td>Российская Федерация</td>\n",
              "      <td>2.0</td>\n",
              "      <td>000</td>\n",
              "      <td>01010000010000710</td>\n",
              "      <td>Размещение государственных ценных бумаг  Росси...</td>\n",
              "      <td>2.0</td>\n",
              "      <td>6.0</td>\n",
              "      <td>...</td>\n",
              "      <td>False</td>\n",
              "      <td>False</td>\n",
              "      <td>False</td>\n",
              "      <td>False</td>\n",
              "      <td>False</td>\n",
              "      <td>False</td>\n",
              "      <td>False</td>\n",
              "      <td>False</td>\n",
              "      <td>False</td>\n",
              "      <td>0</td>\n",
              "    </tr>\n",
              "    <tr>\n",
              "      <th>...</th>\n",
              "      <td>...</td>\n",
              "      <td>...</td>\n",
              "      <td>...</td>\n",
              "      <td>...</td>\n",
              "      <td>...</td>\n",
              "      <td>...</td>\n",
              "      <td>...</td>\n",
              "      <td>...</td>\n",
              "      <td>...</td>\n",
              "      <td>...</td>\n",
              "      <td>...</td>\n",
              "      <td>...</td>\n",
              "      <td>...</td>\n",
              "      <td>...</td>\n",
              "      <td>...</td>\n",
              "      <td>...</td>\n",
              "      <td>...</td>\n",
              "      <td>...</td>\n",
              "      <td>...</td>\n",
              "      <td>...</td>\n",
              "      <td>...</td>\n",
              "    </tr>\n",
              "    <tr>\n",
              "      <th>16378</th>\n",
              "      <td>Январь 2020 года</td>\n",
              "      <td>Рег</td>\n",
              "      <td>01</td>\n",
              "      <td>Республика Башкортостан</td>\n",
              "      <td>2.0</td>\n",
              "      <td>048</td>\n",
              "      <td>01010000000000000</td>\n",
              "      <td>Государственные (муниципальные) ценные бумаги,...</td>\n",
              "      <td>40.0</td>\n",
              "      <td>5.0</td>\n",
              "      <td>...</td>\n",
              "      <td>False</td>\n",
              "      <td>False</td>\n",
              "      <td>False</td>\n",
              "      <td>False</td>\n",
              "      <td>False</td>\n",
              "      <td>False</td>\n",
              "      <td>False</td>\n",
              "      <td>False</td>\n",
              "      <td>False</td>\n",
              "      <td>0</td>\n",
              "    </tr>\n",
              "    <tr>\n",
              "      <th>16379</th>\n",
              "      <td>Январь 2020 года</td>\n",
              "      <td>Рег</td>\n",
              "      <td>01</td>\n",
              "      <td>Республика Башкортостан</td>\n",
              "      <td>2.0</td>\n",
              "      <td>048</td>\n",
              "      <td>02050000040000820</td>\n",
              "      <td>Погашение бюджетами городских округов бюджетны...</td>\n",
              "      <td>1.0</td>\n",
              "      <td>NaN</td>\n",
              "      <td>...</td>\n",
              "      <td>False</td>\n",
              "      <td>False</td>\n",
              "      <td>False</td>\n",
              "      <td>False</td>\n",
              "      <td>False</td>\n",
              "      <td>False</td>\n",
              "      <td>False</td>\n",
              "      <td>True</td>\n",
              "      <td>False</td>\n",
              "      <td>1</td>\n",
              "    </tr>\n",
              "    <tr>\n",
              "      <th>16380</th>\n",
              "      <td>Январь 2020 года</td>\n",
              "      <td>Рег</td>\n",
              "      <td>01</td>\n",
              "      <td>Республика Башкортостан</td>\n",
              "      <td>2.0</td>\n",
              "      <td>048</td>\n",
              "      <td>02050000030000820</td>\n",
              "      <td>Погашение бюджетами внутригородских муниципаль...</td>\n",
              "      <td>1.0</td>\n",
              "      <td>NaN</td>\n",
              "      <td>...</td>\n",
              "      <td>False</td>\n",
              "      <td>False</td>\n",
              "      <td>False</td>\n",
              "      <td>False</td>\n",
              "      <td>False</td>\n",
              "      <td>False</td>\n",
              "      <td>False</td>\n",
              "      <td>True</td>\n",
              "      <td>False</td>\n",
              "      <td>1</td>\n",
              "    </tr>\n",
              "    <tr>\n",
              "      <th>16381</th>\n",
              "      <td>Январь 2020 года</td>\n",
              "      <td>Рег</td>\n",
              "      <td>01</td>\n",
              "      <td>Республика Башкортостан</td>\n",
              "      <td>2.0</td>\n",
              "      <td>048</td>\n",
              "      <td>02050000110000820</td>\n",
              "      <td>Погашение бюджетами городских округов с внутри...</td>\n",
              "      <td>1.0</td>\n",
              "      <td>NaN</td>\n",
              "      <td>...</td>\n",
              "      <td>False</td>\n",
              "      <td>False</td>\n",
              "      <td>False</td>\n",
              "      <td>False</td>\n",
              "      <td>False</td>\n",
              "      <td>False</td>\n",
              "      <td>False</td>\n",
              "      <td>True</td>\n",
              "      <td>False</td>\n",
              "      <td>1</td>\n",
              "    </tr>\n",
              "    <tr>\n",
              "      <th>16382</th>\n",
              "      <td>(16382 row(s) affected)</td>\n",
              "      <td>NaN</td>\n",
              "      <td>NaN</td>\n",
              "      <td>NaN</td>\n",
              "      <td>NaN</td>\n",
              "      <td>NaN</td>\n",
              "      <td>NaN</td>\n",
              "      <td>NaN</td>\n",
              "      <td>NaN</td>\n",
              "      <td>NaN</td>\n",
              "      <td>...</td>\n",
              "      <td>True</td>\n",
              "      <td>True</td>\n",
              "      <td>True</td>\n",
              "      <td>True</td>\n",
              "      <td>True</td>\n",
              "      <td>True</td>\n",
              "      <td>True</td>\n",
              "      <td>True</td>\n",
              "      <td>True</td>\n",
              "      <td>10</td>\n",
              "    </tr>\n",
              "  </tbody>\n",
              "</table>\n",
              "<p>16111 rows × 22 columns</p>\n",
              "</div>\n",
              "      <button class=\"colab-df-convert\" onclick=\"convertToInteractive('df-3a95cc8a-5afe-48ad-8b7a-625b1e8149d0')\"\n",
              "              title=\"Convert this dataframe to an interactive table.\"\n",
              "              style=\"display:none;\">\n",
              "        \n",
              "  <svg xmlns=\"http://www.w3.org/2000/svg\" height=\"24px\"viewBox=\"0 0 24 24\"\n",
              "       width=\"24px\">\n",
              "    <path d=\"M0 0h24v24H0V0z\" fill=\"none\"/>\n",
              "    <path d=\"M18.56 5.44l.94 2.06.94-2.06 2.06-.94-2.06-.94-.94-2.06-.94 2.06-2.06.94zm-11 1L8.5 8.5l.94-2.06 2.06-.94-2.06-.94L8.5 2.5l-.94 2.06-2.06.94zm10 10l.94 2.06.94-2.06 2.06-.94-2.06-.94-.94-2.06-.94 2.06-2.06.94z\"/><path d=\"M17.41 7.96l-1.37-1.37c-.4-.4-.92-.59-1.43-.59-.52 0-1.04.2-1.43.59L10.3 9.45l-7.72 7.72c-.78.78-.78 2.05 0 2.83L4 21.41c.39.39.9.59 1.41.59.51 0 1.02-.2 1.41-.59l7.78-7.78 2.81-2.81c.8-.78.8-2.07 0-2.86zM5.41 20L4 18.59l7.72-7.72 1.47 1.35L5.41 20z\"/>\n",
              "  </svg>\n",
              "      </button>\n",
              "      \n",
              "  <style>\n",
              "    .colab-df-container {\n",
              "      display:flex;\n",
              "      flex-wrap:wrap;\n",
              "      gap: 12px;\n",
              "    }\n",
              "\n",
              "    .colab-df-convert {\n",
              "      background-color: #E8F0FE;\n",
              "      border: none;\n",
              "      border-radius: 50%;\n",
              "      cursor: pointer;\n",
              "      display: none;\n",
              "      fill: #1967D2;\n",
              "      height: 32px;\n",
              "      padding: 0 0 0 0;\n",
              "      width: 32px;\n",
              "    }\n",
              "\n",
              "    .colab-df-convert:hover {\n",
              "      background-color: #E2EBFA;\n",
              "      box-shadow: 0px 1px 2px rgba(60, 64, 67, 0.3), 0px 1px 3px 1px rgba(60, 64, 67, 0.15);\n",
              "      fill: #174EA6;\n",
              "    }\n",
              "\n",
              "    [theme=dark] .colab-df-convert {\n",
              "      background-color: #3B4455;\n",
              "      fill: #D2E3FC;\n",
              "    }\n",
              "\n",
              "    [theme=dark] .colab-df-convert:hover {\n",
              "      background-color: #434B5C;\n",
              "      box-shadow: 0px 1px 3px 1px rgba(0, 0, 0, 0.15);\n",
              "      filter: drop-shadow(0px 1px 2px rgba(0, 0, 0, 0.3));\n",
              "      fill: #FFFFFF;\n",
              "    }\n",
              "  </style>\n",
              "\n",
              "      <script>\n",
              "        const buttonEl =\n",
              "          document.querySelector('#df-3a95cc8a-5afe-48ad-8b7a-625b1e8149d0 button.colab-df-convert');\n",
              "        buttonEl.style.display =\n",
              "          google.colab.kernel.accessAllowed ? 'block' : 'none';\n",
              "\n",
              "        async function convertToInteractive(key) {\n",
              "          const element = document.querySelector('#df-3a95cc8a-5afe-48ad-8b7a-625b1e8149d0');\n",
              "          const dataTable =\n",
              "            await google.colab.kernel.invokeFunction('convertToInteractive',\n",
              "                                                     [key], {});\n",
              "          if (!dataTable) return;\n",
              "\n",
              "          const docLinkHtml = 'Like what you see? Visit the ' +\n",
              "            '<a target=\"_blank\" href=https://colab.research.google.com/notebooks/data_table.ipynb>data table notebook</a>'\n",
              "            + ' to learn more about interactive tables.';\n",
              "          element.innerHTML = '';\n",
              "          dataTable['output_type'] = 'display_data';\n",
              "          await google.colab.output.renderOutput(dataTable, element);\n",
              "          const docLink = document.createElement('div');\n",
              "          docLink.innerHTML = docLinkHtml;\n",
              "          element.appendChild(docLink);\n",
              "        }\n",
              "      </script>\n",
              "    </div>\n",
              "  </div>\n",
              "  "
            ]
          },
          "metadata": {},
          "execution_count": 82
        }
      ]
    },
    {
      "cell_type": "code",
      "source": [
        "print('Количество строк в датасете после очистки: ', len(df_f))\n",
        "print('Суммарное количество отсутсвующих значений (Nan) в датасете: ', (len(df_f) - df_f.count()).sum())"
      ],
      "metadata": {
        "colab": {
          "base_uri": "https://localhost:8080/"
        },
        "outputId": "123dd75b-ea57-4fb0-a6c4-0ef0eb6f7bd9",
        "id": "WN3RDjMVypYq"
      },
      "execution_count": null,
      "outputs": [
        {
          "output_type": "stream",
          "name": "stdout",
          "text": [
            "Количество строк в датасете после очистки:  16111\n",
            "Суммарное количество отсутсвующих значений (Nan) в датасете:  7928\n"
          ]
        }
      ]
    },
    {
      "cell_type": "code",
      "source": [
        "del df_f['Source_Code_ismissing']\t\n",
        "del df_f['Source_Name_ismissing']\t\t\n",
        "del df_f['ВБ_ismissing']\t\t\n",
        "del df_f['Адм_ismissing']\t\t\n",
        "del df_f['ИФ_ismissing']\t\t\n",
        "del df_f['ИФ Name_ismissing']\t\t\n",
        "del df_f['Утвержденные бюджетные назначения_ismissing']\t\t\n",
        "del df_f['Исполнено_ismissing']\t\t\n",
        "del df_f['Неисполненные назначения_ismissing']\t\t\n",
        "del df_f['num_missing']\t\n",
        "del df_f['Source_Catalog_Code_ismissing']"
      ],
      "metadata": {
        "id": "sAxgbzBDypYq"
      },
      "execution_count": null,
      "outputs": []
    },
    {
      "cell_type": "code",
      "source": [
        "df_f"
      ],
      "metadata": {
        "colab": {
          "base_uri": "https://localhost:8080/",
          "height": 571
        },
        "outputId": "ff41820e-e775-445c-eb43-906e4c27ad30",
        "id": "YsLrETCFypYq"
      },
      "execution_count": null,
      "outputs": [
        {
          "output_type": "execute_result",
          "data": {
            "text/plain": [
              "                   Period_Name Source_Catalog_Code Source_Code  \\\n",
              "0                     2007 год                 Гос         000   \n",
              "1                     2007 год                 Гос         000   \n",
              "2                     2007 год                 Гос         000   \n",
              "3                     2007 год                 Гос         000   \n",
              "4                     2007 год                 Гос         000   \n",
              "...                        ...                 ...         ...   \n",
              "16378         Январь 2020 года                 Рег          01   \n",
              "16379         Январь 2020 года                 Рег          01   \n",
              "16380         Январь 2020 года                 Рег          01   \n",
              "16381         Январь 2020 года                 Рег          01   \n",
              "16382  (16382 row(s) affected)                 NaN         NaN   \n",
              "\n",
              "                   Source_Name    ВБ  Адм                 ИФ  \\\n",
              "0         Российская Федерация  10.0  000  02010100100000710   \n",
              "1         Российская Федерация   5.0  000  02010200050000810   \n",
              "2         Российская Федерация   0.0  000  01010000010000710   \n",
              "3         Российская Федерация   3.0  000  01010000010000710   \n",
              "4         Российская Федерация   2.0  000  01010000010000710   \n",
              "...                        ...   ...  ...                ...   \n",
              "16378  Республика Башкортостан   2.0  048  01010000000000000   \n",
              "16379  Республика Башкортостан   2.0  048  02050000040000820   \n",
              "16380  Республика Башкортостан   2.0  048  02050000030000820   \n",
              "16381  Республика Башкортостан   2.0  048  02050000110000820   \n",
              "16382                      NaN   NaN  NaN                NaN   \n",
              "\n",
              "                                                 ИФ Name  \\\n",
              "0      Бюджетные кредиты, полученные от других бюджет...   \n",
              "1      Кредиты, полученные в валюте Российской Федера...   \n",
              "2      Размещение государственных ценных бумаг  Росси...   \n",
              "3      Размещение государственных ценных бумаг  Росси...   \n",
              "4      Размещение государственных ценных бумаг  Росси...   \n",
              "...                                                  ...   \n",
              "16378  Государственные (муниципальные) ценные бумаги,...   \n",
              "16379  Погашение бюджетами городских округов бюджетны...   \n",
              "16380  Погашение бюджетами внутригородских муниципаль...   \n",
              "16381  Погашение бюджетами городских округов с внутри...   \n",
              "16382                                                NaN   \n",
              "\n",
              "       Утвержденные бюджетные назначения   Исполнено  Неисполненные назначения  \n",
              "0                             14907900.0  13500000.0                 1407900.0  \n",
              "1                             -5800000.0  -5800000.0                       0.0  \n",
              "2                                    7.0    109998.0                 -109991.0  \n",
              "3                                    6.0        18.0                     -12.0  \n",
              "4                                    2.0         6.0                      -4.0  \n",
              "...                                  ...         ...                       ...  \n",
              "16378                               40.0         5.0                      35.0  \n",
              "16379                                1.0         NaN                       1.0  \n",
              "16380                                1.0         NaN                       1.0  \n",
              "16381                                1.0         NaN                       1.0  \n",
              "16382                                NaN         NaN                       NaN  \n",
              "\n",
              "[16111 rows x 11 columns]"
            ],
            "text/html": [
              "\n",
              "  <div id=\"df-260a5920-b71b-4d93-8f52-8357b51240d5\">\n",
              "    <div class=\"colab-df-container\">\n",
              "      <div>\n",
              "<style scoped>\n",
              "    .dataframe tbody tr th:only-of-type {\n",
              "        vertical-align: middle;\n",
              "    }\n",
              "\n",
              "    .dataframe tbody tr th {\n",
              "        vertical-align: top;\n",
              "    }\n",
              "\n",
              "    .dataframe thead th {\n",
              "        text-align: right;\n",
              "    }\n",
              "</style>\n",
              "<table border=\"1\" class=\"dataframe\">\n",
              "  <thead>\n",
              "    <tr style=\"text-align: right;\">\n",
              "      <th></th>\n",
              "      <th>Period_Name</th>\n",
              "      <th>Source_Catalog_Code</th>\n",
              "      <th>Source_Code</th>\n",
              "      <th>Source_Name</th>\n",
              "      <th>ВБ</th>\n",
              "      <th>Адм</th>\n",
              "      <th>ИФ</th>\n",
              "      <th>ИФ Name</th>\n",
              "      <th>Утвержденные бюджетные назначения</th>\n",
              "      <th>Исполнено</th>\n",
              "      <th>Неисполненные назначения</th>\n",
              "    </tr>\n",
              "  </thead>\n",
              "  <tbody>\n",
              "    <tr>\n",
              "      <th>0</th>\n",
              "      <td>2007 год</td>\n",
              "      <td>Гос</td>\n",
              "      <td>000</td>\n",
              "      <td>Российская Федерация</td>\n",
              "      <td>10.0</td>\n",
              "      <td>000</td>\n",
              "      <td>02010100100000710</td>\n",
              "      <td>Бюджетные кредиты, полученные от других бюджет...</td>\n",
              "      <td>14907900.0</td>\n",
              "      <td>13500000.0</td>\n",
              "      <td>1407900.0</td>\n",
              "    </tr>\n",
              "    <tr>\n",
              "      <th>1</th>\n",
              "      <td>2007 год</td>\n",
              "      <td>Гос</td>\n",
              "      <td>000</td>\n",
              "      <td>Российская Федерация</td>\n",
              "      <td>5.0</td>\n",
              "      <td>000</td>\n",
              "      <td>02010200050000810</td>\n",
              "      <td>Кредиты, полученные в валюте Российской Федера...</td>\n",
              "      <td>-5800000.0</td>\n",
              "      <td>-5800000.0</td>\n",
              "      <td>0.0</td>\n",
              "    </tr>\n",
              "    <tr>\n",
              "      <th>2</th>\n",
              "      <td>2007 год</td>\n",
              "      <td>Гос</td>\n",
              "      <td>000</td>\n",
              "      <td>Российская Федерация</td>\n",
              "      <td>0.0</td>\n",
              "      <td>000</td>\n",
              "      <td>01010000010000710</td>\n",
              "      <td>Размещение государственных ценных бумаг  Росси...</td>\n",
              "      <td>7.0</td>\n",
              "      <td>109998.0</td>\n",
              "      <td>-109991.0</td>\n",
              "    </tr>\n",
              "    <tr>\n",
              "      <th>3</th>\n",
              "      <td>2007 год</td>\n",
              "      <td>Гос</td>\n",
              "      <td>000</td>\n",
              "      <td>Российская Федерация</td>\n",
              "      <td>3.0</td>\n",
              "      <td>000</td>\n",
              "      <td>01010000010000710</td>\n",
              "      <td>Размещение государственных ценных бумаг  Росси...</td>\n",
              "      <td>6.0</td>\n",
              "      <td>18.0</td>\n",
              "      <td>-12.0</td>\n",
              "    </tr>\n",
              "    <tr>\n",
              "      <th>4</th>\n",
              "      <td>2007 год</td>\n",
              "      <td>Гос</td>\n",
              "      <td>000</td>\n",
              "      <td>Российская Федерация</td>\n",
              "      <td>2.0</td>\n",
              "      <td>000</td>\n",
              "      <td>01010000010000710</td>\n",
              "      <td>Размещение государственных ценных бумаг  Росси...</td>\n",
              "      <td>2.0</td>\n",
              "      <td>6.0</td>\n",
              "      <td>-4.0</td>\n",
              "    </tr>\n",
              "    <tr>\n",
              "      <th>...</th>\n",
              "      <td>...</td>\n",
              "      <td>...</td>\n",
              "      <td>...</td>\n",
              "      <td>...</td>\n",
              "      <td>...</td>\n",
              "      <td>...</td>\n",
              "      <td>...</td>\n",
              "      <td>...</td>\n",
              "      <td>...</td>\n",
              "      <td>...</td>\n",
              "      <td>...</td>\n",
              "    </tr>\n",
              "    <tr>\n",
              "      <th>16378</th>\n",
              "      <td>Январь 2020 года</td>\n",
              "      <td>Рег</td>\n",
              "      <td>01</td>\n",
              "      <td>Республика Башкортостан</td>\n",
              "      <td>2.0</td>\n",
              "      <td>048</td>\n",
              "      <td>01010000000000000</td>\n",
              "      <td>Государственные (муниципальные) ценные бумаги,...</td>\n",
              "      <td>40.0</td>\n",
              "      <td>5.0</td>\n",
              "      <td>35.0</td>\n",
              "    </tr>\n",
              "    <tr>\n",
              "      <th>16379</th>\n",
              "      <td>Январь 2020 года</td>\n",
              "      <td>Рег</td>\n",
              "      <td>01</td>\n",
              "      <td>Республика Башкортостан</td>\n",
              "      <td>2.0</td>\n",
              "      <td>048</td>\n",
              "      <td>02050000040000820</td>\n",
              "      <td>Погашение бюджетами городских округов бюджетны...</td>\n",
              "      <td>1.0</td>\n",
              "      <td>NaN</td>\n",
              "      <td>1.0</td>\n",
              "    </tr>\n",
              "    <tr>\n",
              "      <th>16380</th>\n",
              "      <td>Январь 2020 года</td>\n",
              "      <td>Рег</td>\n",
              "      <td>01</td>\n",
              "      <td>Республика Башкортостан</td>\n",
              "      <td>2.0</td>\n",
              "      <td>048</td>\n",
              "      <td>02050000030000820</td>\n",
              "      <td>Погашение бюджетами внутригородских муниципаль...</td>\n",
              "      <td>1.0</td>\n",
              "      <td>NaN</td>\n",
              "      <td>1.0</td>\n",
              "    </tr>\n",
              "    <tr>\n",
              "      <th>16381</th>\n",
              "      <td>Январь 2020 года</td>\n",
              "      <td>Рег</td>\n",
              "      <td>01</td>\n",
              "      <td>Республика Башкортостан</td>\n",
              "      <td>2.0</td>\n",
              "      <td>048</td>\n",
              "      <td>02050000110000820</td>\n",
              "      <td>Погашение бюджетами городских округов с внутри...</td>\n",
              "      <td>1.0</td>\n",
              "      <td>NaN</td>\n",
              "      <td>1.0</td>\n",
              "    </tr>\n",
              "    <tr>\n",
              "      <th>16382</th>\n",
              "      <td>(16382 row(s) affected)</td>\n",
              "      <td>NaN</td>\n",
              "      <td>NaN</td>\n",
              "      <td>NaN</td>\n",
              "      <td>NaN</td>\n",
              "      <td>NaN</td>\n",
              "      <td>NaN</td>\n",
              "      <td>NaN</td>\n",
              "      <td>NaN</td>\n",
              "      <td>NaN</td>\n",
              "      <td>NaN</td>\n",
              "    </tr>\n",
              "  </tbody>\n",
              "</table>\n",
              "<p>16111 rows × 11 columns</p>\n",
              "</div>\n",
              "      <button class=\"colab-df-convert\" onclick=\"convertToInteractive('df-260a5920-b71b-4d93-8f52-8357b51240d5')\"\n",
              "              title=\"Convert this dataframe to an interactive table.\"\n",
              "              style=\"display:none;\">\n",
              "        \n",
              "  <svg xmlns=\"http://www.w3.org/2000/svg\" height=\"24px\"viewBox=\"0 0 24 24\"\n",
              "       width=\"24px\">\n",
              "    <path d=\"M0 0h24v24H0V0z\" fill=\"none\"/>\n",
              "    <path d=\"M18.56 5.44l.94 2.06.94-2.06 2.06-.94-2.06-.94-.94-2.06-.94 2.06-2.06.94zm-11 1L8.5 8.5l.94-2.06 2.06-.94-2.06-.94L8.5 2.5l-.94 2.06-2.06.94zm10 10l.94 2.06.94-2.06 2.06-.94-2.06-.94-.94-2.06-.94 2.06-2.06.94z\"/><path d=\"M17.41 7.96l-1.37-1.37c-.4-.4-.92-.59-1.43-.59-.52 0-1.04.2-1.43.59L10.3 9.45l-7.72 7.72c-.78.78-.78 2.05 0 2.83L4 21.41c.39.39.9.59 1.41.59.51 0 1.02-.2 1.41-.59l7.78-7.78 2.81-2.81c.8-.78.8-2.07 0-2.86zM5.41 20L4 18.59l7.72-7.72 1.47 1.35L5.41 20z\"/>\n",
              "  </svg>\n",
              "      </button>\n",
              "      \n",
              "  <style>\n",
              "    .colab-df-container {\n",
              "      display:flex;\n",
              "      flex-wrap:wrap;\n",
              "      gap: 12px;\n",
              "    }\n",
              "\n",
              "    .colab-df-convert {\n",
              "      background-color: #E8F0FE;\n",
              "      border: none;\n",
              "      border-radius: 50%;\n",
              "      cursor: pointer;\n",
              "      display: none;\n",
              "      fill: #1967D2;\n",
              "      height: 32px;\n",
              "      padding: 0 0 0 0;\n",
              "      width: 32px;\n",
              "    }\n",
              "\n",
              "    .colab-df-convert:hover {\n",
              "      background-color: #E2EBFA;\n",
              "      box-shadow: 0px 1px 2px rgba(60, 64, 67, 0.3), 0px 1px 3px 1px rgba(60, 64, 67, 0.15);\n",
              "      fill: #174EA6;\n",
              "    }\n",
              "\n",
              "    [theme=dark] .colab-df-convert {\n",
              "      background-color: #3B4455;\n",
              "      fill: #D2E3FC;\n",
              "    }\n",
              "\n",
              "    [theme=dark] .colab-df-convert:hover {\n",
              "      background-color: #434B5C;\n",
              "      box-shadow: 0px 1px 3px 1px rgba(0, 0, 0, 0.15);\n",
              "      filter: drop-shadow(0px 1px 2px rgba(0, 0, 0, 0.3));\n",
              "      fill: #FFFFFF;\n",
              "    }\n",
              "  </style>\n",
              "\n",
              "      <script>\n",
              "        const buttonEl =\n",
              "          document.querySelector('#df-260a5920-b71b-4d93-8f52-8357b51240d5 button.colab-df-convert');\n",
              "        buttonEl.style.display =\n",
              "          google.colab.kernel.accessAllowed ? 'block' : 'none';\n",
              "\n",
              "        async function convertToInteractive(key) {\n",
              "          const element = document.querySelector('#df-260a5920-b71b-4d93-8f52-8357b51240d5');\n",
              "          const dataTable =\n",
              "            await google.colab.kernel.invokeFunction('convertToInteractive',\n",
              "                                                     [key], {});\n",
              "          if (!dataTable) return;\n",
              "\n",
              "          const docLinkHtml = 'Like what you see? Visit the ' +\n",
              "            '<a target=\"_blank\" href=https://colab.research.google.com/notebooks/data_table.ipynb>data table notebook</a>'\n",
              "            + ' to learn more about interactive tables.';\n",
              "          element.innerHTML = '';\n",
              "          dataTable['output_type'] = 'display_data';\n",
              "          await google.colab.output.renderOutput(dataTable, element);\n",
              "          const docLink = document.createElement('div');\n",
              "          docLink.innerHTML = docLinkHtml;\n",
              "          element.appendChild(docLink);\n",
              "        }\n",
              "      </script>\n",
              "    </div>\n",
              "  </div>\n",
              "  "
            ]
          },
          "metadata": {},
          "execution_count": 85
        }
      ]
    },
    {
      "cell_type": "markdown",
      "source": [
        "По результатам разведочного анализа выяснено, что во входном наборе данных в колонках могут быть значения \"НЕ ВЫЧИСЛЕН\". В целях понижения размерности задачи такие значения следует удалять в силу неинформативности. Для автоматизации этого процесса создана такая-то функция del_not_counted"
      ],
      "metadata": {
        "id": "nTHzthAOKiMT"
      }
    },
    {
      "cell_type": "code",
      "source": [
        "def del_not_counted(df):\n",
        "  df_1 = df.copy()\n",
        "  df_1 = df_1[df_1['Source_Catalog_Code'] != 'НЕ ВЫЧИСЛЕН']\n",
        "  return df_1"
      ],
      "metadata": {
        "id": "69haRJJ-KiMU"
      },
      "execution_count": null,
      "outputs": []
    },
    {
      "cell_type": "code",
      "source": [
        "df_f = del_not_counted(df_f)"
      ],
      "metadata": {
        "id": "wzTgegotKiMV"
      },
      "execution_count": null,
      "outputs": []
    },
    {
      "cell_type": "markdown",
      "source": [
        "Стоит помнить, что 'Source_Code' и 'Source_Name' являются разными атрибутами."
      ],
      "metadata": {
        "id": "IpYnsGO764pH"
      }
    },
    {
      "cell_type": "code",
      "source": [
        "tt = df_f['Source_Code'].unique()\n",
        "ttt = []\n",
        "for i in tt:\n",
        "  ttt+=[x for x in df_f[df_f['Source_Code'] == i].Source_Name.unique()]\n",
        "if len(tt) == len(ttt):\n",
        "  print('поля дублируются')\n",
        "else:\n",
        "  print('поля не дублируют друг друга')"
      ],
      "metadata": {
        "colab": {
          "base_uri": "https://localhost:8080/"
        },
        "outputId": "60d03652-0620-416b-8055-95dc4c4f46ed",
        "id": "TQlqHJ-A64pH"
      },
      "execution_count": null,
      "outputs": [
        {
          "output_type": "stream",
          "name": "stdout",
          "text": [
            "поля не дублируют друг друга\n"
          ]
        }
      ]
    },
    {
      "cell_type": "markdown",
      "source": [
        "Окончательная версия датафрейма, готового к экспорту в csv-файл:"
      ],
      "metadata": {
        "id": "dPliR11C8bHG"
      }
    },
    {
      "cell_type": "code",
      "source": [
        "df_f "
      ],
      "metadata": {
        "colab": {
          "base_uri": "https://localhost:8080/",
          "height": 571
        },
        "id": "zueRbO178bQ2",
        "outputId": "64181040-a5a3-4702-cca5-ce2ca2abac39"
      },
      "execution_count": null,
      "outputs": [
        {
          "output_type": "execute_result",
          "data": {
            "text/plain": [
              "                   Period_Name Source_Catalog_Code Source_Code  \\\n",
              "0                     2007 год                 Гос         000   \n",
              "1                     2007 год                 Гос         000   \n",
              "2                     2007 год                 Гос         000   \n",
              "3                     2007 год                 Гос         000   \n",
              "4                     2007 год                 Гос         000   \n",
              "...                        ...                 ...         ...   \n",
              "16378         Январь 2020 года                 Рег          01   \n",
              "16379         Январь 2020 года                 Рег          01   \n",
              "16380         Январь 2020 года                 Рег          01   \n",
              "16381         Январь 2020 года                 Рег          01   \n",
              "16382  (16382 row(s) affected)                 NaN         NaN   \n",
              "\n",
              "                   Source_Name    ВБ  Адм                 ИФ  \\\n",
              "0         Российская Федерация  10.0  000  02010100100000710   \n",
              "1         Российская Федерация   5.0  000  02010200050000810   \n",
              "2         Российская Федерация   0.0  000  01010000010000710   \n",
              "3         Российская Федерация   3.0  000  01010000010000710   \n",
              "4         Российская Федерация   2.0  000  01010000010000710   \n",
              "...                        ...   ...  ...                ...   \n",
              "16378  Республика Башкортостан   2.0  048  01010000000000000   \n",
              "16379  Республика Башкортостан   2.0  048  02050000040000820   \n",
              "16380  Республика Башкортостан   2.0  048  02050000030000820   \n",
              "16381  Республика Башкортостан   2.0  048  02050000110000820   \n",
              "16382                      NaN   NaN  NaN                NaN   \n",
              "\n",
              "                                                 ИФ Name  \\\n",
              "0      Бюджетные кредиты, полученные от других бюджет...   \n",
              "1      Кредиты, полученные в валюте Российской Федера...   \n",
              "2      Размещение государственных ценных бумаг  Росси...   \n",
              "3      Размещение государственных ценных бумаг  Росси...   \n",
              "4      Размещение государственных ценных бумаг  Росси...   \n",
              "...                                                  ...   \n",
              "16378  Государственные (муниципальные) ценные бумаги,...   \n",
              "16379  Погашение бюджетами городских округов бюджетны...   \n",
              "16380  Погашение бюджетами внутригородских муниципаль...   \n",
              "16381  Погашение бюджетами городских округов с внутри...   \n",
              "16382                                                NaN   \n",
              "\n",
              "       Утвержденные бюджетные назначения   Исполнено  Неисполненные назначения  \n",
              "0                             14907900.0  13500000.0                 1407900.0  \n",
              "1                             -5800000.0  -5800000.0                       0.0  \n",
              "2                                    7.0    109998.0                 -109991.0  \n",
              "3                                    6.0        18.0                     -12.0  \n",
              "4                                    2.0         6.0                      -4.0  \n",
              "...                                  ...         ...                       ...  \n",
              "16378                               40.0         5.0                      35.0  \n",
              "16379                                1.0         NaN                       1.0  \n",
              "16380                                1.0         NaN                       1.0  \n",
              "16381                                1.0         NaN                       1.0  \n",
              "16382                                NaN         NaN                       NaN  \n",
              "\n",
              "[15999 rows x 11 columns]"
            ],
            "text/html": [
              "\n",
              "  <div id=\"df-360a10f8-2828-4c12-81ea-f2614d42ea6b\">\n",
              "    <div class=\"colab-df-container\">\n",
              "      <div>\n",
              "<style scoped>\n",
              "    .dataframe tbody tr th:only-of-type {\n",
              "        vertical-align: middle;\n",
              "    }\n",
              "\n",
              "    .dataframe tbody tr th {\n",
              "        vertical-align: top;\n",
              "    }\n",
              "\n",
              "    .dataframe thead th {\n",
              "        text-align: right;\n",
              "    }\n",
              "</style>\n",
              "<table border=\"1\" class=\"dataframe\">\n",
              "  <thead>\n",
              "    <tr style=\"text-align: right;\">\n",
              "      <th></th>\n",
              "      <th>Period_Name</th>\n",
              "      <th>Source_Catalog_Code</th>\n",
              "      <th>Source_Code</th>\n",
              "      <th>Source_Name</th>\n",
              "      <th>ВБ</th>\n",
              "      <th>Адм</th>\n",
              "      <th>ИФ</th>\n",
              "      <th>ИФ Name</th>\n",
              "      <th>Утвержденные бюджетные назначения</th>\n",
              "      <th>Исполнено</th>\n",
              "      <th>Неисполненные назначения</th>\n",
              "    </tr>\n",
              "  </thead>\n",
              "  <tbody>\n",
              "    <tr>\n",
              "      <th>0</th>\n",
              "      <td>2007 год</td>\n",
              "      <td>Гос</td>\n",
              "      <td>000</td>\n",
              "      <td>Российская Федерация</td>\n",
              "      <td>10.0</td>\n",
              "      <td>000</td>\n",
              "      <td>02010100100000710</td>\n",
              "      <td>Бюджетные кредиты, полученные от других бюджет...</td>\n",
              "      <td>14907900.0</td>\n",
              "      <td>13500000.0</td>\n",
              "      <td>1407900.0</td>\n",
              "    </tr>\n",
              "    <tr>\n",
              "      <th>1</th>\n",
              "      <td>2007 год</td>\n",
              "      <td>Гос</td>\n",
              "      <td>000</td>\n",
              "      <td>Российская Федерация</td>\n",
              "      <td>5.0</td>\n",
              "      <td>000</td>\n",
              "      <td>02010200050000810</td>\n",
              "      <td>Кредиты, полученные в валюте Российской Федера...</td>\n",
              "      <td>-5800000.0</td>\n",
              "      <td>-5800000.0</td>\n",
              "      <td>0.0</td>\n",
              "    </tr>\n",
              "    <tr>\n",
              "      <th>2</th>\n",
              "      <td>2007 год</td>\n",
              "      <td>Гос</td>\n",
              "      <td>000</td>\n",
              "      <td>Российская Федерация</td>\n",
              "      <td>0.0</td>\n",
              "      <td>000</td>\n",
              "      <td>01010000010000710</td>\n",
              "      <td>Размещение государственных ценных бумаг  Росси...</td>\n",
              "      <td>7.0</td>\n",
              "      <td>109998.0</td>\n",
              "      <td>-109991.0</td>\n",
              "    </tr>\n",
              "    <tr>\n",
              "      <th>3</th>\n",
              "      <td>2007 год</td>\n",
              "      <td>Гос</td>\n",
              "      <td>000</td>\n",
              "      <td>Российская Федерация</td>\n",
              "      <td>3.0</td>\n",
              "      <td>000</td>\n",
              "      <td>01010000010000710</td>\n",
              "      <td>Размещение государственных ценных бумаг  Росси...</td>\n",
              "      <td>6.0</td>\n",
              "      <td>18.0</td>\n",
              "      <td>-12.0</td>\n",
              "    </tr>\n",
              "    <tr>\n",
              "      <th>4</th>\n",
              "      <td>2007 год</td>\n",
              "      <td>Гос</td>\n",
              "      <td>000</td>\n",
              "      <td>Российская Федерация</td>\n",
              "      <td>2.0</td>\n",
              "      <td>000</td>\n",
              "      <td>01010000010000710</td>\n",
              "      <td>Размещение государственных ценных бумаг  Росси...</td>\n",
              "      <td>2.0</td>\n",
              "      <td>6.0</td>\n",
              "      <td>-4.0</td>\n",
              "    </tr>\n",
              "    <tr>\n",
              "      <th>...</th>\n",
              "      <td>...</td>\n",
              "      <td>...</td>\n",
              "      <td>...</td>\n",
              "      <td>...</td>\n",
              "      <td>...</td>\n",
              "      <td>...</td>\n",
              "      <td>...</td>\n",
              "      <td>...</td>\n",
              "      <td>...</td>\n",
              "      <td>...</td>\n",
              "      <td>...</td>\n",
              "    </tr>\n",
              "    <tr>\n",
              "      <th>16378</th>\n",
              "      <td>Январь 2020 года</td>\n",
              "      <td>Рег</td>\n",
              "      <td>01</td>\n",
              "      <td>Республика Башкортостан</td>\n",
              "      <td>2.0</td>\n",
              "      <td>048</td>\n",
              "      <td>01010000000000000</td>\n",
              "      <td>Государственные (муниципальные) ценные бумаги,...</td>\n",
              "      <td>40.0</td>\n",
              "      <td>5.0</td>\n",
              "      <td>35.0</td>\n",
              "    </tr>\n",
              "    <tr>\n",
              "      <th>16379</th>\n",
              "      <td>Январь 2020 года</td>\n",
              "      <td>Рег</td>\n",
              "      <td>01</td>\n",
              "      <td>Республика Башкортостан</td>\n",
              "      <td>2.0</td>\n",
              "      <td>048</td>\n",
              "      <td>02050000040000820</td>\n",
              "      <td>Погашение бюджетами городских округов бюджетны...</td>\n",
              "      <td>1.0</td>\n",
              "      <td>NaN</td>\n",
              "      <td>1.0</td>\n",
              "    </tr>\n",
              "    <tr>\n",
              "      <th>16380</th>\n",
              "      <td>Январь 2020 года</td>\n",
              "      <td>Рег</td>\n",
              "      <td>01</td>\n",
              "      <td>Республика Башкортостан</td>\n",
              "      <td>2.0</td>\n",
              "      <td>048</td>\n",
              "      <td>02050000030000820</td>\n",
              "      <td>Погашение бюджетами внутригородских муниципаль...</td>\n",
              "      <td>1.0</td>\n",
              "      <td>NaN</td>\n",
              "      <td>1.0</td>\n",
              "    </tr>\n",
              "    <tr>\n",
              "      <th>16381</th>\n",
              "      <td>Январь 2020 года</td>\n",
              "      <td>Рег</td>\n",
              "      <td>01</td>\n",
              "      <td>Республика Башкортостан</td>\n",
              "      <td>2.0</td>\n",
              "      <td>048</td>\n",
              "      <td>02050000110000820</td>\n",
              "      <td>Погашение бюджетами городских округов с внутри...</td>\n",
              "      <td>1.0</td>\n",
              "      <td>NaN</td>\n",
              "      <td>1.0</td>\n",
              "    </tr>\n",
              "    <tr>\n",
              "      <th>16382</th>\n",
              "      <td>(16382 row(s) affected)</td>\n",
              "      <td>NaN</td>\n",
              "      <td>NaN</td>\n",
              "      <td>NaN</td>\n",
              "      <td>NaN</td>\n",
              "      <td>NaN</td>\n",
              "      <td>NaN</td>\n",
              "      <td>NaN</td>\n",
              "      <td>NaN</td>\n",
              "      <td>NaN</td>\n",
              "      <td>NaN</td>\n",
              "    </tr>\n",
              "  </tbody>\n",
              "</table>\n",
              "<p>15999 rows × 11 columns</p>\n",
              "</div>\n",
              "      <button class=\"colab-df-convert\" onclick=\"convertToInteractive('df-360a10f8-2828-4c12-81ea-f2614d42ea6b')\"\n",
              "              title=\"Convert this dataframe to an interactive table.\"\n",
              "              style=\"display:none;\">\n",
              "        \n",
              "  <svg xmlns=\"http://www.w3.org/2000/svg\" height=\"24px\"viewBox=\"0 0 24 24\"\n",
              "       width=\"24px\">\n",
              "    <path d=\"M0 0h24v24H0V0z\" fill=\"none\"/>\n",
              "    <path d=\"M18.56 5.44l.94 2.06.94-2.06 2.06-.94-2.06-.94-.94-2.06-.94 2.06-2.06.94zm-11 1L8.5 8.5l.94-2.06 2.06-.94-2.06-.94L8.5 2.5l-.94 2.06-2.06.94zm10 10l.94 2.06.94-2.06 2.06-.94-2.06-.94-.94-2.06-.94 2.06-2.06.94z\"/><path d=\"M17.41 7.96l-1.37-1.37c-.4-.4-.92-.59-1.43-.59-.52 0-1.04.2-1.43.59L10.3 9.45l-7.72 7.72c-.78.78-.78 2.05 0 2.83L4 21.41c.39.39.9.59 1.41.59.51 0 1.02-.2 1.41-.59l7.78-7.78 2.81-2.81c.8-.78.8-2.07 0-2.86zM5.41 20L4 18.59l7.72-7.72 1.47 1.35L5.41 20z\"/>\n",
              "  </svg>\n",
              "      </button>\n",
              "      \n",
              "  <style>\n",
              "    .colab-df-container {\n",
              "      display:flex;\n",
              "      flex-wrap:wrap;\n",
              "      gap: 12px;\n",
              "    }\n",
              "\n",
              "    .colab-df-convert {\n",
              "      background-color: #E8F0FE;\n",
              "      border: none;\n",
              "      border-radius: 50%;\n",
              "      cursor: pointer;\n",
              "      display: none;\n",
              "      fill: #1967D2;\n",
              "      height: 32px;\n",
              "      padding: 0 0 0 0;\n",
              "      width: 32px;\n",
              "    }\n",
              "\n",
              "    .colab-df-convert:hover {\n",
              "      background-color: #E2EBFA;\n",
              "      box-shadow: 0px 1px 2px rgba(60, 64, 67, 0.3), 0px 1px 3px 1px rgba(60, 64, 67, 0.15);\n",
              "      fill: #174EA6;\n",
              "    }\n",
              "\n",
              "    [theme=dark] .colab-df-convert {\n",
              "      background-color: #3B4455;\n",
              "      fill: #D2E3FC;\n",
              "    }\n",
              "\n",
              "    [theme=dark] .colab-df-convert:hover {\n",
              "      background-color: #434B5C;\n",
              "      box-shadow: 0px 1px 3px 1px rgba(0, 0, 0, 0.15);\n",
              "      filter: drop-shadow(0px 1px 2px rgba(0, 0, 0, 0.3));\n",
              "      fill: #FFFFFF;\n",
              "    }\n",
              "  </style>\n",
              "\n",
              "      <script>\n",
              "        const buttonEl =\n",
              "          document.querySelector('#df-360a10f8-2828-4c12-81ea-f2614d42ea6b button.colab-df-convert');\n",
              "        buttonEl.style.display =\n",
              "          google.colab.kernel.accessAllowed ? 'block' : 'none';\n",
              "\n",
              "        async function convertToInteractive(key) {\n",
              "          const element = document.querySelector('#df-360a10f8-2828-4c12-81ea-f2614d42ea6b');\n",
              "          const dataTable =\n",
              "            await google.colab.kernel.invokeFunction('convertToInteractive',\n",
              "                                                     [key], {});\n",
              "          if (!dataTable) return;\n",
              "\n",
              "          const docLinkHtml = 'Like what you see? Visit the ' +\n",
              "            '<a target=\"_blank\" href=https://colab.research.google.com/notebooks/data_table.ipynb>data table notebook</a>'\n",
              "            + ' to learn more about interactive tables.';\n",
              "          element.innerHTML = '';\n",
              "          dataTable['output_type'] = 'display_data';\n",
              "          await google.colab.output.renderOutput(dataTable, element);\n",
              "          const docLink = document.createElement('div');\n",
              "          docLink.innerHTML = docLinkHtml;\n",
              "          element.appendChild(docLink);\n",
              "        }\n",
              "      </script>\n",
              "    </div>\n",
              "  </div>\n",
              "  "
            ]
          },
          "metadata": {},
          "execution_count": 90
        }
      ]
    },
    {
      "cell_type": "markdown",
      "source": [
        "## Выгрузка файла\n"
      ],
      "metadata": {
        "id": "N8w9VNrpypYr"
      }
    },
    {
      "cell_type": "markdown",
      "source": [
        "Экспортировать обработанный датафрейм можно тремя удобными способами (форматами):\n",
        "- в .csv-формат (экономно по времени);\n",
        "- в .xlsx-формат (занимает около 1 мин., но удобно сразу приступать к работе над дашбордами);\n",
        "- в .txt-формат (экономно по времени, полезно для прочих целей).\n",
        "\n",
        "Кодировка \"UTF-8 со спецификацией\" была выбрана для устранения проблем со считыванием экспортированного файла на корню."
      ],
      "metadata": {
        "id": "_P0GMT7HS7lo"
      }
    },
    {
      "cell_type": "code",
      "source": [
        "df_f.to_excel(path+'out_if.xlsx', encoding=\"utf-8-sig\")"
      ],
      "metadata": {
        "id": "t2AUj3paypYr"
      },
      "execution_count": null,
      "outputs": []
    },
    {
      "cell_type": "code",
      "source": [
        "df_f.to_csv(path+'out_if.txt', encoding=\"utf-8-sig\")"
      ],
      "metadata": {
        "id": "oFgN9LKiypYr"
      },
      "execution_count": null,
      "outputs": []
    },
    {
      "cell_type": "code",
      "source": [
        "df_f.to_csv(path+'out_if.csv', encoding=\"utf-8-sig\")"
      ],
      "metadata": {
        "id": "zFLp3lh5ypYr"
      },
      "execution_count": null,
      "outputs": []
    },
    {
      "cell_type": "markdown",
      "source": [
        "## Заключение"
      ],
      "metadata": {
        "id": "l-3gQABITZ6N"
      }
    },
    {
      "cell_type": "markdown",
      "source": [
        "![](https://sun9-74.userapi.com/s/v1/if2/vvX_s2dMG5BDMj16rHs-ZcPLyvMMP2u6dFxNWqwhc3AcjgKpPiFpSbdClACyxJo5HTs6yh5asbUXteu0G1WOuAIO.jpg?size=1369x790&quality=96&type=album)\n",
        "![](https://sun9-3.userapi.com/s/v1/if2/B06ZlZRU2uoRw8gQgr1aa5GTa48cdBdVRwFeyFN6IYeN1PaGcbFTdiz0VY_H3JprUgsTy_wg4nO4EzAiBT8ZXfL2.jpg?size=518x231&quality=96&type=album)"
      ],
      "metadata": {
        "id": "wsRq0aOxVqKs"
      }
    },
    {
      "cell_type": "markdown",
      "source": [
        "Результаты: \n",
        "- Разработан способ обработки данных (независимый Коннектор);\n",
        "- «Грязные» данные считываются все или с учётом фильтров;\n",
        "- «Чистые» данные считываются все или с учётом фильтров;\n",
        "- «Грязные» данные оцениваются и очищаются (автоматически / с участием пользователя);\n",
        "- Процесс очистки данных параметризирован.\n",
        "\n",
        "- Динамический дашбоард разработан и позволяет:\n",
        "  - Рассматривать данные в различных разрезах (по годам, коду источника каталога, по типу субъекта);\n",
        "  - С применением связанных фильтров;\n",
        "  - Графические элементы используются «разумным» образом;\n",
        "  - Chart-ы позволяют дать экономическую интерпретацию.\n",
        "\n",
        "Список использованных источников:\n",
        " - ***Бизнес-аналитика: от данных к знаниям, учебное пособие*** (Н. Паклин, В.Орешков)\n",
        " - Пособие по визуализации \"Графики. Что вы хотите показать?\"\n",
        " - https://www.youtube.com/watch?v=4roVtL2mynA&list=PLsPotgU_ELTr4CErtpe13uGeCFX93Fiwb\n",
        "\n",
        "\n"
      ],
      "metadata": {
        "id": "8PyaG4BhTcBt"
      }
    }
  ]
}